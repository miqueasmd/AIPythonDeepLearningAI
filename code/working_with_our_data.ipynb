{
 "cells": [
  {
   "cell_type": "code",
   "execution_count": 29,
   "metadata": {},
   "outputs": [],
   "source": [
    "from helper_functions import get_llm_response\n",
    "from IPython.display import display, Markdown\n",
    "from dotenv import load_dotenv\n",
    "import os"
   ]
  },
  {
   "cell_type": "code",
   "execution_count": 30,
   "metadata": {},
   "outputs": [],
   "source": [
    "# Load environment variables from .env file\n",
    "load_dotenv()\n",
    "\n",
    "# Get the base path from environment variables\n",
    "base_path = os.getenv('BASE_PATH')"
   ]
  },
  {
   "cell_type": "code",
   "execution_count": 4,
   "metadata": {},
   "outputs": [
    {
     "name": "stdout",
     "output_type": "stream",
     "text": [
      "**Chicken, Broccoli, and Rice Stir-Fry**\n",
      "\n",
      "**Ingredients:**\n",
      "- 1 lb chicken breast, sliced\n",
      "- 2 cups broccoli florets\n",
      "- 1 cup uncooked rice\n",
      "- 2 tablespoons soy sauce\n",
      "- 1 tablespoon olive oil\n",
      "- 1 teaspoon garlic, minced\n",
      "- Salt and pepper to taste\n",
      "\n",
      "**Instructions:**\n",
      "1. Cook rice according to package instructions; set aside.\n",
      "2. Heat olive oil in a large pan over medium heat. Add chicken slices, season with salt and pepper, and cook until browned and cooked through, about 5-7 minutes.\n",
      "3. Add garlic and broccoli florets to the pan. Stir-fry for 3-4 minutes until broccoli is tender-crisp.\n",
      "4. Stir in cooked rice and soy sauce. Toss everything together until well combined and heated through.\n",
      "5. Adjust seasoning if needed. Serve hot.\n"
     ]
    }
   ],
   "source": [
    "# Write a list of ingredients\n",
    "ingredients = ['chicken', 'broccoli', 'rice']\n",
    "\n",
    "# Write the prompt\n",
    "prompt = f\"\"\"\n",
    "    Create a short recipe that uses the following ingredients:\n",
    "    {ingredients}\n",
    "\"\"\"\n",
    "\n",
    "# Get the response from the LLM\n",
    "response = get_llm_response(prompt)\n",
    "\n",
    "# Print the LLM response\n",
    "print(response)"
   ]
  },
  {
   "cell_type": "code",
   "execution_count": 35,
   "metadata": {},
   "outputs": [],
   "source": [
    "# Construct the full path to the file\n",
    "file_path = os.path.join(base_path, 'data/cape_town.txt')\n",
    "\n",
    "with open(file_path, 'r') as f:\n",
    "    journal = f.read()"
   ]
  },
  {
   "cell_type": "code",
   "execution_count": 36,
   "metadata": {},
   "outputs": [
    {
     "name": "stdout",
     "output_type": "stream",
     "text": [
      "Embarking on a gastronomic journey through Cape Town revealed a city brimming with culinary treasures. Each stop was a testament to the rich flavors and unique dishes that define this vibrant city's food scene.\n",
      "\n",
      "My first destination was The Test Kitchen, a restaurant that has earned its place among the world's best. Situated in the trendy Woodstock area, this dining spot is celebrated for its innovative dishes. I was particularly taken by their signature dish, the \"Pickled Fish Tacos.\" The tangy, flavorful fish wrapped in a soft taco, paired with a zesty salsa, was a delightful start to my culinary adventure. The industrial-chic ambiance added a modern edge to the dining experience.\n",
      "\n",
      "Next, I made my way to La Colombe, perched on the slopes of Constantia. Known for its refined and artistic approach to cuisine, La Colombe's \"Tuna La Colombe\" is a must-try. This dish features perfectly seared tuna, complemented by a delicate ponzu dressing and bursts of citrus. The presentation was as exquisite as the flavors, making it a memorable highlight of the day.\n",
      "\n",
      "For a taste of traditional South African fare, I headed to Gold Restaurant. Located in Green Point, this vibrant eatery offers a culinary tour of the continent. The \"Bobotie,\" a classic Cape Malay dish, stood out with its spiced minced meat topped with a savory custard. The rich, aromatic flavors, combined with the lively African drumming and dance performances, created an immersive cultural experience.\n",
      "\n",
      "At the bustling V&A Waterfront, I visited Harbour House for some of the freshest seafood in town. The \"Grilled Kingklip\" was a revelation. The succulent, flaky fish, grilled to perfection and served with a side of roasted vegetables, highlighted the ocean's bounty. The stunning views of the harbor added to the meal's appeal.\n",
      "\n",
      "Finally, my journey concluded at The Pot Luck Club, another gem in Woodstock. This trendy spot is known for its small plates, perfect for sharing. The standout dish was the \"Beef Tataki.\" Thinly sliced, seared beef with a tangy soy dressing and a hint of wasabi provided a burst of umami and heat. The eclectic, artistic vibe of the restaurant made for a fitting end to my culinary tour.\n"
     ]
    }
   ],
   "source": [
    "print(journal)"
   ]
  },
  {
   "cell_type": "code",
   "execution_count": 40,
   "metadata": {},
   "outputs": [
    {
     "name": "stdout",
     "output_type": "stream",
     "text": [
      "Extract bullet points from the following journal.  \n",
      "\n",
      "Journal:\n",
      "Embarking on a gastronomic journey through Cape Town revealed a city brimming with culinary treasures. Each stop was a testament to the rich flavors and unique dishes that define this vibrant city's food scene.\n",
      "\n",
      "My first destination was The Test Kitchen, a restaurant that has earned its place among the world's best. Situated in the trendy Woodstock area, this dining spot is celebrated for its innovative dishes. I was particularly taken by their signature dish, the \"Pickled Fish Tacos.\" The tangy, flavorful fish wrapped in a soft taco, paired with a zesty salsa, was a delightful start to my culinary adventure. The industrial-chic ambiance added a modern edge to the dining experience.\n",
      "\n",
      "Next, I made my way to La Colombe, perched on the slopes of Constantia. Known for its refined and artistic approach to cuisine, La Colombe's \"Tuna La Colombe\" is a must-try. This dish features perfectly seared tuna, complemented by a delicate ponzu dressing and bursts of citrus. The presentation was as exquisite as the flavors, making it a memorable highlight of the day.\n",
      "\n",
      "For a taste of traditional South African fare, I headed to Gold Restaurant. Located in Green Point, this vibrant eatery offers a culinary tour of the continent. The \"Bobotie,\" a classic Cape Malay dish, stood out with its spiced minced meat topped with a savory custard. The rich, aromatic flavors, combined with the lively African drumming and dance performances, created an immersive cultural experience.\n",
      "\n",
      "At the bustling V&A Waterfront, I visited Harbour House for some of the freshest seafood in town. The \"Grilled Kingklip\" was a revelation. The succulent, flaky fish, grilled to perfection and served with a side of roasted vegetables, highlighted the ocean's bounty. The stunning views of the harbor added to the meal's appeal.\n",
      "\n",
      "Finally, my journey concluded at The Pot Luck Club, another gem in Woodstock. This trendy spot is known for its small plates, perfect for sharing. The standout dish was the \"Beef Tataki.\" Thinly sliced, seared beef with a tangy soy dressing and a hint of wasabi provided a burst of umami and heat. The eclectic, artistic vibe of the restaurant made for a fitting end to my culinary tour.\n"
     ]
    }
   ],
   "source": [
    "prompt = f\"\"\"Extract bullet points from the following journal.  \n",
    "\n",
    "Journal:\n",
    "{journal}\"\"\"\n",
    "\n",
    "print(prompt)"
   ]
  },
  {
   "cell_type": "code",
   "execution_count": 41,
   "metadata": {},
   "outputs": [
    {
     "name": "stdout",
     "output_type": "stream",
     "text": [
      "- Cape Town offers a rich culinary scene with diverse flavors and unique dishes.\n",
      "- The Test Kitchen in Woodstock is renowned for innovative dishes and a modern industrial-chic vibe.\n",
      "  - Highlight: \"Pickled Fish Tacos\" with tangy fish and zesty salsa.\n",
      "- La Colombe in Constantia is known for its artistic and refined cuisine.\n",
      "  - Highlight: \"Tuna La Colombe\" with seared tuna, ponzu dressing, and citrus.\n",
      "- Gold Restaurant in Green Point provides a traditional South African dining experience with vibrant cultural performances.\n",
      "  - Highlight: \"Bobotie\" – a Cape Malay dish with spiced meat and savory custard.\n",
      "- Harbour House at V&A Waterfront specializes in fresh seafood with stunning harbor views.\n",
      "  - Highlight: \"Grilled Kingklip\" – flaky fish with roasted vegetables.\n",
      "- The Pot Luck Club in Woodstock is known for shareable small plates and an eclectic ambiance.\n",
      "  - Highlight: \"Beef Tataki\" with soy dressing and wasabi.\n"
     ]
    }
   ],
   "source": [
    "bullet_points = get_llm_response(prompt)\n",
    "print(bullet_points)"
   ]
  },
  {
   "cell_type": "code",
   "execution_count": 42,
   "metadata": {},
   "outputs": [
    {
     "data": {
      "text/markdown": [
       "- Cape Town offers a rich culinary scene with diverse flavors and unique dishes.\n",
       "- The Test Kitchen in Woodstock is renowned for innovative dishes and a modern industrial-chic vibe.\n",
       "  - Highlight: \"Pickled Fish Tacos\" with tangy fish and zesty salsa.\n",
       "- La Colombe in Constantia is known for its artistic and refined cuisine.\n",
       "  - Highlight: \"Tuna La Colombe\" with seared tuna, ponzu dressing, and citrus.\n",
       "- Gold Restaurant in Green Point provides a traditional South African dining experience with vibrant cultural performances.\n",
       "  - Highlight: \"Bobotie\" – a Cape Malay dish with spiced meat and savory custard.\n",
       "- Harbour House at V&A Waterfront specializes in fresh seafood with stunning harbor views.\n",
       "  - Highlight: \"Grilled Kingklip\" – flaky fish with roasted vegetables.\n",
       "- The Pot Luck Club in Woodstock is known for shareable small plates and an eclectic ambiance.\n",
       "  - Highlight: \"Beef Tataki\" with soy dressing and wasabi."
      ],
      "text/plain": [
       "<IPython.core.display.Markdown object>"
      ]
     },
     "metadata": {},
     "output_type": "display_data"
    }
   ],
   "source": [
    "# Print in Markdown format\n",
    "display(Markdown(bullet_points))"
   ]
  },
  {
   "cell_type": "code",
   "execution_count": 43,
   "metadata": {},
   "outputs": [
    {
     "name": "stdout",
     "output_type": "stream",
     "text": [
      "The restaurants mentioned in the journal are:\n",
      "\n",
      "1. The Test Kitchen\n",
      "2. La Colombe\n",
      "3. Gold Restaurant\n",
      "4. Harbour House\n",
      "5. The Pot Luck Club\n"
     ]
    }
   ],
   "source": [
    "# Complete the code below to identify all of the restaurants mentioned \n",
    "# in the journal\n",
    "prompt = f\"\"\"find all the restaurantes mentioned in the journal\n",
    "\n",
    "Email:\n",
    "{journal}\n",
    "\"\"\"\n",
    "\n",
    "countries = get_llm_response(prompt)\n",
    "print(countries)"
   ]
  },
  {
   "cell_type": "code",
   "execution_count": 44,
   "metadata": {},
   "outputs": [
    {
     "name": "stdout",
     "output_type": "stream",
     "text": [
      "1. Dining at The Test Kitchen\n",
      "2. Eating Pickled Fish Tacos\n",
      "3. Dining at La Colombe\n",
      "4. Eating Tuna La Colombe\n",
      "5. Dining at Gold Restaurant\n",
      "6. Eating Bobotie\n",
      "7. Watching African drumming and dance performances\n",
      "8. Dining at Harbour House\n",
      "9. Eating Grilled Kingklip\n",
      "10. Dining at The Pot Luck Club\n",
      "11. Eating Beef Tataki\n"
     ]
    }
   ],
   "source": [
    "# Write code below to list all of the activities that are mentioned in the journal \n",
    "# You'll need to create a prompt and use either get_llm_response or print_llm_response\n",
    "# START YOUR CODE HERE\n",
    "\n",
    "prompt = f\"list all the activities mentioned Journal: {journal}\"\n",
    "print(get_llm_response(prompt))"
   ]
  },
  {
   "cell_type": "code",
   "execution_count": null,
   "metadata": {},
   "outputs": [],
   "source": []
  }
 ],
 "metadata": {
  "kernelspec": {
   "display_name": "Python 3",
   "language": "python",
   "name": "python3"
  },
  "language_info": {
   "codemirror_mode": {
    "name": "ipython",
    "version": 3
   },
   "file_extension": ".py",
   "mimetype": "text/x-python",
   "name": "python",
   "nbconvert_exporter": "python",
   "pygments_lexer": "ipython3",
   "version": "3.12.6"
  }
 },
 "nbformat": 4,
 "nbformat_minor": 2
}
