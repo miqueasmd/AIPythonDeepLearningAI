{
 "cells": [
  {
   "cell_type": "code",
   "execution_count": 2,
   "metadata": {},
   "outputs": [],
   "source": [
    "from helper_functions import *\n",
    "from IPython.display import display, Markdown, HTML\n",
    "from dotenv import load_dotenv\n",
    "import os\n",
    "import csv"
   ]
  },
  {
   "cell_type": "code",
   "execution_count": 3,
   "metadata": {},
   "outputs": [],
   "source": [
    "# Load environment variables from .env file\n",
    "load_dotenv()\n",
    "\n",
    "# Get the base path from environment variables\n",
    "base_path = os.getenv('BASE_PATH')"
   ]
  },
  {
   "cell_type": "code",
   "execution_count": 4,
   "metadata": {},
   "outputs": [
    {
     "name": "stdout",
     "output_type": "stream",
     "text": [
      "**Chicken, Broccoli, and Rice Stir-Fry**\n",
      "\n",
      "**Ingredients:**\n",
      "- 1 lb chicken breast, diced\n",
      "- 2 cups broccoli florets\n",
      "- 1 cup uncooked rice\n",
      "- 2 tablespoons soy sauce\n",
      "- 1 tablespoon olive oil\n",
      "- 1 teaspoon minced garlic\n",
      "- Salt and pepper to taste\n",
      "\n",
      "**Instructions:**\n",
      "1. Cook rice according to package instructions.\n",
      "2. In a large pan, heat olive oil over medium heat. Add garlic and sauté for 30 seconds.\n",
      "3. Add diced chicken to the pan, season with salt and pepper, and cook until browned and fully cooked, about 5-7 minutes.\n",
      "4. Add broccoli florets to the pan and stir-fry for 3 minutes or until tender-crisp.\n",
      "5. Stir in cooked rice and soy sauce. Mix well and heat through.\n",
      "6. Serve hot.\n"
     ]
    }
   ],
   "source": [
    "# Write a list of ingredients\n",
    "ingredients = ['chicken', 'broccoli', 'rice']\n",
    "\n",
    "# Write the prompt\n",
    "prompt = f\"\"\"\n",
    "    Create a short recipe that uses the following ingredients:\n",
    "    {ingredients}\n",
    "\"\"\"\n",
    "\n",
    "# Get the response from the LLM\n",
    "response = get_llm_response(prompt)\n",
    "\n",
    "# Print the LLM response\n",
    "print(response)"
   ]
  },
  {
   "cell_type": "code",
   "execution_count": 5,
   "metadata": {},
   "outputs": [],
   "source": [
    "# Construct the full path to the file\n",
    "file_path = os.path.join(base_path, 'data/cape_town.txt')\n",
    "\n",
    "with open(file_path, 'r') as f:\n",
    "    cape = f.read()"
   ]
  },
  {
   "cell_type": "code",
   "execution_count": 6,
   "metadata": {},
   "outputs": [
    {
     "name": "stdout",
     "output_type": "stream",
     "text": [
      "Embarking on a gastronomic journey through Cape Town revealed a city brimming with culinary treasures. Each stop was a testament to the rich flavors and unique dishes that define this vibrant city's food scene.\n",
      "\n",
      "My first destination was The Test Kitchen, a restaurant that has earned its place among the world's best. Situated in the trendy Woodstock area, this dining spot is celebrated for its innovative dishes. I was particularly taken by their signature dish, the \"Pickled Fish Tacos.\" The tangy, flavorful fish wrapped in a soft taco, paired with a zesty salsa, was a delightful start to my culinary adventure. The industrial-chic ambiance added a modern edge to the dining experience.\n",
      "\n",
      "Next, I made my way to La Colombe, perched on the slopes of Constantia. Known for its refined and artistic approach to cuisine, La Colombe's \"Tuna La Colombe\" is a must-try. This dish features perfectly seared tuna, complemented by a delicate ponzu dressing and bursts of citrus. The presentation was as exquisite as the flavors, making it a memorable highlight of the day.\n",
      "\n",
      "For a taste of traditional South African fare, I headed to Gold Restaurant. Located in Green Point, this vibrant eatery offers a culinary tour of the continent. The \"Bobotie,\" a classic Cape Malay dish, stood out with its spiced minced meat topped with a savory custard. The rich, aromatic flavors, combined with the lively African drumming and dance performances, created an immersive cultural experience.\n",
      "\n",
      "At the bustling V&A Waterfront, I visited Harbour House for some of the freshest seafood in town. The \"Grilled Kingklip\" was a revelation. The succulent, flaky fish, grilled to perfection and served with a side of roasted vegetables, highlighted the ocean's bounty. The stunning views of the harbor added to the meal's appeal.\n",
      "\n",
      "Finally, my journey concluded at The Pot Luck Club, another gem in Woodstock. This trendy spot is known for its small plates, perfect for sharing. The standout dish was the \"Beef Tataki.\" Thinly sliced, seared beef with a tangy soy dressing and a hint of wasabi provided a burst of umami and heat. The eclectic, artistic vibe of the restaurant made for a fitting end to my culinary tour.\n"
     ]
    }
   ],
   "source": [
    "print(cape)"
   ]
  },
  {
   "cell_type": "code",
   "execution_count": 7,
   "metadata": {},
   "outputs": [
    {
     "name": "stdout",
     "output_type": "stream",
     "text": [
      "Extract bullet points from the following journal.  \n",
      "\n",
      "Journal:\n",
      "Embarking on a gastronomic journey through Cape Town revealed a city brimming with culinary treasures. Each stop was a testament to the rich flavors and unique dishes that define this vibrant city's food scene.\n",
      "\n",
      "My first destination was The Test Kitchen, a restaurant that has earned its place among the world's best. Situated in the trendy Woodstock area, this dining spot is celebrated for its innovative dishes. I was particularly taken by their signature dish, the \"Pickled Fish Tacos.\" The tangy, flavorful fish wrapped in a soft taco, paired with a zesty salsa, was a delightful start to my culinary adventure. The industrial-chic ambiance added a modern edge to the dining experience.\n",
      "\n",
      "Next, I made my way to La Colombe, perched on the slopes of Constantia. Known for its refined and artistic approach to cuisine, La Colombe's \"Tuna La Colombe\" is a must-try. This dish features perfectly seared tuna, complemented by a delicate ponzu dressing and bursts of citrus. The presentation was as exquisite as the flavors, making it a memorable highlight of the day.\n",
      "\n",
      "For a taste of traditional South African fare, I headed to Gold Restaurant. Located in Green Point, this vibrant eatery offers a culinary tour of the continent. The \"Bobotie,\" a classic Cape Malay dish, stood out with its spiced minced meat topped with a savory custard. The rich, aromatic flavors, combined with the lively African drumming and dance performances, created an immersive cultural experience.\n",
      "\n",
      "At the bustling V&A Waterfront, I visited Harbour House for some of the freshest seafood in town. The \"Grilled Kingklip\" was a revelation. The succulent, flaky fish, grilled to perfection and served with a side of roasted vegetables, highlighted the ocean's bounty. The stunning views of the harbor added to the meal's appeal.\n",
      "\n",
      "Finally, my journey concluded at The Pot Luck Club, another gem in Woodstock. This trendy spot is known for its small plates, perfect for sharing. The standout dish was the \"Beef Tataki.\" Thinly sliced, seared beef with a tangy soy dressing and a hint of wasabi provided a burst of umami and heat. The eclectic, artistic vibe of the restaurant made for a fitting end to my culinary tour.\n"
     ]
    }
   ],
   "source": [
    "prompt = f\"\"\"Extract bullet points from the following journal.  \n",
    "\n",
    "Journal:\n",
    "{cape}\"\"\"\n",
    "\n",
    "print(prompt)"
   ]
  },
  {
   "cell_type": "code",
   "execution_count": 8,
   "metadata": {},
   "outputs": [
    {
     "name": "stdout",
     "output_type": "stream",
     "text": [
      "- Gastronomic journey through Cape Town showcasing culinary treasures.\n",
      "- The Test Kitchen in Woodstock:\n",
      "  - Innovative dishes.\n",
      "  - Signature \"Pickled Fish Tacos\" with tangy fish and zesty salsa.\n",
      "  - Industrial-chic ambiance.\n",
      "- La Colombe in Constantia:\n",
      "  - Refined and artistic cuisine.\n",
      "  - \"Tuna La Colombe\" with seared tuna, ponzu dressing, and citrus.\n",
      "  - Exquisite presentation and flavors.\n",
      "- Gold Restaurant in Green Point:\n",
      "  - Traditional South African fare and cultural experience.\n",
      "  - \"Bobotie\" with spiced minced meat and savory custard.\n",
      "  - Lively African drumming and dance performances.\n",
      "- Harbour House at V&A Waterfront:\n",
      "  - Fresh seafood.\n",
      "  - \"Grilled Kingklip\" with roasted vegetables and stunning harbor views.\n",
      "- The Pot Luck Club in Woodstock:\n",
      "  - Trendy spot for small plates.\n",
      "  - \"Beef Tataki\" with tangy soy dressing and wasabi.\n",
      "  - Eclectic, artistic vibe.\n"
     ]
    }
   ],
   "source": [
    "bullet_points = get_llm_response(prompt)\n",
    "print(bullet_points)"
   ]
  },
  {
   "cell_type": "code",
   "execution_count": 9,
   "metadata": {},
   "outputs": [
    {
     "data": {
      "text/markdown": [
       "- Gastronomic journey through Cape Town showcasing culinary treasures.\n",
       "- The Test Kitchen in Woodstock:\n",
       "  - Innovative dishes.\n",
       "  - Signature \"Pickled Fish Tacos\" with tangy fish and zesty salsa.\n",
       "  - Industrial-chic ambiance.\n",
       "- La Colombe in Constantia:\n",
       "  - Refined and artistic cuisine.\n",
       "  - \"Tuna La Colombe\" with seared tuna, ponzu dressing, and citrus.\n",
       "  - Exquisite presentation and flavors.\n",
       "- Gold Restaurant in Green Point:\n",
       "  - Traditional South African fare and cultural experience.\n",
       "  - \"Bobotie\" with spiced minced meat and savory custard.\n",
       "  - Lively African drumming and dance performances.\n",
       "- Harbour House at V&A Waterfront:\n",
       "  - Fresh seafood.\n",
       "  - \"Grilled Kingklip\" with roasted vegetables and stunning harbor views.\n",
       "- The Pot Luck Club in Woodstock:\n",
       "  - Trendy spot for small plates.\n",
       "  - \"Beef Tataki\" with tangy soy dressing and wasabi.\n",
       "  - Eclectic, artistic vibe."
      ],
      "text/plain": [
       "<IPython.core.display.Markdown object>"
      ]
     },
     "metadata": {},
     "output_type": "display_data"
    }
   ],
   "source": [
    "# Print in Markdown format\n",
    "display(Markdown(bullet_points))"
   ]
  },
  {
   "cell_type": "code",
   "execution_count": 10,
   "metadata": {},
   "outputs": [
    {
     "name": "stdout",
     "output_type": "stream",
     "text": [
      "The restaurants mentioned in the journal are: \n",
      "\n",
      "1. The Test Kitchen\n",
      "2. La Colombe\n",
      "3. Gold Restaurant\n",
      "4. Harbour House\n",
      "5. The Pot Luck Club\n"
     ]
    }
   ],
   "source": [
    "# Complete the code below to identify all of the restaurants mentioned \n",
    "# in the journal\n",
    "prompt = f\"\"\"find all the restaurantes mentioned in the journal\n",
    "\n",
    "Email:\n",
    "{cape}\n",
    "\"\"\"\n",
    "\n",
    "restaurants = get_llm_response(prompt)\n",
    "print(restaurants)"
   ]
  },
  {
   "cell_type": "code",
   "execution_count": 11,
   "metadata": {},
   "outputs": [
    {
     "name": "stdout",
     "output_type": "stream",
     "text": [
      "1. Dining at The Test Kitchen\n",
      "2. Eating \"Pickled Fish Tacos\"\n",
      "3. Visiting La Colombe\n",
      "4. Trying \"Tuna La Colombe\"\n",
      "5. Going to Gold Restaurant\n",
      "6. Tasting \"Bobotie\"\n",
      "7. Attending African drumming and dance performances\n",
      "8. Visiting Harbour House\n",
      "9. Eating \"Grilled Kingklip\"\n",
      "10. Visiting The Pot Luck Club\n",
      "11. Sharing small plates\n",
      "12. Eating \"Beef Tataki\"\n"
     ]
    }
   ],
   "source": [
    "# Write code below to list all of the activities that are mentioned in the journal \n",
    "# You'll need to create a prompt and use either get_llm_response or print_llm_response\n",
    "# START YOUR CODE HERE\n",
    "\n",
    "prompt = f\"list all the activities mentioned Journal: {cape}\"\n",
    "print(get_llm_response(prompt))"
   ]
  },
  {
   "cell_type": "code",
   "execution_count": 12,
   "metadata": {},
   "outputs": [
    {
     "data": {
      "text/plain": [
       "['.git', 'code', 'data', 'readme.md', 'requirements.txt', '__pycache__']"
      ]
     },
     "execution_count": 12,
     "metadata": {},
     "output_type": "execute_result"
    }
   ],
   "source": [
    "list_files_in_directory(base_path)"
   ]
  },
  {
   "cell_type": "code",
   "execution_count": 13,
   "metadata": {},
   "outputs": [
    {
     "name": "stdout",
     "output_type": "stream",
     "text": [
      "Embarking on a gastronomic journey through Cape Town revealed a city brimming with culinary treasures. Each stop was a testament to the rich flavors and unique dishes that define this vibrant city's food scene.\n",
      "\n",
      "My first destination was The Test Kitchen, a restaurant that has earned its place among the world's best. Situated in the trendy Woodstock area, this dining spot is celebrated for its innovative dishes. I was particularly taken by their signature dish, the \"Pickled Fish Tacos.\" The tangy, flavorful fish wrapped in a soft taco, paired with a zesty salsa, was a delightful start to my culinary adventure. The industrial-chic ambiance added a modern edge to the dining experience.\n",
      "\n",
      "Next, I made my way to La Colombe, perched on the slopes of Constantia. Known for its refined and artistic approach to cuisine, La Colombe's \"Tuna La Colombe\" is a must-try. This dish features perfectly seared tuna, complemented by a delicate ponzu dressing and bursts of citrus. The presentation was as exquisite as the flavors, making it a memorable highlight of the day.\n",
      "\n",
      "For a taste of traditional South African fare, I headed to Gold Restaurant. Located in Green Point, this vibrant eatery offers a culinary tour of the continent. The \"Bobotie,\" a classic Cape Malay dish, stood out with its spiced minced meat topped with a savory custard. The rich, aromatic flavors, combined with the lively African drumming and dance performances, created an immersive cultural experience.\n",
      "\n",
      "At the bustling V&A Waterfront, I visited Harbour House for some of the freshest seafood in town. The \"Grilled Kingklip\" was a revelation. The succulent, flaky fish, grilled to perfection and served with a side of roasted vegetables, highlighted the ocean's bounty. The stunning views of the harbor added to the meal's appeal.\n",
      "\n",
      "Finally, my journey concluded at The Pot Luck Club, another gem in Woodstock. This trendy spot is known for its small plates, perfect for sharing. The standout dish was the \"Beef Tataki.\" Thinly sliced, seared beef with a tangy soy dressing and a hint of wasabi provided a burst of umami and heat. The eclectic, artistic vibe of the restaurant made for a fitting end to my culinary tour.\n"
     ]
    }
   ],
   "source": [
    "# Define the file path\n",
    "cape_path = os.path.join(base_path, 'data/cape_town.txt')\n",
    "\n",
    "# Upload the text file and get its content\n",
    "cape = upload_txt_file(cape_path)\n",
    "\n",
    "# Print the content of the file\n",
    "print(cape)"
   ]
  },
  {
   "cell_type": "code",
   "execution_count": 14,
   "metadata": {},
   "outputs": [
    {
     "data": {
      "application/vnd.jupyter.widget-view+json": {
       "model_id": "d6a86c84f5b347a58ab99cecac7f9f0a",
       "version_major": 2,
       "version_minor": 0
      },
      "text/plain": [
       "FileUpload(value=(), accept='.txt', description='Upload')"
      ]
     },
     "metadata": {},
     "output_type": "display_data"
    },
    {
     "data": {
      "application/vnd.jupyter.widget-view+json": {
       "model_id": "3a7376932b05417f9ed26d91a81edcb1",
       "version_major": 2,
       "version_minor": 0
      },
      "text/plain": [
       "Output()"
      ]
     },
     "metadata": {},
     "output_type": "display_data"
    },
    {
     "name": "stdout",
     "output_type": "stream",
     "text": [
      "None\n"
     ]
    }
   ],
   "source": [
    "# Call the function to display the widget\n",
    "cape = upload_txt_file_widget()\n",
    "\n",
    "# Print the content of the file\n",
    "print(cape)"
   ]
  },
  {
   "cell_type": "code",
   "execution_count": 15,
   "metadata": {},
   "outputs": [],
   "source": [
    "prompt = f\"\"\"Summarize the content from the following text\n",
    "in at most two sentences. \n",
    "\n",
    "Text:\n",
    "{cape}\"\"\""
   ]
  },
  {
   "cell_type": "code",
   "execution_count": 16,
   "metadata": {},
   "outputs": [
    {
     "name": "stdout",
     "output_type": "stream",
     "text": [
      "Summarize the content from the following text\n",
      "in at most two sentences. \n",
      "\n",
      "Text:\n",
      "None\n"
     ]
    }
   ],
   "source": [
    "print(prompt)"
   ]
  },
  {
   "cell_type": "code",
   "execution_count": 17,
   "metadata": {},
   "outputs": [
    {
     "name": "stdout",
     "output_type": "stream",
     "text": [
      "****************************************************************************************************\n",
      "There is no content to summarize.\n",
      "****************************************************************************************************\n",
      "\n",
      "\n"
     ]
    }
   ],
   "source": [
    "print_llm_response(prompt)"
   ]
  },
  {
   "cell_type": "code",
   "execution_count": 18,
   "metadata": {},
   "outputs": [
    {
     "name": "stdout",
     "output_type": "stream",
     "text": [
      "****************************************************************************************************\n",
      "One word.\n",
      "****************************************************************************************************\n",
      "\n",
      "\n"
     ]
    }
   ],
   "source": [
    "# Modify the prompt below to ask the LLM a different question about \n",
    "# your data\n",
    "prompt = f\"\"\"How many words are in the text?. \n",
    "\n",
    "Text:\n",
    "{cape}\"\"\"\n",
    "\n",
    "print_llm_response(prompt)"
   ]
  },
  {
   "cell_type": "code",
   "execution_count": 19,
   "metadata": {},
   "outputs": [
    {
     "name": "stdout",
     "output_type": "stream",
     "text": [
      "Tokyo's culinary landscape is nothing short of extraordinary. Each spot offers a unique taste of the city's diverse food culture. Here's a quick guide to some must-try places and dishes.\n",
      "\n",
      "    Sukiyabashi Jiro\n",
      "        Location: Ginza\n",
      "        Dish: Omakase sushi\n",
      "        Highlight: Impeccably crafted sushi made by the legendary Jiro Ono. Each piece is a masterclass in balance and flavor.\n",
      "\n",
      "    Ichiran Ramen\n",
      "        Location: Shibuya\n",
      "        Dish: Tonkotsu ramen\n",
      "        Highlight: A personal ramen booth for focused, uninterrupted enjoyment. Rich, creamy broth with perfectly cooked noodles.\n",
      "\n",
      "    Tsukiji Outer Market\n",
      "        Location: Tsukiji\n",
      "        Dish: Fresh sashimi and street food\n",
      "        Highlight: Vibrant market atmosphere. Indulge in ultra-fresh sashimi, grilled seafood, and other Japanese street food delights.\n",
      "\n",
      "    Narisawa\n",
      "        Location: Minato\n",
      "        Dish: Innovative tasting menu\n",
      "        Highlight: A fusion of French and Japanese techniques. Creative dishes with an emphasis on sustainability and local ingredients.\n",
      "\n",
      "    Ginza Kojyu\n",
      "        Location: Ginza\n",
      "        Dish: Kaiseki (traditional multi-course meal)\n",
      "        Highlight: Exquisite presentation and meticulous preparation. A journey through seasonal Japanese flavors.\n",
      "\n",
      "    Akasaka Kikunoi\n",
      "        Location: Akasaka\n",
      "        Dish: Kaiseki\n",
      "        Highlight: Elegant and serene setting. Seasonal ingredients transformed into artful, delicious courses.\n"
     ]
    }
   ],
   "source": [
    "# Define the file path\n",
    "tokyo_path = os.path.join(base_path, 'data/journal_tokyo.txt')\n",
    "\n",
    "# Upload the text file and get its content\n",
    "tokyo = upload_txt_file(tokyo_path)\n",
    "\n",
    "# Print the content of the file\n",
    "print(tokyo)"
   ]
  },
  {
   "cell_type": "code",
   "execution_count": 20,
   "metadata": {},
   "outputs": [],
   "source": [
    "prompt = f\"\"\"Respond with \"Relevant\" or \"Not relevant\": \n",
    "the journal describes restaurants and their specialties. \n",
    "\n",
    "Journal:\n",
    "{tokyo}\"\"\""
   ]
  },
  {
   "cell_type": "code",
   "execution_count": 21,
   "metadata": {},
   "outputs": [
    {
     "name": "stdout",
     "output_type": "stream",
     "text": [
      "****************************************************************************************************\n",
      "Relevant\n",
      "****************************************************************************************************\n",
      "\n",
      "\n"
     ]
    }
   ],
   "source": [
    "print_llm_response(prompt)"
   ]
  },
  {
   "cell_type": "code",
   "execution_count": 22,
   "metadata": {},
   "outputs": [],
   "source": [
    "# List of the journal files\n",
    "files = [tokyo, cape]"
   ]
  },
  {
   "cell_type": "code",
   "execution_count": 23,
   "metadata": {},
   "outputs": [
    {
     "name": "stdout",
     "output_type": "stream",
     "text": [
      "Relevant\n",
      "Not relevant.\n"
     ]
    }
   ],
   "source": [
    "for file in files:\n",
    "   \n",
    "    # Create prompt\n",
    "    prompt = f\"\"\"Respond with \"Relevant\" or \"Not relevant\": \n",
    "    the journal describes restaurants and their specialties. \n",
    "\n",
    "    Journal:\n",
    "    {file}\"\"\"\n",
    "\n",
    "    # Use LLM to determine if the journal entry is useful\n",
    "    print(f\"{get_llm_response(prompt)}\")"
   ]
  },
  {
   "cell_type": "code",
   "execution_count": 24,
   "metadata": {},
   "outputs": [
    {
     "name": "stdout",
     "output_type": "stream",
     "text": [
      "Yes.\n",
      "No\n"
     ]
    }
   ],
   "source": [
    "for file in files:\n",
    "    # TRY CHANGING THIS PROMPT TO ASK DIFFERENT QUESTIONS\n",
    "    prompt = f\"\"\"Respond with \"Yes\" or \"No\": \n",
    "    the journal describes restaurants and food dishes. \n",
    "\n",
    "    Journal:\n",
    "    {file}\"\"\"\n",
    "\n",
    "    # Use LLM to determine if the journal entry is useful\n",
    "    print(f\"{get_llm_response(prompt)}\")"
   ]
  },
  {
   "cell_type": "code",
   "execution_count": 25,
   "metadata": {},
   "outputs": [
    {
     "name": "stdout",
     "output_type": "stream",
     "text": [
      "No.\n",
      "No\n"
     ]
    }
   ],
   "source": [
    "for file in files:\n",
    "    # TRY CHANGING THIS PROMPT TO ASK DIFFERENT QUESTIONS\n",
    "    prompt = f\"\"\"Respond with \"Yes\" or \"No\": \n",
    "    the journal mentions a vegetarian dish. \n",
    "\n",
    "    Journal:\n",
    "    {file}\"\"\"\n",
    "\n",
    "    # Use LLM to determine if the journal entry is useful\n",
    "    print(f\"{get_llm_response(prompt)}\")"
   ]
  },
  {
   "cell_type": "code",
   "execution_count": 26,
   "metadata": {},
   "outputs": [],
   "source": [
    "# Define the file path\n",
    "rio_path = os.path.join(base_path, 'data/journal_rio.txt')"
   ]
  },
  {
   "cell_type": "code",
   "execution_count": 27,
   "metadata": {},
   "outputs": [],
   "source": [
    "rio = read_journal(rio_path)"
   ]
  },
  {
   "cell_type": "code",
   "execution_count": 28,
   "metadata": {},
   "outputs": [
    {
     "name": "stdout",
     "output_type": "stream",
     "text": [
      "First up was Confeitaria Colombo, a legendary and picturesque cafÃ© in central Rio. Known for its pastel de nata (custard tart), Colombo serves a delightful treat that is hard to beat. The crispy, flaky pastry filled with creamy, sweet custard was an excellent start to the day. The cafÃ©'s historic Belle Ã‰poque ambiance added an extra layer of charm.\n",
      "\n",
      "Next, I visited Fogo de ChÃ£o, a quintessential Brazilian steakhouse in Botafogo. Famous for its picanha (top sirloin), this churrascaria impressed with its perfectly grilled meat. The picanha was juicy, tender, and bursting with flavor, showcasing the high quality of Brazilian beef. The endless array of grilled meats served tableside made for a hearty and satisfying meal.\n",
      "\n",
      "For a more modern dining experience, I headed to Olympe in Lagoa. This Michelin-starred restaurant specializes in contemporary Brazilian cuisine. The highlight was their moqueca de caju (cashew nut stew). This rich and creamy stew, made from cashew nuts and complemented by fresh seafood and vegetables, was an exquisite dish in an elegant and refined setting.\n",
      "\n",
      "Finally, I concluded my culinary tour at AprazÃ­vel, renowned for its breathtaking views and farm-to-table approach. Their signature dish, galinhada (Brazilian chicken and rice), was outstanding. The tender and flavorful chicken, cooked with a mix of rice, vegetables, and spices, and served with farofa (toasted cassava flour), perfectly highlighted the fresh, locally sourced ingredients. The lush, garden-like setting of the restaurant provided a serene end to the culinary adventure.\n"
     ]
    }
   ],
   "source": [
    "print(rio)"
   ]
  },
  {
   "cell_type": "code",
   "execution_count": 29,
   "metadata": {},
   "outputs": [
    {
     "name": "stdout",
     "output_type": "stream",
     "text": [
      "\n",
      "Given the following journal entry from a food critic, identify the restaurants and their best dishes.\n",
      "Highlight and bold each restaurant (in orange) and best dish (in blue) within the original text. \n",
      "\n",
      "Provide the output as HTML suitable for display in a Jupyter notebook. \n",
      "\n",
      "Journal entry:\n",
      "First up was Confeitaria Colombo, a legendary and picturesque cafÃ© in central Rio. Known for its pastel de nata (custard tart), Colombo serves a delightful treat that is hard to beat. The crispy, flaky pastry filled with creamy, sweet custard was an excellent start to the day. The cafÃ©'s historic Belle Ã‰poque ambiance added an extra layer of charm.\n",
      "\n",
      "Next, I visited Fogo de ChÃ£o, a quintessential Brazilian steakhouse in Botafogo. Famous for its picanha (top sirloin), this churrascaria impressed with its perfectly grilled meat. The picanha was juicy, tender, and bursting with flavor, showcasing the high quality of Brazilian beef. The endless array of grilled meats served tableside made for a hearty and satisfying meal.\n",
      "\n",
      "For a more modern dining experience, I headed to Olympe in Lagoa. This Michelin-starred restaurant specializes in contemporary Brazilian cuisine. The highlight was their moqueca de caju (cashew nut stew). This rich and creamy stew, made from cashew nuts and complemented by fresh seafood and vegetables, was an exquisite dish in an elegant and refined setting.\n",
      "\n",
      "Finally, I concluded my culinary tour at AprazÃ­vel, renowned for its breathtaking views and farm-to-table approach. Their signature dish, galinhada (Brazilian chicken and rice), was outstanding. The tender and flavorful chicken, cooked with a mix of rice, vegetables, and spices, and served with farofa (toasted cassava flour), perfectly highlighted the fresh, locally sourced ingredients. The lush, garden-like setting of the restaurant provided a serene end to the culinary adventure.\n",
      "\n"
     ]
    }
   ],
   "source": [
    "prompt = f\"\"\"\n",
    "Given the following journal entry from a food critic, identify the restaurants and their best dishes.\n",
    "Highlight and bold each restaurant (in orange) and best dish (in blue) within the original text. \n",
    "\n",
    "Provide the output as HTML suitable for display in a Jupyter notebook. \n",
    "\n",
    "Journal entry:\n",
    "{rio}\n",
    "\"\"\"\n",
    "\n",
    "print(prompt)"
   ]
  },
  {
   "cell_type": "code",
   "execution_count": 30,
   "metadata": {},
   "outputs": [
    {
     "name": "stdout",
     "output_type": "stream",
     "text": [
      "```html\n",
      "<p>\n",
      "First up was <span style=\"color:orange; font-weight:bold;\">Confeitaria Colombo</span>, a legendary and picturesque café in central Rio. Known for its <span style=\"color:blue; font-weight:bold;\">pastel de nata</span> (custard tart), Colombo serves a delightful treat that is hard to beat. The crispy, flaky pastry filled with creamy, sweet custard was an excellent start to the day. The café's historic Belle Époque ambiance added an extra layer of charm.\n",
      "</p>\n",
      "<p>\n",
      "Next, I visited <span style=\"color:orange; font-weight:bold;\">Fogo de Chão</span>, a quintessential Brazilian steakhouse in Botafogo. Famous for its <span style=\"color:blue; font-weight:bold;\">picanha</span> (top sirloin), this churrascaria impressed with its perfectly grilled meat. The picanha was juicy, tender, and bursting with flavor, showcasing the high quality of Brazilian beef. The endless array of grilled meats served tableside made for a hearty and satisfying meal.\n",
      "</p>\n",
      "<p>\n",
      "For a more modern dining experience, I headed to <span style=\"color:orange; font-weight:bold;\">Olympe</span> in Lagoa. This Michelin-starred restaurant specializes in contemporary Brazilian cuisine. The highlight was their <span style=\"color:blue; font-weight:bold;\">moqueca de caju</span> (cashew nut stew). This rich and creamy stew, made from cashew nuts and complemented by fresh seafood and vegetables, was an exquisite dish in an elegant and refined setting.\n",
      "</p>\n",
      "<p>\n",
      "Finally, I concluded my culinary tour at <span style=\"color:orange; font-weight:bold;\">Aprazível</span>, renowned for its breathtaking views and farm-to-table approach. Their signature dish, <span style=\"color:blue; font-weight:bold;\">galinhada</span> (Brazilian chicken and rice), was outstanding. The tender and flavorful chicken, cooked with a mix of rice, vegetables, and spices, and served with farofa (toasted cassava flour), perfectly highlighted the fresh, locally sourced ingredients. The lush, garden-like setting of the restaurant provided a serene end to the culinary adventure.\n",
      "</p>\n",
      "```\n"
     ]
    }
   ],
   "source": [
    "html_response = get_llm_response(prompt)\n",
    "print(html_response)"
   ]
  },
  {
   "cell_type": "code",
   "execution_count": 31,
   "metadata": {},
   "outputs": [
    {
     "data": {
      "text/html": [
       "```html\n",
       "<p>\n",
       "First up was <span style=\"color:orange; font-weight:bold;\">Confeitaria Colombo</span>, a legendary and picturesque café in central Rio. Known for its <span style=\"color:blue; font-weight:bold;\">pastel de nata</span> (custard tart), Colombo serves a delightful treat that is hard to beat. The crispy, flaky pastry filled with creamy, sweet custard was an excellent start to the day. The café's historic Belle Époque ambiance added an extra layer of charm.\n",
       "</p>\n",
       "<p>\n",
       "Next, I visited <span style=\"color:orange; font-weight:bold;\">Fogo de Chão</span>, a quintessential Brazilian steakhouse in Botafogo. Famous for its <span style=\"color:blue; font-weight:bold;\">picanha</span> (top sirloin), this churrascaria impressed with its perfectly grilled meat. The picanha was juicy, tender, and bursting with flavor, showcasing the high quality of Brazilian beef. The endless array of grilled meats served tableside made for a hearty and satisfying meal.\n",
       "</p>\n",
       "<p>\n",
       "For a more modern dining experience, I headed to <span style=\"color:orange; font-weight:bold;\">Olympe</span> in Lagoa. This Michelin-starred restaurant specializes in contemporary Brazilian cuisine. The highlight was their <span style=\"color:blue; font-weight:bold;\">moqueca de caju</span> (cashew nut stew). This rich and creamy stew, made from cashew nuts and complemented by fresh seafood and vegetables, was an exquisite dish in an elegant and refined setting.\n",
       "</p>\n",
       "<p>\n",
       "Finally, I concluded my culinary tour at <span style=\"color:orange; font-weight:bold;\">Aprazível</span>, renowned for its breathtaking views and farm-to-table approach. Their signature dish, <span style=\"color:blue; font-weight:bold;\">galinhada</span> (Brazilian chicken and rice), was outstanding. The tender and flavorful chicken, cooked with a mix of rice, vegetables, and spices, and served with farofa (toasted cassava flour), perfectly highlighted the fresh, locally sourced ingredients. The lush, garden-like setting of the restaurant provided a serene end to the culinary adventure.\n",
       "</p>\n",
       "```"
      ],
      "text/plain": [
       "<IPython.core.display.HTML object>"
      ]
     },
     "metadata": {},
     "output_type": "display_data"
    }
   ],
   "source": [
    "display(HTML(html_response))"
   ]
  },
  {
   "cell_type": "code",
   "execution_count": 32,
   "metadata": {},
   "outputs": [
    {
     "data": {
      "text/html": [
       "```html\n",
       "<p>Tokyo's culinary landscape is nothing short of extraordinary. Each spot offers a unique taste of the city's diverse food culture. Here's a quick guide to some must-try places and dishes.</p>\n",
       "\n",
       "<ul>\n",
       "    <li><span style=\"color: orange; font-weight: bold;\">Sukiyabashi Jiro</span>\n",
       "        <ul>\n",
       "            <li>Location: Ginza</li>\n",
       "            <li>Dish: <span style=\"color: blue; font-weight: bold;\">Omakase sushi</span></li>\n",
       "            <li>Highlight: Impeccably crafted sushi made by the legendary Jiro Ono. Each piece is a masterclass in balance and flavor.</li>\n",
       "        </ul>\n",
       "    </li>\n",
       "    <li><span style=\"color: orange; font-weight: bold;\">Ichiran Ramen</span>\n",
       "        <ul>\n",
       "            <li>Location: Shibuya</li>\n",
       "            <li>Dish: <span style=\"color: blue; font-weight: bold;\">Tonkotsu ramen</span></li>\n",
       "            <li>Highlight: A personal ramen booth for focused, uninterrupted enjoyment. Rich, creamy broth with perfectly cooked noodles.</li>\n",
       "        </ul>\n",
       "    </li>\n",
       "    <li><span style=\"color: orange; font-weight: bold;\">Tsukiji Outer Market</span>\n",
       "        <ul>\n",
       "            <li>Location: Tsukiji</li>\n",
       "            <li>Dish: <span style=\"color: blue; font-weight: bold;\">Fresh sashimi and street food</span></li>\n",
       "            <li>Highlight: Vibrant market atmosphere. Indulge in ultra-fresh sashimi, grilled seafood, and other Japanese street food delights.</li>\n",
       "        </ul>\n",
       "    </li>\n",
       "    <li><span style=\"color: orange; font-weight: bold;\">Narisawa</span>\n",
       "        <ul>\n",
       "            <li>Location: Minato</li>\n",
       "            <li>Dish: <span style=\"color: blue; font-weight: bold;\">Innovative tasting menu</span></li>\n",
       "            <li>Highlight: A fusion of French and Japanese techniques. Creative dishes with an emphasis on sustainability and local ingredients.</li>\n",
       "        </ul>\n",
       "    </li>\n",
       "    <li><span style=\"color: orange; font-weight: bold;\">Ginza Kojyu</span>\n",
       "        <ul>\n",
       "            <li>Location: Ginza</li>\n",
       "            <li>Dish: <span style=\"color: blue; font-weight: bold;\">Kaiseki (traditional multi-course meal)</span></li>\n",
       "            <li>Highlight: Exquisite presentation and meticulous preparation. A journey through seasonal Japanese flavors.</li>\n",
       "        </ul>\n",
       "    </li>\n",
       "    <li><span style=\"color: orange; font-weight: bold;\">Akasaka Kikunoi</span>\n",
       "        <ul>\n",
       "            <li>Location: Akasaka</li>\n",
       "            <li>Dish: <span style=\"color: blue; font-weight: bold;\">Kaiseki</span></li>\n",
       "            <li>Highlight: Elegant and serene setting. Seasonal ingredients transformed into artful, delicious courses.</li>\n",
       "        </ul>\n",
       "    </li>\n",
       "</ul>\n",
       "```"
      ],
      "text/plain": [
       "<IPython.core.display.HTML object>"
      ]
     },
     "metadata": {},
     "output_type": "display_data"
    }
   ],
   "source": [
    "prompt = f\"\"\"\n",
    "Given the following journal entry from a food critic, identify the restaurants and their best dishes.\n",
    "Highlight and bold each restaurant (in orange) and best dish (in blue) within the original text. \n",
    "\n",
    "Provide the output as HTML suitable for display in a Jupyter notebook. \n",
    "\n",
    "Journal entry:\n",
    "{tokyo}\n",
    "\"\"\"\n",
    "\n",
    "html_response = get_llm_response(prompt)\n",
    "display(HTML(html_response))"
   ]
  },
  {
   "cell_type": "code",
   "execution_count": 33,
   "metadata": {},
   "outputs": [],
   "source": [
    "files = [tokyo, cape, rio]"
   ]
  },
  {
   "cell_type": "code",
   "execution_count": 34,
   "metadata": {},
   "outputs": [
    {
     "data": {
      "text/markdown": [
       "# Tokyo\n",
       "\n",
       "Sukiyabashi Jiro  \n",
       "Location: Ginza  \n",
       "Dish: Omakase sushi  \n",
       "Highlight: Impeccably crafted sushi made by the legendary Jiro Ono. Each piece is a masterclass in balance and flavor. 🍣\n",
       "\n",
       "Ichiran Ramen  \n",
       "Location: Shibuya  \n",
       "Dish: Tonkotsu ramen  \n",
       "Highlight: A personal ramen booth for focused, uninterrupted enjoyment. Rich, creamy broth with perfectly cooked noodles. 🍜\n",
       "\n",
       "Tsukiji Outer Market  \n",
       "Location: Tsukiji  \n",
       "Dish: Fresh sashimi and street food  \n",
       "Highlight: Vibrant market atmosphere. Indulge in ultra-fresh sashimi, grilled seafood, and other Japanese street food delights. 🐟🍢\n",
       "\n",
       "Narisawa  \n",
       "Location: Minato  \n",
       "Dish: Innovative tasting menu  \n",
       "Highlight: A fusion of French and Japanese techniques. Creative dishes with an emphasis on sustainability and local ingredients. 🍽️\n",
       "\n",
       "Ginza Kojyu  \n",
       "Location: Ginza  \n",
       "Dish: Kaiseki (traditional multi-course meal)  \n",
       "Highlight: Exquisite presentation and meticulous preparation. A journey through seasonal Japanese flavors. 🎌\n",
       "\n",
       "Akasaka Kikunoi  \n",
       "Location: Akasaka  \n",
       "Dish: Kaiseki  \n",
       "Highlight: Elegant and serene setting. Seasonal ingredients transformed into artful, delicious courses. 🥢\n",
       "\n",
       "(Note: As no specific desserts are mentioned in the entry, no text has been highlighted.)"
      ],
      "text/plain": [
       "<IPython.core.display.Markdown object>"
      ]
     },
     "metadata": {},
     "output_type": "display_data"
    },
    {
     "data": {
      "text/markdown": [
       "It seems there is no content in the journal entry. Please provide text for me to assist with highlighting desserts and adding emojis."
      ],
      "text/plain": [
       "<IPython.core.display.Markdown object>"
      ]
     },
     "metadata": {},
     "output_type": "display_data"
    },
    {
     "data": {
      "text/markdown": [
       "# Rio de Janeiro\n",
       "\n",
       "First up was Confeitaria Colombo, a legendary and picturesque café in central Rio. Known for its **pastel de nata (custard tart)**, Colombo serves a delightful treat that is hard to beat. The crispy, flaky pastry filled with creamy, sweet {{custard 🍮}} was an excellent start to the day. The café's historic Belle Époque ambiance added an extra layer of charm.\n",
       "\n",
       "Next, I visited Fogo de Chão, a quintessential Brazilian steakhouse in Botafogo. Famous for its **picanha** (top sirloin), this churrascaria impressed with its perfectly grilled {{meat 🥩}}. The **picanha** was juicy, tender, and bursting with flavor, showcasing the high quality of Brazilian {{beef 🥩}}. The endless array of grilled meats served tableside made for a hearty and satisfying meal.\n",
       "\n",
       "For a more modern dining experience, I headed to Olympe in Lagoa. This Michelin-starred restaurant specializes in contemporary Brazilian cuisine. The highlight was their **moqueca de caju** (cashew nut stew). This rich and creamy stew, made from {{cashew nuts 🥜}} and complemented by fresh {{seafood 🦐}} and {{vegetables 🥦}}, was an exquisite dish in an elegant and refined setting.\n",
       "\n",
       "Finally, I concluded my culinary tour at Aprazível, renowned for its breathtaking views and farm-to-table approach. Their signature dish, **galinhada** (Brazilian chicken and rice), was outstanding. The tender and flavorful {{chicken 🍗}}, cooked with a mix of {{rice 🍚}}, {{vegetables 🥦}}, and {{spices 🌿}}, and served with **farofa** (toasted {{cassava flour 🍞}}), perfectly highlighted the fresh, locally sourced ingredients. The lush, garden-like setting of the restaurant provided a serene end to the culinary adventure."
      ],
      "text/plain": [
       "<IPython.core.display.Markdown object>"
      ]
     },
     "metadata": {},
     "output_type": "display_data"
    }
   ],
   "source": [
    "for file in files:\n",
    "# Modify the prompt to highlight desserts in green and add emojis beside ingredients\n",
    "    prompt = f\"\"\"\n",
    "    Highlight any desserts in green and add a relevant emoji beside any ingredients in the following journal entry.\n",
    "    Include a big title in Markdown format with the name of the city for each different journal entry.\n",
    "\n",
    "    Journal entry:\n",
    "    {file}\n",
    "    \"\"\"\n",
    "\n",
    "    # Get the response from the LLM\n",
    "    response = get_llm_response(prompt)\n",
    "\n",
    "    # Display the response\n",
    "    display(Markdown(response))"
   ]
  },
  {
   "cell_type": "code",
   "execution_count": 35,
   "metadata": {},
   "outputs": [
    {
     "name": "stdout",
     "output_type": "stream",
     "text": [
      "Restaurant,Dish  \n",
      "Confeitaria Colombo,pastel de nata  \n",
      "Fogo de Chão,picanha  \n",
      "Olympe,moqueca de caju  \n",
      "Aprazível,galinhada  \n"
     ]
    }
   ],
   "source": [
    "prompt = f\"\"\"Please extract a comprehensive list of the restaurants \n",
    "and their respective best dishes mentioned in the following journal entry. \n",
    "Ensure that each restaurant name is accurately identified and listed. \n",
    "\n",
    "Provide your answer in CSV format, ready to save. \n",
    "Exclude the \"```csv\" declaration, don't add spaces after the comma, include column headers.\n",
    "\n",
    "Format:\n",
    "Restaurant, Dish\n",
    "Res_1, Dsh_1\n",
    "...\n",
    "\n",
    "Journal entry:\n",
    "{rio}\n",
    "\"\"\"\n",
    "\n",
    "restaurants_csv_ready_string = get_llm_response(prompt)\n",
    "\n",
    "print(restaurants_csv_ready_string)"
   ]
  },
  {
   "cell_type": "code",
   "execution_count": 36,
   "metadata": {},
   "outputs": [
    {
     "name": "stdout",
     "output_type": "stream",
     "text": [
      "****************************************************************************************************\n",
      "Restaurant,Dish\n",
      "Sukiyabashi Jiro,Omakase sushi\n",
      "Ichiran Ramen,Tonkotsu ramen\n",
      "Tsukiji Outer Market,Fresh sashimi and street food\n",
      "Narisawa,Innovative tasting menu\n",
      "Ginza Kojyu,Kaiseki (traditional multi-course meal)\n",
      "Akasaka Kikunoi,Kaiseki\n",
      "****************************************************************************************************\n",
      "\n",
      "\n",
      "\n",
      "****************************************************************************************************\n",
      "Restaurant,Dish\n",
      "****************************************************************************************************\n",
      "\n",
      "\n",
      "\n",
      "****************************************************************************************************\n",
      "Restaurant,Dish\n",
      "Confeitaria Colombo,pastel de nata\n",
      "Fogo de Chão,picanha\n",
      "Olympe,moqueca de caju\n",
      "Aprazível,galinhada\n",
      "****************************************************************************************************\n",
      "\n",
      "\n",
      "\n"
     ]
    }
   ],
   "source": [
    "for file in files:\n",
    "\n",
    "    #Extract restaurants and display csv\n",
    "    prompt =  f\"\"\"Please extract a comprehensive list of the restaurants \n",
    "    and their respective best dishes mentioned in the following journal entry. \n",
    "    \n",
    "    Ensure that each restaurant name is accurately identified and listed. \n",
    "    Provide your answer in CSV format, ready to save.\n",
    "\n",
    "    Exclude the \"```csv\" declaration, don't add spaces after the \n",
    "    comma, include column headers.\n",
    "\n",
    "    Format:\n",
    "    Restaurant, Dish\n",
    "    Res_1, Dsh_1\n",
    "    ...\n",
    "\n",
    "    Journal entry:\n",
    "    {file}\n",
    "    \"\"\"\n",
    "    \n",
    "    print_llm_response(prompt)\n",
    "    print(\"\") # Prints a blank line!"
   ]
  },
  {
   "cell_type": "code",
   "execution_count": 37,
   "metadata": {},
   "outputs": [
    {
     "name": "stdout",
     "output_type": "stream",
     "text": [
      "****************************************************************************************************\n",
      "Restaurant,Neighborhood,Dish,Main Ingredient\n",
      "Sukiyabashi Jiro,Ginza,Omakase sushi,Sushi\n",
      "Ichiran Ramen,Shibuya,Tonkotsu ramen,Broth\n",
      "Tsukiji Outer Market,Tsukiji,Fresh sashimi and street food,Sashimi\n",
      "Narisawa,Minato,Innovative tasting menu,Local ingredients\n",
      "Ginza Kojyu,Ginza,Kaiseki,Seasonal flavors\n",
      "Akasaka Kikunoi,Akasaka,Kaiseki,Seasonal ingredients\n",
      "****************************************************************************************************\n",
      "\n",
      "\n",
      "\n",
      "****************************************************************************************************\n",
      "Restaurant,Dish,Main Ingredient\n",
      "****************************************************************************************************\n",
      "\n",
      "\n",
      "\n",
      "****************************************************************************************************\n",
      "Restaurant,Neighborhood,Dish,Main Ingredient\n",
      "Confeitaria Colombo,Central Rio,pastel de nata,custard\n",
      "Fogo de Chão,Botafogo,picanha,top sirloin\n",
      "Olympe,Lagoa,moqueca de caju,cashew nut\n",
      "Aprazível,,galinhada,chicken\n",
      "****************************************************************************************************\n",
      "\n",
      "\n",
      "\n"
     ]
    }
   ],
   "source": [
    "for file in files:\n",
    "\n",
    "    #Extract restaurants and display csv\n",
    "    prompt =  f\"\"\"Please extract the restaurant name and the neighborhood it is located in\n",
    "    and extract each dish and it's main ingredient mentioned in the following journal entry. \n",
    "    \n",
    "    Ensure that each restaurant name is accurately identified and listed. \n",
    "    Provide your answer in CSV format, ready to save.\n",
    "\n",
    "    Exclude the \"```csv\" declaration, don't add spaces after the \n",
    "    comma, include column headers.\n",
    "\n",
    "    Format:\n",
    "    Restaurant, Dish\n",
    "    Res_1, Dsh_1\n",
    "    ...\n",
    "\n",
    "    Journal entry:\n",
    "    {file}\n",
    "    \"\"\"\n",
    "    \n",
    "    print_llm_response(prompt)\n",
    "    print(\"\") # Prints a blank line!"
   ]
  },
  {
   "cell_type": "code",
   "execution_count": 38,
   "metadata": {},
   "outputs": [
    {
     "data": {
      "text/html": [
       "```html\n",
       "<p>Tokyo's culinary landscape is nothing short of extraordinary. Each spot offers a unique taste of the city's diverse food culture. Here's a quick guide to some must-try places and dishes.</p>\n",
       "\n",
       "<ul>\n",
       "    <li><span style=\"color: orange; font-weight: bold;\">Sukiyabashi Jiro</span>\n",
       "        <ul>\n",
       "            <li>Location: Ginza</li>\n",
       "            <li>Dish: <span style=\"color: blue; font-weight: bold;\">Omakase sushi</span></li>\n",
       "            <li>Highlight: Impeccably crafted sushi made by the legendary Jiro Ono. Each piece is a masterclass in balance and flavor.</li>\n",
       "        </ul>\n",
       "    </li>\n",
       "    <li><span style=\"color: orange; font-weight: bold;\">Ichiran Ramen</span>\n",
       "        <ul>\n",
       "            <li>Location: Shibuya</li>\n",
       "            <li>Dish: <span style=\"color: blue; font-weight: bold;\">Tonkotsu ramen</span></li>\n",
       "            <li>Highlight: A personal ramen booth for focused, uninterrupted enjoyment. Rich, creamy broth with perfectly cooked noodles.</li>\n",
       "        </ul>\n",
       "    </li>\n",
       "    <li><span style=\"color: orange; font-weight: bold;\">Tsukiji Outer Market</span>\n",
       "        <ul>\n",
       "            <li>Location: Tsukiji</li>\n",
       "            <li>Dish: <span style=\"color: blue; font-weight: bold;\">Fresh sashimi and street food</span></li>\n",
       "            <li>Highlight: Vibrant market atmosphere. Indulge in ultra-fresh sashimi, grilled seafood, and other Japanese street food delights.</li>\n",
       "        </ul>\n",
       "    </li>\n",
       "    <li><span style=\"color: orange; font-weight: bold;\">Narisawa</span>\n",
       "        <ul>\n",
       "            <li>Location: Minato</li>\n",
       "            <li>Dish: <span style=\"color: blue; font-weight: bold;\">Innovative tasting menu</span></li>\n",
       "            <li>Highlight: A fusion of French and Japanese techniques. Creative dishes with an emphasis on sustainability and local ingredients.</li>\n",
       "        </ul>\n",
       "    </li>\n",
       "    <li><span style=\"color: orange; font-weight: bold;\">Ginza Kojyu</span>\n",
       "        <ul>\n",
       "            <li>Location: Ginza</li>\n",
       "            <li>Dish: <span style=\"color: blue; font-weight: bold;\">Kaiseki (traditional multi-course meal)</span></li>\n",
       "            <li>Highlight: Exquisite presentation and meticulous preparation. A journey through seasonal Japanese flavors.</li>\n",
       "        </ul>\n",
       "    </li>\n",
       "    <li><span style=\"color: orange; font-weight: bold;\">Akasaka Kikunoi</span>\n",
       "        <ul>\n",
       "            <li>Location: Akasaka</li>\n",
       "            <li>Dish: <span style=\"color: blue; font-weight: bold;\">Kaiseki</span></li>\n",
       "            <li>Highlight: Elegant and serene setting. Seasonal ingredients transformed into artful, delicious courses.</li>\n",
       "        </ul>\n",
       "    </li>\n",
       "</ul>\n",
       "```"
      ],
      "text/plain": [
       "<IPython.core.display.HTML object>"
      ]
     },
     "metadata": {},
     "output_type": "display_data"
    }
   ],
   "source": [
    "display(HTML(html_response))"
   ]
  },
  {
   "cell_type": "code",
   "execution_count": 39,
   "metadata": {},
   "outputs": [],
   "source": [
    "# Define the file path\n",
    "highlighted_texted_path = os.path.join(base_path, 'data/highlighted_text.html')"
   ]
  },
  {
   "cell_type": "code",
   "execution_count": 40,
   "metadata": {},
   "outputs": [],
   "source": [
    "# Write the HTML response to a file using the with statement\n",
    "with open(highlighted_texted_path, 'w') as f:\n",
    "    f.write(html_response)"
   ]
  },
  {
   "cell_type": "code",
   "execution_count": 41,
   "metadata": {},
   "outputs": [
    {
     "data": {
      "text/html": [
       "\n",
       "    <html>\n",
       "    <body>\n",
       "    <a href=\"C:/Users/usuar/Documents/Data analyst IronHack/Test projects/AIPythonDeepLearningAI\\data/highlighted_text.html\" download=\"C:/Users/usuar/Documents/Data analyst IronHack/Test projects/AIPythonDeepLearningAI\\data/highlighted_text.html\">\n",
       "        <button>Click here to download your file</button>\n",
       "    </a>\n",
       "    </body>\n",
       "    </html>\n",
       "    "
      ],
      "text/plain": [
       "<IPython.core.display.HTML object>"
      ]
     },
     "metadata": {},
     "output_type": "display_data"
    }
   ],
   "source": [
    "# Generate a download link for the file\n",
    "download_file(highlighted_texted_path)"
   ]
  },
  {
   "cell_type": "code",
   "execution_count": 42,
   "metadata": {},
   "outputs": [
    {
     "data": {
      "text/html": [
       "```html\n",
       "<p>My culinary adventure began at <span style=\"color:orange; font-weight:bold;\">Saint Peter</span>, a renowned seafood restaurant in Paddington. This place is a temple to Australian seafood, and the \"<span style=\"color:blue; font-weight:bold;\">Murray Cod</span>\" was a revelation. The fish, sourced from the Murray River, was perfectly cooked, with a crispy skin and tender, flaky flesh. It was served with a simple yet flavorful accompaniment of seasonal vegetables, allowing the quality of the fish to shine. The restaurant's dedication to sustainability and nose-to-tail seafood cooking added an educational aspect to the delicious meal.</p>\n",
       "\n",
       "<p>Next, I visited <span style=\"color:orange; font-weight:bold;\">Billy Kwong</span> in Potts Point, where celebrated chef Kylie Kwong puts a unique spin on modern Australian cuisine using native ingredients. The standout dish here was the \"<span style=\"color:blue; font-weight:bold;\">Crispy Skin Duck with Davidson’s Plum Sauce</span>.\" The duck was cooked to perfection, with a rich, flavorful meat and delightfully crispy skin, complemented by the tart and slightly sweet Davidson’s plum sauce. This dish was a perfect example of how traditional recipes can be elevated with local, indigenous ingredients, creating something both familiar and new.</p>\n",
       "\n",
       "<p>In search of a true Australian pub experience, I headed to <span style=\"color:orange; font-weight:bold;\">The Lord Nelson Brewery Hotel</span> in The Rocks. This historic pub serves up hearty, classic Australian fare, and the \"<span style=\"color:blue; font-weight:bold;\">Roast Lamb</span>\" was exactly what I was craving. The lamb, roasted to tender perfection, was served with a medley of root vegetables and a rich gravy, making for a comforting and satisfying meal. Paired with one of their house-brewed ales, it was a quintessential Aussie pub experience that I would highly recommend.</p>\n",
       "\n",
       "<p>I couldn't miss out on trying some of the famous Australian barbecue, so I headed to <span style=\"color:orange; font-weight:bold;\">Vic's Meat Market</span> at the Sydney Fish Market. The \"<span style=\"color:blue; font-weight:bold;\">BBQ Beef Brisket</span>\" was a highlight, slow-cooked to achieve a melt-in-the-mouth texture, and served with a tangy barbecue sauce. The smoky, rich flavor of the brisket was enhanced by the vibrant, outdoor setting of the market, where the aroma of grilling meat filled the air.</p>\n",
       "\n",
       "<p>To round off my exploration of local cuisine, I visited <span style=\"color:orange; font-weight:bold;\">Bennelong</span>, located within the iconic Sydney Opera House. This fine dining restaurant celebrates Australian produce in every dish. The \"<span style=\"color:blue; font-weight:bold;\">Sydney Rock Oysters</span>\" were an exquisite start to the meal, served with a delicate vinaigrette that highlighted their briny freshness. The oysters, sourced from local waters, were plump and succulent, offering a pure taste of the sea.</p>\n",
       "```"
      ],
      "text/plain": [
       "<IPython.core.display.HTML object>"
      ]
     },
     "metadata": {},
     "output_type": "display_data"
    }
   ],
   "source": [
    "# Define the file path\n",
    "sidney_path = os.path.join(base_path, 'data/journal_sidney.txt')\n",
    "\n",
    "sidney = read_journal(sidney_path)\n",
    "\n",
    "# Modify the prompt below\n",
    "prompt = f\"\"\"\n",
    "Given the following journal entry from a food critic, identify the \n",
    "restaurants and their best dishes. Highlight and bold each restaurant \n",
    "(in orange) and best dish (in blue) within the original text. \n",
    "\n",
    "Provide the output as HTML suitable for display in a Jupyter notebook. \n",
    "\n",
    "Journal entry:\n",
    "{sidney}\n",
    "\"\"\"\n",
    "\n",
    "html_sydney = get_llm_response(prompt)\n",
    "display(HTML(html_sydney))"
   ]
  },
  {
   "cell_type": "code",
   "execution_count": 43,
   "metadata": {},
   "outputs": [
    {
     "data": {
      "text/html": [
       "\n",
       "    <html>\n",
       "    <body>\n",
       "    <a href=\"C:/Users/usuar/Documents/Data analyst IronHack/Test projects/AIPythonDeepLearningAI\\data/highlighted_sidney.html\" download=\"C:/Users/usuar/Documents/Data analyst IronHack/Test projects/AIPythonDeepLearningAI\\data/highlighted_sidney.html\">\n",
       "        <button>Click here to download your file</button>\n",
       "    </a>\n",
       "    </body>\n",
       "    </html>\n",
       "    "
      ],
      "text/plain": [
       "<IPython.core.display.HTML object>"
      ]
     },
     "metadata": {},
     "output_type": "display_data"
    }
   ],
   "source": [
    "# Define the file path\n",
    "highlighted_sidney_path = os.path.join(base_path, 'data/highlighted_sidney.html')\n",
    "\n",
    "# Write the HTML response to a file using the with statement\n",
    "with open(highlighted_sidney_path, 'w') as f:\n",
    "    f.write(html_sydney)\n",
    "\n",
    "# Generate a download link for the file\n",
    "download_file(highlighted_sidney_path)"
   ]
  },
  {
   "cell_type": "code",
   "execution_count": 44,
   "metadata": {},
   "outputs": [],
   "source": [
    "# Define the file path\n",
    "itinerary_path = os.path.join(base_path, 'data/itinerary.csv')"
   ]
  },
  {
   "cell_type": "code",
   "execution_count": 45,
   "metadata": {},
   "outputs": [
    {
     "name": "stdout",
     "output_type": "stream",
     "text": [
      "{'Arrival': 'July-01', 'Departure': 'July-08', 'City': 'New York', 'Country': 'USA'}\n",
      "{'Arrival': 'July-09', 'Departure': 'July-16', 'City': 'Rio de Janeiro', 'Country': 'Brazil'}\n",
      "{'Arrival': 'July-17', 'Departure': 'July-24', 'City': 'Cape Town', 'Country': 'South Africa'}\n",
      "{'Arrival': 'July-25', 'Departure': 'August-01', 'City': 'Istanbul', 'Country': 'Turkey'}\n",
      "{'Arrival': 'August-02', 'Departure': 'August-09', 'City': 'Paris', 'Country': 'France'}\n",
      "{'Arrival': 'August-10', 'Departure': 'August-17', 'City': 'Tokyo', 'Country': 'Japan'}\n",
      "{'Arrival': 'August-18', 'Departure': 'August-25', 'City': 'Sydney', 'Country': 'Australia'}\n"
     ]
    }
   ],
   "source": [
    "# Open and read the CSV file using the with statement\n",
    "with open(itinerary_path, 'r') as f:\n",
    "    csv_reader = csv.DictReader(f)\n",
    "    itinerary = []\n",
    "    for row in csv_reader:\n",
    "        print(row)\n",
    "        itinerary.append(row)"
   ]
  },
  {
   "cell_type": "code",
   "execution_count": 46,
   "metadata": {},
   "outputs": [
    {
     "name": "stdout",
     "output_type": "stream",
     "text": [
      "[{'Arrival': 'July-01', 'Departure': 'July-08', 'City': 'New York', 'Country': 'USA'}, {'Arrival': 'July-09', 'Departure': 'July-16', 'City': 'Rio de Janeiro', 'Country': 'Brazil'}, {'Arrival': 'July-17', 'Departure': 'July-24', 'City': 'Cape Town', 'Country': 'South Africa'}, {'Arrival': 'July-25', 'Departure': 'August-01', 'City': 'Istanbul', 'Country': 'Turkey'}, {'Arrival': 'August-02', 'Departure': 'August-09', 'City': 'Paris', 'Country': 'France'}, {'Arrival': 'August-10', 'Departure': 'August-17', 'City': 'Tokyo', 'Country': 'Japan'}, {'Arrival': 'August-18', 'Departure': 'August-25', 'City': 'Sydney', 'Country': 'Australia'}]\n"
     ]
    }
   ],
   "source": [
    "print(itinerary)"
   ]
  },
  {
   "cell_type": "code",
   "execution_count": 47,
   "metadata": {},
   "outputs": [
    {
     "data": {
      "text/plain": [
       "list"
      ]
     },
     "execution_count": 47,
     "metadata": {},
     "output_type": "execute_result"
    }
   ],
   "source": [
    "type(itinerary)"
   ]
  },
  {
   "cell_type": "code",
   "execution_count": 48,
   "metadata": {},
   "outputs": [
    {
     "name": "stdout",
     "output_type": "stream",
     "text": [
      "{'Arrival': 'July-01', 'Departure': 'July-08', 'City': 'New York', 'Country': 'USA'}\n"
     ]
    }
   ],
   "source": [
    "# Print item 0 \n",
    "print(itinerary[0])"
   ]
  },
  {
   "cell_type": "code",
   "execution_count": 49,
   "metadata": {},
   "outputs": [
    {
     "name": "stdout",
     "output_type": "stream",
     "text": [
      "USA\n"
     ]
    }
   ],
   "source": [
    "print(itinerary[0][\"Country\"])"
   ]
  },
  {
   "cell_type": "code",
   "execution_count": 50,
   "metadata": {},
   "outputs": [
    {
     "name": "stdout",
     "output_type": "stream",
     "text": [
      "{'Arrival': 'July-09', 'Departure': 'July-16', 'City': 'Rio de Janeiro', 'Country': 'Brazil'}\n",
      "Brazil\n"
     ]
    }
   ],
   "source": [
    "print(itinerary[1])\n",
    "print(itinerary[1][\"Country\"])"
   ]
  },
  {
   "cell_type": "code",
   "execution_count": 51,
   "metadata": {},
   "outputs": [
    {
     "data": {
      "text/html": [
       "<table border='1'><tr><th>Arrival</th><th>Departure</th><th>City</th><th>Country</th></tr><tr><td>July-01</td><td>July-08</td><td>New York</td><td>USA</td></tr><tr><td>July-09</td><td>July-16</td><td>Rio de Janeiro</td><td>Brazil</td></tr><tr><td>July-17</td><td>July-24</td><td>Cape Town</td><td>South Africa</td></tr><tr><td>July-25</td><td>August-01</td><td>Istanbul</td><td>Turkey</td></tr><tr><td>August-02</td><td>August-09</td><td>Paris</td><td>France</td></tr><tr><td>August-10</td><td>August-17</td><td>Tokyo</td><td>Japan</td></tr><tr><td>August-18</td><td>August-25</td><td>Sydney</td><td>Australia</td></tr></table>"
      ],
      "text/plain": [
       "<IPython.core.display.HTML object>"
      ]
     },
     "metadata": {},
     "output_type": "display_data"
    }
   ],
   "source": [
    "display_table(itinerary)"
   ]
  },
  {
   "cell_type": "code",
   "execution_count": 52,
   "metadata": {},
   "outputs": [
    {
     "data": {
      "text/html": [
       "<table border=\"1\" class=\"dataframe\">\n",
       "  <thead>\n",
       "    <tr style=\"text-align: right;\">\n",
       "      <th>Arrival</th>\n",
       "      <th>Departure</th>\n",
       "      <th>City</th>\n",
       "      <th>Country</th>\n",
       "    </tr>\n",
       "  </thead>\n",
       "  <tbody>\n",
       "    <tr>\n",
       "      <td>July-01</td>\n",
       "      <td>July-08</td>\n",
       "      <td>New York</td>\n",
       "      <td>USA</td>\n",
       "    </tr>\n",
       "    <tr>\n",
       "      <td>July-09</td>\n",
       "      <td>July-16</td>\n",
       "      <td>Rio de Janeiro</td>\n",
       "      <td>Brazil</td>\n",
       "    </tr>\n",
       "    <tr>\n",
       "      <td>July-17</td>\n",
       "      <td>July-24</td>\n",
       "      <td>Cape Town</td>\n",
       "      <td>South Africa</td>\n",
       "    </tr>\n",
       "    <tr>\n",
       "      <td>July-25</td>\n",
       "      <td>August-01</td>\n",
       "      <td>Istanbul</td>\n",
       "      <td>Turkey</td>\n",
       "    </tr>\n",
       "    <tr>\n",
       "      <td>August-02</td>\n",
       "      <td>August-09</td>\n",
       "      <td>Paris</td>\n",
       "      <td>France</td>\n",
       "    </tr>\n",
       "    <tr>\n",
       "      <td>August-10</td>\n",
       "      <td>August-17</td>\n",
       "      <td>Tokyo</td>\n",
       "      <td>Japan</td>\n",
       "    </tr>\n",
       "    <tr>\n",
       "      <td>August-18</td>\n",
       "      <td>August-25</td>\n",
       "      <td>Sydney</td>\n",
       "      <td>Australia</td>\n",
       "    </tr>\n",
       "  </tbody>\n",
       "</table>"
      ],
      "text/plain": [
       "<IPython.core.display.HTML object>"
      ]
     },
     "metadata": {},
     "output_type": "display_data"
    }
   ],
   "source": [
    "display_table_pd(itinerary)"
   ]
  },
  {
   "cell_type": "code",
   "execution_count": 53,
   "metadata": {},
   "outputs": [],
   "source": [
    "# Create an empty list to store the filtered data\n",
    "filtered_data = []\n",
    "\n",
    "# Filter by country\n",
    "for trip_stop in itinerary:\n",
    "    # For example: get the destinations located in \"Japan\"\n",
    "    if trip_stop[\"Country\"] == \"Japan\":\n",
    "        filtered_data.append(trip_stop)"
   ]
  },
  {
   "cell_type": "code",
   "execution_count": 54,
   "metadata": {},
   "outputs": [
    {
     "data": {
      "text/html": [
       "<table border='1'><tr><th>Arrival</th><th>Departure</th><th>City</th><th>Country</th></tr><tr><td>August-10</td><td>August-17</td><td>Tokyo</td><td>Japan</td></tr></table>"
      ],
      "text/plain": [
       "<IPython.core.display.HTML object>"
      ]
     },
     "metadata": {},
     "output_type": "display_data"
    }
   ],
   "source": [
    "display_table(filtered_data)"
   ]
  },
  {
   "cell_type": "code",
   "execution_count": 55,
   "metadata": {},
   "outputs": [
    {
     "name": "stdout",
     "output_type": "stream",
     "text": [
      "{'Arrival': 'July-01', 'Departure': 'July-08', 'City': 'New York', 'Country': 'USA'}\n"
     ]
    }
   ],
   "source": [
    "# Select the first destination from the itinerary list (Hint: index=0)\n",
    "trip_stop = itinerary[0]\n",
    "print(trip_stop)"
   ]
  },
  {
   "cell_type": "code",
   "execution_count": 56,
   "metadata": {},
   "outputs": [],
   "source": [
    "city = trip_stop[\"City\"]\n",
    "country = trip_stop[\"Country\"]\n",
    "arrival = trip_stop[\"Arrival\"]\n",
    "departure = trip_stop[\"Departure\"]"
   ]
  },
  {
   "cell_type": "code",
   "execution_count": 57,
   "metadata": {},
   "outputs": [
    {
     "name": "stdout",
     "output_type": "stream",
     "text": [
      "I will visit New York, USA, from July-01 to July-08. \n",
      "Please create a detailed daily itinerary.\n"
     ]
    }
   ],
   "source": [
    "prompt = f\"\"\"I will visit {city}, {country}, from {arrival} to {departure}. \n",
    "Please create a detailed daily itinerary.\"\"\"\n",
    "\n",
    "print(prompt)"
   ]
  },
  {
   "cell_type": "code",
   "execution_count": 58,
   "metadata": {},
   "outputs": [
    {
     "data": {
      "text/markdown": [
       "Here's a suggested itinerary for your trip to New York City from July 1 to July 8:\n",
       "\n",
       "**Day 1: Arrival and Central Park**\n",
       "- **Morning:** Arrive in NYC and check into your hotel.\n",
       "- **Afternoon:** Explore Central Park. Visit Bethesda Terrace, Bow Bridge, and Strawberry Fields.\n",
       "- **Evening:** Dinner around the Upper West Side.\n",
       "\n",
       "**Day 2: Midtown Manhattan**\n",
       "- **Morning:** Visit the Empire State Building or Top of the Rock for city views.\n",
       "- **Afternoon:** Explore Times Square and have lunch.\n",
       "- **Evening:** Catch a Broadway show.\n",
       "\n",
       "**Day 3: The Statue of Liberty & Ellis Island**\n",
       "- **Morning:** Take the ferry to Liberty Island and visit the Statue of Liberty.\n",
       "- **Afternoon:** Explore Ellis Island Immigration Museum.\n",
       "- **Evening:** Walk around Battery Park and dine in the Financial District.\n",
       "\n",
       "**Day 4: Museums and Fifth Avenue**\n",
       "- **Morning:** Visit the Metropolitan Museum of Art.\n",
       "- **Afternoon:** Stroll down Fifth Avenue, stopping at landmarks like St. Patrick's Cathedral.\n",
       "- **Evening:** Explore Rockefeller Center and dine nearby.\n",
       "\n",
       "**Day 5: Lower Manhattan**\n",
       "- **Morning:** Visit the 9/11 Memorial and Museum.\n",
       "- **Afternoon:** Explore Wall Street and One World Observatory.\n",
       "- **Evening:** Dinner in Chinatown or Little Italy.\n",
       "\n",
       "**Day 6: Brooklyn**\n",
       "- **Morning:** Walk across the Brooklyn Bridge.\n",
       "- **Afternoon:** Explore Brooklyn Heights and Dumbo.\n",
       "- **Evening:** Visit Brooklyn Bridge Park and dinner at a local restaurant.\n",
       "\n",
       "**Day 7: Cultural Neighborhoods**\n",
       "- **Morning:** Explore the West Village and Greenwich Village.\n",
       "- **Afternoon:** Visit SoHo for shopping.\n",
       "- **Evening:** Enjoy nightlife in the Meatpacking District.\n",
       "\n",
       "**Day 8: Departure**\n",
       "- **Morning:** Last-minute shopping or visit a neighborhood like the Upper East Side.\n",
       "- **Afternoon:** Check out and head to the airport for departure.\n",
       "\n",
       "Feel free to adjust based on your interests and time, including possible rest days or different attractions. Enjoy your trip!"
      ],
      "text/plain": [
       "<IPython.core.display.Markdown object>"
      ]
     },
     "metadata": {},
     "output_type": "display_data"
    }
   ],
   "source": [
    "# Store the LLM response\n",
    "response = get_llm_response(prompt)\n",
    "\n",
    "# Print in Markdown format\n",
    "display(Markdown(response))"
   ]
  },
  {
   "cell_type": "code",
   "execution_count": 59,
   "metadata": {},
   "outputs": [
    {
     "name": "stdout",
     "output_type": "stream",
     "text": [
      " The city is: Rio de Janeiro\n",
      " The country is: Brazil\n",
      " The arrival date is: {arrival}\n",
      " The departure date is: {departure}\n"
     ]
    }
   ],
   "source": [
    "trip_stop = itinerary[1]\n",
    "\n",
    "city = trip_stop[\"City\"]\n",
    "country = trip_stop[\"Country\"]\n",
    "arrival = trip_stop[\"Arrival\"]\n",
    "departure = trip_stop[\"Departure\"]\n",
    "\n",
    "print(f\" The city is: {city}\")\n",
    "print(f\" The country is: {country}\")\n",
    "print(\" The arrival date is: {arrival}\")\n",
    "print(\" The departure date is: {departure}\")"
   ]
  },
  {
   "cell_type": "code",
   "execution_count": 60,
   "metadata": {},
   "outputs": [
    {
     "name": "stdout",
     "output_type": "stream",
     "text": [
      "****************************************************************************************************\n",
      "Here's a suggested itinerary for your trip to Rio de Janeiro:\n",
      "\n",
      "**Day 1: Arrival and Copacabana**\n",
      "- **Morning:** Arrive in Rio and check into your hotel.\n",
      "- **Afternoon:** Stroll along Copacabana Beach, relax, and enjoy the views.\n",
      "- **Evening:** Dinner at a local restaurant like Marius Degustare.\n",
      "\n",
      "**Day 2: Christ the Redeemer and Santa Teresa**\n",
      "- **Morning:** Visit Christ the Redeemer. Book tickets in advance.\n",
      "- **Afternoon:** Explore the Santa Teresa neighborhood, visit Parque das Ruínas.\n",
      "- **Evening:** Dinner in Santa Teresa, try Aprazível for a scenic view.\n",
      "\n",
      "**Day 3: Sugarloaf Mountain and Botafogo**\n",
      "- **Morning:** Take the cable car to Sugarloaf Mountain.\n",
      "- **Afternoon:** Explore Botafogo Beach and have lunch at a local café.\n",
      "- **Evening:** Visit the Museum of Tomorrow in the evening.\n",
      "\n",
      "**Day 4: Tijuca National Park**\n",
      "- **Full Day:** Hike in Tijuca National Park. Visit the Cascatinha Waterfall and Taunay Waterfall.\n",
      "- **Evening:** Relax and have dinner at a churrascaria like Fogo de Chão.\n",
      "\n",
      "**Day 5: Ipanema and Leblon**\n",
      "- **Morning:** Relax at Ipanema Beach.\n",
      "- **Afternoon:** Explore the shops and cafes in Leblon.\n",
      "- **Evening:** Enjoy sunset at Arpoador Rock, then dinner at Zazá Bistrô Tropical.\n",
      "\n",
      "**Day 6: Lapa and Downtown Rio**\n",
      "- **Morning:** Visit the Selarón Steps and explore Lapa.\n",
      "- **Afternoon:** Tour the Metropolitan Cathedral and the National Library.\n",
      "- **Evening:** Experience Rio's nightlife in Lapa, visit Rio Scenarium.\n",
      "\n",
      "**Day 7: Niterói and Contemporary Art**\n",
      "- **Morning:** Take a ferry to Niterói, visit the Museum of Contemporary Art.\n",
      "- **Afternoon:** Explore Niterói beaches or return to Rio for more sightseeing.\n",
      "- **Evening:** Dinner at a seafood restaurant like Satyricon.\n",
      "\n",
      "**Day 8: Departure**\n",
      "- **Morning:** Last-minute shopping or beach time.\n",
      "- **Afternoon:** Check out and head to the airport for departure.\n",
      "\n",
      "Enjoy your trip!\n",
      "****************************************************************************************************\n",
      "\n",
      "\n"
     ]
    }
   ],
   "source": [
    "prompt = f\"\"\"I will visit {city}, {country}, from {arrival} to {departure}. \n",
    "Please create a detailed daily itinerary.\"\"\"\n",
    "\n",
    "print_llm_response(prompt)"
   ]
  },
  {
   "cell_type": "code",
   "execution_count": 61,
   "metadata": {},
   "outputs": [
    {
     "name": "stdout",
     "output_type": "stream",
     "text": [
      "****************************************************************************************************\n",
      "Here's a suggested itinerary for your trip to New York City:\n",
      "\n",
      "**Day 1: Arrival and Times Square**\n",
      "- Arrive in NYC and check into your hotel.\n",
      "- Evening: Explore Times Square, visit the M&M's World and Disney Store.\n",
      "- Dinner at a nearby restaurant like Carmine's or Junior's.\n",
      "\n",
      "**Day 2: Statue of Liberty and Ellis Island**\n",
      "- Morning: Take the ferry from Battery Park to the Statue of Liberty and Ellis Island.\n",
      "- Afternoon: Lunch in the Financial District, then visit the 9/11 Memorial & Museum.\n",
      "- Evening: Walk around Wall Street and see the Charging Bull.\n",
      "\n",
      "**Day 3: Central Park and Museums**\n",
      "- Morning: Stroll through Central Park, visit Bethesda Terrace and Bow Bridge.\n",
      "- Afternoon: Explore the American Museum of Natural History or the Metropolitan Museum of Art.\n",
      "- Evening: Dinner on the Upper West Side, perhaps at Jacob's Pickles.\n",
      "\n",
      "**Day 4: Midtown and Broadway**\n",
      "- Morning: Visit Rockefeller Center, Top of the Rock, and St. Patrick's Cathedral.\n",
      "- Afternoon: Explore Fifth Avenue, including the New York Public Library and Bryant Park.\n",
      "- Evening: Attend a Broadway show. Book tickets in advance.\n",
      "\n",
      "**Day 5: Brooklyn**\n",
      "- Morning: Walk across the Brooklyn Bridge.\n",
      "- Afternoon: Explore DUMBO, visit Brooklyn Bridge Park, and have lunch at Time Out Market.\n",
      "- Evening: Visit Williamsburg for dinner and nightlife.\n",
      "\n",
      "**Day 6: The High Line and Chelsea**\n",
      "- Morning: Walk the High Line, starting at Hudson Yards.\n",
      "- Afternoon: Explore Chelsea Market for lunch, then visit the Whitney Museum of American Art.\n",
      "- Evening: Dinner in the Meatpacking District.\n",
      "\n",
      "**Day 7: Lower East Side and SoHo**\n",
      "- Morning: Visit the Tenement Museum.\n",
      "- Afternoon: Explore SoHo for shopping and lunch.\n",
      "- Evening: Dinner in the Lower East Side, perhaps at Katz's Delicatessen.\n",
      "\n",
      "**Day 8: Departure**\n",
      "- Morning: Last-minute shopping or visit a local café.\n",
      "- Check out and head to the airport.\n",
      "\n",
      "Adjust based on your interests and any specific events or shows you want to attend. Enjoy your trip!\n",
      "****************************************************************************************************\n",
      "\n",
      "\n",
      "****************************************************************************************************\n",
      "Here's a suggested itinerary for your trip to Rio de Janeiro:\n",
      "\n",
      "**Day 1: Arrival and Copacabana**\n",
      "- **Morning:** Arrive in Rio and check into your hotel.\n",
      "- **Afternoon:** Stroll along Copacabana Beach, relax, and enjoy the views.\n",
      "- **Evening:** Dinner at a local restaurant like Marius Degustare.\n",
      "\n",
      "**Day 2: Christ the Redeemer and Santa Teresa**\n",
      "- **Morning:** Visit Christ the Redeemer. Take the train from Corcovado.\n",
      "- **Afternoon:** Explore the Santa Teresa neighborhood, visit Parque das Ruínas.\n",
      "- **Evening:** Dinner in Santa Teresa, try Aprazível for a scenic view.\n",
      "\n",
      "**Day 3: Sugarloaf Mountain and Botafogo**\n",
      "- **Morning:** Take the cable car to Sugarloaf Mountain for panoramic views.\n",
      "- **Afternoon:** Explore Botafogo, visit the Museum of the Republic.\n",
      "- **Evening:** Dinner at Fogo de Chão for a Brazilian steakhouse experience.\n",
      "\n",
      "**Day 4: Tijuca National Park and Maracanã**\n",
      "- **Morning:** Hike in Tijuca National Park, visit the Cascatinha Waterfall.\n",
      "- **Afternoon:** Tour Maracanã Stadium.\n",
      "- **Evening:** Relax and have dinner at a local churrascaria.\n",
      "\n",
      "**Day 5: Ipanema and Leblon**\n",
      "- **Morning:** Relax on Ipanema Beach, visit the Hippie Fair if it's Sunday.\n",
      "- **Afternoon:** Walk to Leblon, enjoy the shops and cafes.\n",
      "- **Evening:** Sunset at Arpoador, dinner at Zazá Bistrô Tropical.\n",
      "\n",
      "**Day 6: Lapa and Downtown Rio**\n",
      "- **Morning:** Visit the Selarón Steps and Lapa Arches.\n",
      "- **Afternoon:** Explore downtown, visit the Metropolitan Cathedral and the National Library.\n",
      "- **Evening:** Experience Rio's nightlife in Lapa, try Rio Scenarium.\n",
      "\n",
      "**Day 7: Niterói and Museum of Tomorrow**\n",
      "- **Morning:** Take a ferry to Niterói, visit the Niterói Contemporary Art Museum.\n",
      "- **Afternoon:** Return to Rio, visit the Museum of Tomorrow.\n",
      "- **Evening:** Dinner at a seafood restaurant like Satyricon.\n",
      "\n",
      "**Day 8: Departure**\n",
      "- **Morning:** Last-minute shopping or beach time.\n",
      "- **Afternoon:** Check out and head to the airport for departure.\n",
      "\n",
      "Enjoy your trip!\n",
      "****************************************************************************************************\n",
      "\n",
      "\n",
      "****************************************************************************************************\n",
      "Here's a suggested itinerary for your trip to Cape Town:\n",
      "\n",
      "**Day 1: Arrival and Exploration**\n",
      "- **Morning:** Arrive in Cape Town. Check into your accommodation.\n",
      "- **Afternoon:** Explore the V&A Waterfront. Visit the Two Oceans Aquarium.\n",
      "- **Evening:** Dinner at a waterfront restaurant.\n",
      "\n",
      "**Day 2: Table Mountain and City Tour**\n",
      "- **Morning:** Take the cable car up Table Mountain. Enjoy panoramic views.\n",
      "- **Afternoon:** Explore the Company's Garden, visit the South African Museum, and the National Gallery.\n",
      "- **Evening:** Dinner on Long Street. Experience local nightlife.\n",
      "\n",
      "**Day 3: Cape Peninsula Tour**\n",
      "- **Morning:** Drive to Cape Point via Chapman's Peak Drive. Stop at Hout Bay.\n",
      "- **Afternoon:** Visit Cape of Good Hope and Boulders Beach to see penguins.\n",
      "- **Evening:** Return to Cape Town. Dinner at a local seafood restaurant.\n",
      "\n",
      "**Day 4: Robben Island and Bo-Kaap**\n",
      "- **Morning:** Ferry to Robben Island. Tour the historic site.\n",
      "- **Afternoon:** Explore Bo-Kaap. Visit the Bo-Kaap Museum and enjoy the colorful houses.\n",
      "- **Evening:** Dinner at a traditional Cape Malay restaurant.\n",
      "\n",
      "**Day 5: Winelands Tour**\n",
      "- **Morning:** Head to Stellenbosch. Visit a couple of wineries for tastings.\n",
      "- **Afternoon:** Explore Franschhoek. Enjoy lunch at a vineyard.\n",
      "- **Evening:** Return to Cape Town. Relax at your accommodation.\n",
      "\n",
      "**Day 6: Kirstenbosch and Constantia**\n",
      "- **Morning:** Visit Kirstenbosch National Botanical Garden.\n",
      "- **Afternoon:** Explore the Constantia Wine Route. Visit Groot Constantia.\n",
      "- **Evening:** Dinner at a vineyard restaurant.\n",
      "\n",
      "**Day 7: Township Tour and Relaxation**\n",
      "- **Morning:** Take a guided township tour to learn about local culture.\n",
      "- **Afternoon:** Relax at Camps Bay Beach or Clifton Beach.\n",
      "- **Evening:** Farewell dinner at a top-rated restaurant.\n",
      "\n",
      "**Day 8: Departure**\n",
      "- **Morning:** Last-minute shopping or visit Greenmarket Square.\n",
      "- **Afternoon:** Check out and head to the airport for departure.\n",
      "\n",
      "Adjust the itinerary based on your interests and pace. Enjoy your trip!\n",
      "****************************************************************************************************\n",
      "\n",
      "\n",
      "****************************************************************************************************\n",
      "Here's a suggested itinerary for your trip to Istanbul:\n",
      "\n",
      "**Day 1: Arrival and Sultanahmet**\n",
      "- **Morning:** Arrive in Istanbul. Check into your hotel.\n",
      "- **Afternoon:** Visit the Hagia Sophia and the Blue Mosque.\n",
      "- **Evening:** Explore the Basilica Cistern. Dinner in Sultanahmet.\n",
      "\n",
      "**Day 2: Topkapi Palace and Grand Bazaar**\n",
      "- **Morning:** Tour Topkapi Palace and its Harem.\n",
      "- **Afternoon:** Visit the Istanbul Archaeological Museums.\n",
      "- **Evening:** Shop at the Grand Bazaar. Dinner nearby.\n",
      "\n",
      "**Day 3: Bosphorus Cruise and Taksim Square**\n",
      "- **Morning:** Take a Bosphorus cruise.\n",
      "- **Afternoon:** Explore Dolmabahçe Palace.\n",
      "- **Evening:** Walk around Taksim Square and Istiklal Street. Dinner in the area.\n",
      "\n",
      "**Day 4: Asian Side and Kadıköy**\n",
      "- **Morning:** Ferry to the Asian side. Visit Üsküdar.\n",
      "- **Afternoon:** Explore Kadıköy, including the local markets.\n",
      "- **Evening:** Dinner in Kadıköy. Return to the European side.\n",
      "\n",
      "**Day 5: Chora Church and Balat**\n",
      "- **Morning:** Visit the Chora Church (Kariye Museum).\n",
      "- **Afternoon:** Explore the colorful streets of Balat and Fener.\n",
      "- **Evening:** Dinner in Balat.\n",
      "\n",
      "**Day 6: Princes' Islands**\n",
      "- **All Day:** Take a ferry to Büyükada, the largest of the Princes' Islands. Rent a bike or take a horse-drawn carriage tour. Enjoy a seafood lunch.\n",
      "- **Evening:** Return to Istanbul. Relax at your hotel.\n",
      "\n",
      "**Day 7: Modern Istanbul and Departure**\n",
      "- **Morning:** Visit Istanbul Modern or the Pera Museum.\n",
      "- **Afternoon:** Last-minute shopping or explore Nişantaşı.\n",
      "- **Evening:** Dinner at a rooftop restaurant with a view. Prepare for departure.\n",
      "\n",
      "**Day 8: Departure**\n",
      "- **Morning:** Check out and head to the airport.\n",
      "\n",
      "Adjust based on your interests and pace. Enjoy your trip!\n",
      "****************************************************************************************************\n",
      "\n",
      "\n",
      "****************************************************************************************************\n",
      "Here's a suggested itinerary for your trip to Paris:\n",
      "\n",
      "**Day 1: Arrival and Exploration**\n",
      "- **Morning:** Arrive in Paris, check into your hotel.\n",
      "- **Afternoon:** Stroll along the Seine River, visit Notre-Dame Cathedral.\n",
      "- **Evening:** Dinner in the Latin Quarter.\n",
      "\n",
      "**Day 2: Iconic Landmarks**\n",
      "- **Morning:** Visit the Eiffel Tower, book tickets in advance.\n",
      "- **Afternoon:** Explore Trocadéro Gardens and the Arc de Triomphe.\n",
      "- **Evening:** Walk down the Champs-Élysées, dinner nearby.\n",
      "\n",
      "**Day 3: Art and Culture**\n",
      "- **Morning:** Visit the Louvre Museum, focus on key exhibits.\n",
      "- **Afternoon:** Explore the Palais Royal and its gardens.\n",
      "- **Evening:** Dinner in Le Marais, explore the area.\n",
      "\n",
      "**Day 4: Montmartre and Sacré-Cœur**\n",
      "- **Morning:** Head to Montmartre, visit Sacré-Cœur Basilica.\n",
      "- **Afternoon:** Explore Place du Tertre, visit the Dali Museum.\n",
      "- **Evening:** Dinner at a local bistro, enjoy a cabaret show at Moulin Rouge.\n",
      "\n",
      "**Day 5: Versailles Day Trip**\n",
      "- **Morning:** Travel to Versailles, tour the Palace and Gardens.\n",
      "- **Afternoon:** Continue exploring Versailles.\n",
      "- **Evening:** Return to Paris, dinner in Saint-Germain-des-Prés.\n",
      "\n",
      "**Day 6: Modern Paris**\n",
      "- **Morning:** Visit the Pompidou Center.\n",
      "- **Afternoon:** Explore the Marais district, visit the Picasso Museum.\n",
      "- **Evening:** Dinner in the Bastille area, enjoy nightlife.\n",
      "\n",
      "**Day 7: Leisure and Shopping**\n",
      "- **Morning:** Visit the Musée d'Orsay.\n",
      "- **Afternoon:** Shopping at Galeries Lafayette or Le Bon Marché.\n",
      "- **Evening:** Seine River cruise, dinner on board.\n",
      "\n",
      "**Day 8: Parks and Relaxation**\n",
      "- **Morning:** Stroll through Luxembourg Gardens.\n",
      "- **Afternoon:** Visit the Panthéon and nearby attractions.\n",
      "- **Evening:** Farewell dinner at a rooftop restaurant with a view.\n",
      "\n",
      "**Day 9: Departure**\n",
      "- **Morning:** Last-minute shopping or visit a local café.\n",
      "- **Afternoon:** Check out and head to the airport.\n",
      "\n",
      "Ensure to check opening hours and book tickets in advance where possible. Enjoy your trip!\n",
      "****************************************************************************************************\n",
      "\n",
      "\n",
      "****************************************************************************************************\n",
      "Here's a suggested itinerary for your trip to Tokyo:\n",
      "\n",
      "**Day 1: Arrival and Shinjuku**\n",
      "- **Morning:** Arrive in Tokyo, check into your hotel.\n",
      "- **Afternoon:** Explore Shinjuku Gyoen National Garden.\n",
      "- **Evening:** Visit the observation deck at Tokyo Metropolitan Government Building.\n",
      "- **Night:** Dinner and explore nightlife in Kabukicho.\n",
      "\n",
      "**Day 2: Shibuya and Harajuku**\n",
      "- **Morning:** Visit Meiji Shrine.\n",
      "- **Afternoon:** Explore Takeshita Street in Harajuku.\n",
      "- **Evening:** Cross the famous Shibuya Crossing and visit Hachiko Statue.\n",
      "- **Night:** Dinner in Shibuya, explore local izakayas.\n",
      "\n",
      "**Day 3: Asakusa and Akihabara**\n",
      "- **Morning:** Visit Senso-ji Temple in Asakusa.\n",
      "- **Afternoon:** Stroll through Nakamise Shopping Street.\n",
      "- **Evening:** Head to Akihabara for electronics and anime culture.\n",
      "- **Night:** Dinner at a themed café in Akihabara.\n",
      "\n",
      "**Day 4: Ueno and Yanaka**\n",
      "- **Morning:** Explore Ueno Park and Tokyo National Museum.\n",
      "- **Afternoon:** Walk through Ameyoko Market.\n",
      "- **Evening:** Visit Yanaka Ginza for a traditional shopping street experience.\n",
      "- **Night:** Dinner in Yanaka.\n",
      "\n",
      "**Day 5: Odaiba**\n",
      "- **Morning:** Head to Odaiba, visit teamLab Borderless.\n",
      "- **Afternoon:** Explore DiverCity Tokyo Plaza and see the Gundam statue.\n",
      "- **Evening:** Relax at Oedo Onsen Monogatari.\n",
      "- **Night:** Dinner with a view of Rainbow Bridge.\n",
      "\n",
      "**Day 6: Tokyo Disneyland or DisneySea**\n",
      "- **All Day:** Spend the day at Tokyo Disneyland or DisneySea.\n",
      "- **Night:** Return to Tokyo, dinner near your accommodation.\n",
      "\n",
      "**Day 7: Imperial Palace and Ginza**\n",
      "- **Morning:** Visit the Imperial Palace East Gardens.\n",
      "- **Afternoon:** Explore the upscale shopping district of Ginza.\n",
      "- **Evening:** Visit the Sony Building or Ginza Six.\n",
      "- **Night:** Enjoy a fine dining experience in Ginza.\n",
      "\n",
      "**Day 8: Departure**\n",
      "- **Morning:** Last-minute shopping or sightseeing.\n",
      "- **Afternoon:** Check out and head to the airport for departure.\n",
      "\n",
      "Adjust the itinerary based on your interests and travel pace. Enjoy your trip!\n",
      "****************************************************************************************************\n",
      "\n",
      "\n",
      "****************************************************************************************************\n",
      "Here's a suggested itinerary for your trip to Sydney:\n",
      "\n",
      "**Day 1: Arrival and Exploration**\n",
      "- **Morning:** Arrive in Sydney. Check into your hotel.\n",
      "- **Afternoon:** Explore Circular Quay. Visit the Sydney Opera House and take a guided tour.\n",
      "- **Evening:** Dinner at a waterfront restaurant in The Rocks.\n",
      "\n",
      "**Day 2: City Sights**\n",
      "- **Morning:** Visit the Royal Botanic Garden. Walk to Mrs Macquarie's Chair for views.\n",
      "- **Afternoon:** Explore the Art Gallery of New South Wales.\n",
      "- **Evening:** Stroll through Darling Harbour. Enjoy dinner at a harborside restaurant.\n",
      "\n",
      "**Day 3: Beach Day**\n",
      "- **Morning:** Head to Bondi Beach. Walk the Bondi to Coogee coastal trail.\n",
      "- **Afternoon:** Relax at Coogee Beach. Have lunch at a local café.\n",
      "- **Evening:** Return to the city. Dinner in Surry Hills.\n",
      "\n",
      "**Day 4: Blue Mountains Day Trip**\n",
      "- **All Day:** Take a day trip to the Blue Mountains. Visit Scenic World, see the Three Sisters, and explore Leura village.\n",
      "- **Evening:** Return to Sydney. Relax and have dinner at your hotel or nearby.\n",
      "\n",
      "**Day 5: Wildlife and Culture**\n",
      "- **Morning:** Visit Taronga Zoo. Take the ferry from Circular Quay.\n",
      "- **Afternoon:** Explore the Australian Museum.\n",
      "- **Evening:** Dinner in Chinatown. Try some local Asian cuisine.\n",
      "\n",
      "**Day 6: Harbour and History**\n",
      "- **Morning:** Take a Sydney Harbour cruise.\n",
      "- **Afternoon:** Visit the Museum of Sydney and the historic Hyde Park Barracks.\n",
      "- **Evening:** Enjoy a performance at the Sydney Opera House if available.\n",
      "\n",
      "**Day 7: Shopping and Relaxation**\n",
      "- **Morning:** Shop at Queen Victoria Building and Pitt Street Mall.\n",
      "- **Afternoon:** Visit Barangaroo Reserve. Relax and enjoy the views.\n",
      "- **Evening:** Farewell dinner at a fine dining restaurant in Darling Harbour.\n",
      "\n",
      "**Day 8: Departure**\n",
      "- **Morning:** Last-minute shopping or visit a local café.\n",
      "- **Afternoon:** Check out and head to the airport for departure.\n",
      "\n",
      "Adjust the itinerary based on your interests and any specific events or activities you wish to include. Enjoy your trip!\n",
      "****************************************************************************************************\n",
      "\n",
      "\n"
     ]
    }
   ],
   "source": [
    "# Plan the itinerary for all the destinations:\n",
    "for trip_stop in itinerary:\n",
    "\n",
    "    city = trip_stop[\"City\"]\n",
    "    country = trip_stop[\"Country\"]\n",
    "    arrival = trip_stop[\"Arrival\"]\n",
    "    departure = trip_stop[\"Departure\"]\n",
    "\n",
    "    prompt = f\"\"\"I will visit {city}, {country}, from {arrival} to {departure}. \n",
    "Please create a detailed daily itinerary.\"\"\"\n",
    "\n",
    "    print_llm_response(prompt)\n",
    "    "
   ]
  },
  {
   "cell_type": "code",
   "execution_count": 62,
   "metadata": {},
   "outputs": [
    {
     "name": "stdout",
     "output_type": "stream",
     "text": [
      "- Sukiyabashi Jiro offers legendary omakase sushi in Ginza, crafted by Jiro Ono, known for balance and flavor.  \n",
      "- Ichiran Ramen in Shibuya provides a focused ramen experience with personal booths and rich tonkotsu broth.  \n",
      "- Tsukiji Outer Market is vibrant with fresh sashimi, grilled seafood, and street food in Tsukiji, ideal for variety seekers.  \n"
     ]
    }
   ],
   "source": [
    "# This line of code runs your function for journal_tokyo.txt and returns the output\n",
    "output_bullets = create_bullet_points(tokyo_path)\n",
    "\n",
    "print(output_bullets)"
   ]
  },
  {
   "cell_type": "code",
   "execution_count": 63,
   "metadata": {},
   "outputs": [
    {
     "data": {
      "text/html": [
       "<table border=\"1\" class=\"dataframe\">\n",
       "  <thead>\n",
       "    <tr style=\"text-align: right;\">\n",
       "      <th>Arrival</th>\n",
       "      <th>Departure</th>\n",
       "      <th>City</th>\n",
       "      <th>Country</th>\n",
       "    </tr>\n",
       "  </thead>\n",
       "  <tbody>\n",
       "    <tr>\n",
       "      <td>July-01</td>\n",
       "      <td>July-08</td>\n",
       "      <td>New York</td>\n",
       "      <td>USA</td>\n",
       "    </tr>\n",
       "    <tr>\n",
       "      <td>July-09</td>\n",
       "      <td>July-16</td>\n",
       "      <td>Rio de Janeiro</td>\n",
       "      <td>Brazil</td>\n",
       "    </tr>\n",
       "    <tr>\n",
       "      <td>July-17</td>\n",
       "      <td>July-24</td>\n",
       "      <td>Cape Town</td>\n",
       "      <td>South Africa</td>\n",
       "    </tr>\n",
       "    <tr>\n",
       "      <td>July-25</td>\n",
       "      <td>August-01</td>\n",
       "      <td>Istanbul</td>\n",
       "      <td>Turkey</td>\n",
       "    </tr>\n",
       "    <tr>\n",
       "      <td>August-02</td>\n",
       "      <td>August-09</td>\n",
       "      <td>Paris</td>\n",
       "      <td>France</td>\n",
       "    </tr>\n",
       "    <tr>\n",
       "      <td>August-10</td>\n",
       "      <td>August-17</td>\n",
       "      <td>Tokyo</td>\n",
       "      <td>Japan</td>\n",
       "    </tr>\n",
       "    <tr>\n",
       "      <td>August-18</td>\n",
       "      <td>August-25</td>\n",
       "      <td>Sydney</td>\n",
       "      <td>Australia</td>\n",
       "    </tr>\n",
       "  </tbody>\n",
       "</table>"
      ],
      "text/plain": [
       "<IPython.core.display.HTML object>"
      ]
     },
     "metadata": {},
     "output_type": "display_data"
    }
   ],
   "source": [
    "display_table_pd(itinerary)"
   ]
  },
  {
   "cell_type": "code",
   "execution_count": 64,
   "metadata": {},
   "outputs": [
    {
     "name": "stdout",
     "output_type": "stream",
     "text": [
      "****************************************************************************************************\n",
      "Restaurant,Specialty\n",
      "Sukiyabashi Jiro,Omakase sushi\n",
      "Ichiran Ramen,Tonkotsu ramen\n",
      "Tsukiji Outer Market,Fresh sashimi and street food\n",
      "Narisawa,Innovative tasting menu\n",
      "Ginza Kojyu,Kaiseki\n",
      "Akasaka Kikunoi,Kaiseki\n",
      "****************************************************************************************************\n",
      "\n",
      "\n"
     ]
    }
   ],
   "source": [
    "# Write the prompt\n",
    "prompt = f\"\"\"Please extract a comprehensive list of the restaurants \n",
    "and their respective specialties mentioned in the following journal entry. \n",
    "Ensure that each restaurant name is accurately identified and listed. \n",
    "Provide your answer in CSV format, ready to save. \n",
    "Exclude the \"```csv\" declaration, don't add spaces after the comma, include column headers.\n",
    "\n",
    "Format:\n",
    "Restaurant, Specialty\n",
    "Res_1, Sp_1\n",
    "...\n",
    "\n",
    "Journal entry:\n",
    "{tokyo}\n",
    "\"\"\"\n",
    "\n",
    "# Print the prompt\n",
    "print_llm_response(prompt)"
   ]
  },
  {
   "cell_type": "code",
   "execution_count": 65,
   "metadata": {},
   "outputs": [
    {
     "data": {
      "text/html": [
       "<table border=\"1\" class=\"dataframe\">\n",
       "  <thead>\n",
       "    <tr style=\"text-align: right;\">\n",
       "      <th>Restaurant</th>\n",
       "      <th>Specialty</th>\n",
       "    </tr>\n",
       "  </thead>\n",
       "  <tbody>\n",
       "    <tr>\n",
       "      <td>Saint Peter</td>\n",
       "      <td>Murray Cod</td>\n",
       "    </tr>\n",
       "    <tr>\n",
       "      <td>Billy Kwong</td>\n",
       "      <td>Crispy Skin Duck with Davidson’s Plum Sauce</td>\n",
       "    </tr>\n",
       "    <tr>\n",
       "      <td>The Lord Nelson Brewery Hotel</td>\n",
       "      <td>Roast Lamb</td>\n",
       "    </tr>\n",
       "    <tr>\n",
       "      <td>Carriageworks Farmers Market</td>\n",
       "      <td>Kangaroo Pie</td>\n",
       "    </tr>\n",
       "    <tr>\n",
       "      <td>Vic's Meat Market</td>\n",
       "      <td>BBQ Beef Brisket</td>\n",
       "    </tr>\n",
       "    <tr>\n",
       "      <td>Bennelong</td>\n",
       "      <td>Sydney Rock Oysters</td>\n",
       "    </tr>\n",
       "  </tbody>\n",
       "</table>"
      ],
      "text/plain": [
       "<IPython.core.display.HTML object>"
      ]
     },
     "metadata": {},
     "output_type": "display_data"
    }
   ],
   "source": [
    "sydney_restaurants_path = os.path.join(base_path, 'data/Sydney.csv')\n",
    "\n",
    "# Use the read_csv function\n",
    "sydney_restaurants = read_csv(sydney_restaurants_path)\n",
    "\n",
    "display_table_pd(sydney_restaurants)"
   ]
  },
  {
   "cell_type": "code",
   "execution_count": 66,
   "metadata": {},
   "outputs": [],
   "source": [
    "# Select Sydney from the 'itinerary' list\n",
    "trip_stop = itinerary[6]"
   ]
  },
  {
   "cell_type": "code",
   "execution_count": 67,
   "metadata": {},
   "outputs": [],
   "source": [
    "city = trip_stop[\"City\"]\n",
    "country = trip_stop[\"Country\"]\n",
    "arrival = trip_stop[\"Arrival\"]\n",
    "departure = trip_stop[\"Departure\"]\n",
    "restaurants = sydney_restaurants"
   ]
  },
  {
   "cell_type": "code",
   "execution_count": 68,
   "metadata": {},
   "outputs": [
    {
     "data": {
      "text/markdown": [
       "Here's a suggested itinerary for your trip to Sydney:\n",
       "\n",
       "**Day 1: August 18 (Friday)**\n",
       "- **Morning**: Arrive and check into your accommodation.\n",
       "- **Lunch**: Carriageworks Farmers Market (Try the Kangaroo Pie)\n",
       "- **Afternoon**: Explore the nearby Art Gallery of New South Wales.\n",
       "- **Dinner**: The Lord Nelson Brewery Hotel (Try the Roast Lamb)\n",
       "\n",
       "**Day 2: August 19 (Saturday)**\n",
       "- **Breakfast**: Hotel or local café\n",
       "- **Morning**: Visit Sydney Opera House (consider a guided tour).\n",
       "- **Lunch**: Bennelong at the Opera House (Try the Sydney Rock Oysters)\n",
       "- **Afternoon**: Walk through the Royal Botanic Garden.\n",
       "- **Dinner**: Saint Peter (Try the Murray Cod)\n",
       "\n",
       "**Day 3: August 20 (Sunday)**\n",
       "- **Breakfast**: Hotel or local café\n",
       "- **Morning**: Stroll along Bondi Beach and do the Bondi to Coogee walk.\n",
       "- **Lunch**: Local beach café\n",
       "- **Afternoon**: Relax at the beach or visit the Bondi Markets.\n",
       "- **Dinner**: Billy Kwong (Try the Crispy Skin Duck with Davidson’s Plum Sauce)\n",
       "\n",
       "**Day 4: August 21 (Monday)**\n",
       "- **Breakfast**: Hotel or local café\n",
       "- **Morning**: Visit Taronga Zoo.\n",
       "- **Lunch**: Zoo café or bring a packed lunch.\n",
       "- **Afternoon**: Continue exploring the zoo or take the ferry back to Circular Quay.\n",
       "- **Dinner**: Vic's Meat Market (Try the BBQ Beef Brisket)\n",
       "\n",
       "**Day 5: August 22 (Tuesday)**\n",
       "- **Breakfast**: Hotel or local café\n",
       "- **Morning**: Explore The Rocks and its historical sites.\n",
       "- **Lunch**: Quay (reservation recommended)\n",
       "- **Afternoon**: Visit the Museum of Contemporary Art.\n",
       "- **Dinner**: Explore Barangaroo dining options* (without repeating previous choices).\n",
       "\n",
       "**Day 6: August 23 (Wednesday)**\n",
       "- **Breakfast**: Hotel or local café\n",
       "- **Morning**: Day trip to the Blue Mountains, visit Scenic World.\n",
       "- **Lunch**: Café in the Blue Mountains\n",
       "- **Afternoon**: Explore Leura village.\n",
       "- **Dinner**: Return to Sydney, casual dinner in town.\n",
       "\n",
       "**Day 7: August 24 (Thursday)**\n",
       "- **Breakfast**: Hotel or local café\n",
       "- **Morning**: Visit Sea Life Sydney Aquarium.\n",
       "- **Lunch**: Darling Harbour area.\n",
       "- **Afternoon**: Sydney Tower Eye for panoramic city views.\n",
       "- **Dinner**: Choose a new restaurant in Darling Harbour or CBD.\n",
       "\n",
       "**Day 8: August 25 (Friday)**\n",
       "- **Breakfast**: Hotel or local café\n",
       "- **Morning**: Last-minute shopping at Pitt Street Mall.\n",
       "- **Lunch**: Local café\n",
       "- **Afternoon**: Relax and prepare for departure.\n",
       "\n",
       "Enjoy your trip! Make sure to check specific opening days and times for each activity and restaurant, as they may vary."
      ],
      "text/plain": [
       "<IPython.core.display.Markdown object>"
      ]
     },
     "metadata": {},
     "output_type": "display_data"
    }
   ],
   "source": [
    "# Write the prompt\n",
    "prompt = f\"\"\"I will visit {city}, {country} from {arrival} to {departure}. \n",
    "Create a daily itinerary with detailed activities. \n",
    "Designate times for breakfast, lunch, and dinner. \n",
    "\n",
    "I want to visit the restaurants listed in the restaurant dictionary \n",
    "without repeating any place. Make sure to mention the specialty\n",
    "that I should try at each of them.\n",
    "\n",
    "Restaurant dictionary:\n",
    "{restaurants}\n",
    "\n",
    "\"\"\"\n",
    "\n",
    "response = get_llm_response(prompt)\n",
    "\n",
    "# Print the LLM response in Markdown format\n",
    "display(Markdown(response))"
   ]
  },
  {
   "cell_type": "code",
   "execution_count": 69,
   "metadata": {},
   "outputs": [
    {
     "name": "stdout",
     "output_type": "stream",
     "text": [
      "Creating detailed itinerary for New York, USA.\n",
      "Creating detailed itinerary for Rio de Janeiro, Brazil.\n",
      "Creating detailed itinerary for Cape Town, South Africa.\n",
      "Creating detailed itinerary for Istanbul, Turkey.\n",
      "Creating detailed itinerary for Paris, France.\n",
      "Creating detailed itinerary for Tokyo, Japan.\n",
      "Creating detailed itinerary for Sydney, Australia.\n"
     ]
    }
   ],
   "source": [
    "# Create an empty dictionary to store the itinerary for each destination\n",
    "detailed_itinerary = {}\n",
    "\n",
    " # Use the 'for' loop over the 'itinerary' list   \n",
    "for trip_stop in itinerary:\n",
    "    city = trip_stop[\"City\"]\n",
    "    country = trip_stop[\"Country\"]\n",
    "    arrival = trip_stop[\"Arrival\"]\n",
    "    departure = trip_stop[\"Departure\"]\n",
    "\n",
    "    city_path = os.path.join(base_path, f'data/{city}.csv')\n",
    "\n",
    "    rest_dict = read_csv(city_path)\n",
    "    \n",
    "    print(f\"Creating detailed itinerary for {city}, {country}.\")\n",
    "    \n",
    "    prompt = f\"\"\"I will visit {city}, {country} from {arrival} to {departure}. \n",
    "    Create a daily itinerary with detailed activities. \n",
    "    Designate times for breakfast, lunch, and dinner. \n",
    "\n",
    "    I want to visit the restaurants listed in the restaurant dictionary without repeating any place.\n",
    "    Make sure to mention the specialty that I should try at each of them.\n",
    "\n",
    "    Restaurant dictionary:\n",
    "    {rest_dict}\n",
    "\n",
    "    \"\"\"\n",
    "    # Store the detailed itinerary for the city to the dictionary\n",
    "    detailed_itinerary[city] = get_llm_response(prompt)"
   ]
  },
  {
   "cell_type": "code",
   "execution_count": 70,
   "metadata": {},
   "outputs": [
    {
     "data": {
      "text/markdown": [
       "Here is a suggested itinerary for your Tokyo trip from August 10 to August 17:\n",
       "\n",
       "**Day 1: August 10 (Thursday)**\n",
       "- **Morning:**\n",
       "  - Arrive in Tokyo and check into your hotel.\n",
       "  - Visit Asakusa and Senso-ji Temple.\n",
       "- **Lunch:**\n",
       "  - **Ichiran Ramen** - Try the Tonkotsu ramen.\n",
       "- **Afternoon:**\n",
       "  - Explore Ueno Park and Tokyo National Museum.\n",
       "- **Dinner:**\n",
       "  - **Sukiyabashi Jiro** - Enjoy omakase sushi.\n",
       "\n",
       "**Day 2: August 11 (Friday)**\n",
       "- **Morning:**\n",
       "  - Visit Tsukiji Outer Market for fresh sashimi and street food brunch.\n",
       "- **Afternoon:**\n",
       "  - Discover Ginza. Visit art galleries and shop.\n",
       "- **Dinner:**\n",
       "  - **Narisawa** - Savor the innovative tasting menu.\n",
       "\n",
       "**Day 3: August 12 (Saturday)**\n",
       "- **Morning:**\n",
       "  - Stroll through the Meiji Shrine and Yoyogi Park.\n",
       "- **Lunch:**\n",
       "  - **Afuri** - Taste the yuzu shio ramen.\n",
       "- **Afternoon:**\n",
       "  - Explore Harajuku and Omotesando.\n",
       "- **Dinner:**\n",
       "  - **Ginza Kojyu** - Enjoy a kaiseki meal.\n",
       "\n",
       "**Day 4: August 13 (Sunday)**\n",
       "- **Morning:**\n",
       "  - Explore Shinjuku Gyoen National Garden.\n",
       "- **Lunch:**\n",
       "  - **Tempura Kondo** - Try the seasonal vegetable and seafood tempura.\n",
       "- **Afternoon:**\n",
       "  - Visit the Samurai Museum and enjoy shopping in Shinjuku.\n",
       "- **Dinner:**\n",
       "  - **Kyubey** - Relish a sushi dinner.\n",
       "\n",
       "**Day 5: August 14 (Monday)**\n",
       "- **Morning:**\n",
       "  - Day trip to Hakone for views of Mount Fuji and hot springs.\n",
       "- **Dinner:**\n",
       "  - Return to Tokyo and dine at **Den** for creative Japanese cuisine.\n",
       "\n",
       "**Day 6: August 15 (Tuesday)**\n",
       "- **Morning:**\n",
       "  - Visit Tokyo Tower and Zojoji Temple.\n",
       "- **Lunch:**\n",
       "  - Akihabara for tech and anime experiences (grab a quick lunch at a local cafe).\n",
       "- **Dinner:**\n",
       "  - **Akasaka Kikunoi** - Experience another kaiseki meal.\n",
       "\n",
       "**Day 7: August 16 (Wednesday)**\n",
       "- **Morning:**\n",
       "  - Explore Odaiba and teamLab Borderless.\n",
       "- **Lunch:**\n",
       "  - Casual lunch at DiverCity Tokyo Plaza.\n",
       "- **Afternoon:**\n",
       "  - Visit the Miraikan (National Museum of Emerging Science and Innovation).\n",
       "- **Dinner:**\n",
       "  - Free time to choose a dining experience based on your interests (consider trying local izakayas or department store depachikas).\n",
       "\n",
       "**Day 8: August 17 (Thursday)**\n",
       "- **Morning:**\n",
       "  - Last-minute shopping in Shibuya.\n",
       "- **Lunch:**\n",
       "  - Light lunch at a nearby café.\n",
       "- **Afternoon:**\n",
       "  - Leisurely explore any missed attractions or repeat favorites.\n",
       "- **Evening:**\n",
       "  - Depart Tokyo. \n",
       "\n",
       "Feel free to adjust this itinerary to match your pace and interests. Enjoy your trip!"
      ],
      "text/plain": [
       "<IPython.core.display.Markdown object>"
      ]
     },
     "metadata": {},
     "output_type": "display_data"
    }
   ],
   "source": [
    "# Print in Markdown format\n",
    "display(Markdown(detailed_itinerary[\"Tokyo\"]))"
   ]
  },
  {
   "cell_type": "code",
   "execution_count": 74,
   "metadata": {},
   "outputs": [
    {
     "data": {
      "text/markdown": [
       "### Itinerary for New York\n",
       "\n",
       "Here’s a suggested itinerary for your trip:\n",
       "\n",
       "**Day 1: July 1 (Saturday)**\n",
       "- **Morning**: Arrive in NYC and check into your hotel.\n",
       "- **Breakfast (9:00 AM - 10:00 AM)**: Balthazar, try their pastries or a classic breakfast.\n",
       "- **12:00 PM**: Visit Times Square and explore.\n",
       "- **Lunch (1:30 PM - 2:30 PM)**: Katz's Delicatessen, specialty: Pastrami on rye.\n",
       "- **Afternoon**: Stroll through Central Park and visit The Met (Metropolitan Museum of Art).\n",
       "- **Dinner (7:00 PM - 8:30 PM)**: Joe’s Pizza, try their classic cheese slice.\n",
       "\n",
       "**Day 2: July 2 (Sunday)**\n",
       "- **Breakfast (9:00 AM - 10:00 AM)**: Russ & Daughters, try their bagel with lox.\n",
       "- **10:30 AM**: Visit the Statue of Liberty and Ellis Island.\n",
       "- **Lunch (1:00 PM - 2:00 PM)**: Shake Shack, try their ShackBurger.\n",
       "- **Afternoon**: Explore the Financial District and visit 9/11 Memorial and Museum.\n",
       "- **Dinner (7:00 PM - 8:30 PM)**: Peter Luger Steak House, specialty: Porterhouse steak. (Reservations recommended)\n",
       "\n",
       "**Day 3: July 3 (Monday)**\n",
       "- **Breakfast (9:00 AM - 10:00 AM)**: Sarabeth's, known for their pancakes.\n",
       "- **11:00 AM**: Visit Museum of Modern Art (MoMA).\n",
       "- **Lunch (1:30 PM - 2:30 PM)**: Max Brenner, try their chocolate fondue.\n",
       "- **Afternoon**: Explore the High Line and Chelsea Market.\n",
       "- **Dinner (7:00 PM - 8:30 PM)**: Chelsea Market (Lobster Place), specialty: Lobster rolls.\n",
       "\n",
       "**Day 4: July 4 (Tuesday)**\n",
       "- **Breakfast (9:00 AM - 10:00 AM)**: Clinton St. Baking Company, known for blueberry pancakes.\n",
       "- **10:30 AM**: Walk across the Brooklyn Bridge and explore DUMBO, Brooklyn.\n",
       "- **Lunch (1:00 PM - 2:00 PM)**: Juliana’s Pizza, try their Margherita pizza.\n",
       "- **Afternoon**: Brooklyn Botanic Garden (weather permitting) or explore Brooklyn Heights.\n",
       "- **Dinner (7:00 PM - 8:30 PM)**: Return to Manhattan for a rooftop dinner with views of the fireworks (suggested: Westlight, Sunset Park).\n",
       "\n",
       "**Day 5: July 5 (Wednesday)**\n",
       "- **Breakfast (9:00 AM - 10:00 AM)**: Levain Bakery, try their famous chocolate chip cookies.\n",
       "- **11:00 AM**: Explore American Museum of Natural History.\n",
       "- **Lunch (1:30 PM - 2:30 PM)**: Gray’s Papaya, classic NYC hot dogs.\n",
       "- **Afternoon**: Visit Lincoln Center or explore Upper West Side.\n",
       "- **Dinner (7:00 PM - 8:30 PM)**: Eleven Madison Park, specialty: Sunflower seed risotto. (Reservations required)\n",
       "\n",
       "**Day 6: July 6 (Thursday)**\n",
       "- **Breakfast (9:00 AM - 10:00 AM)**: Dominique Ansel Bakery, try the Cronut.\n",
       "- **10:30 AM**: Explore SoHo for shopping and street art.\n",
       "- **Lunch (1:00 PM - 2:00 PM)**: Prince Street Pizza, try their pepperoni slice.\n",
       "- **Afternoon**: Visit the Whitney Museum of American Art.\n",
       "- **Dinner (7:00 PM - 8:30 PM)**: Gramercy Tavern, specialty: Roasted chicken with seasonal vegetables. (Reservations recommended)\n",
       "\n",
       "**Day 7: July 7 (Friday)**\n",
       "- **Breakfast (9:00 AM - 10:00 AM)**: Jack’s Wife Freda, try their Green Shakshuka.\n",
       "- **10:30 AM**: Visit the Guggenheim Museum.\n",
       "- **Lunch (1:00 PM - 2:00 PM)**: Los Tacos No. 1, grab some street tacos.\n",
       "- **Afternoon**: Walk through the Lower East Side, visit Tenement Museum.\n",
       "- **Dinner (7:00 PM - 8:30 PM)**: Carbone, try their Spaghetti.\n",
       "\n",
       "**Day 8: July 8 (Saturday)**\n",
       "- **Breakfast (9:00 AM - 10:00 AM)**: Sadelle’s, try their fresh bagels.\n",
       "- **11:00 AM**: Last-minute shopping or visit any remaining sites of interest.\n",
       "- **Lunch (12:30 PM - 1:30 PM)**: Joe’s Shanghai, try the soup dumplings.\n",
       "- **Afternoon**: Relax before departure.\n",
       "- **Evening**: Departure from New York City.\n",
       "\n",
       "Enjoy your trip!"
      ],
      "text/plain": [
       "<IPython.core.display.Markdown object>"
      ]
     },
     "metadata": {},
     "output_type": "display_data"
    },
    {
     "data": {
      "text/markdown": [
       "### Itinerary for Rio de Janeiro\n",
       "\n",
       "Here is a detailed itinerary for your trip to Rio de Janeiro from July 9 to July 16, incorporating the specified restaurants:\n",
       "\n",
       "**Day 1: July 9 (Sunday)**  \n",
       "- **Morning:** Arrival in Rio de Janeiro.  \n",
       "- **Breakfast:** Confeitaria Colombo - Try the Pastel de nata (custard tart).  \n",
       "- **Activity:** Explore Centro and visit the Selarón Steps and Theatro Municipal.  \n",
       "- **Lunch:** Explore street food in the area or visit a local café.  \n",
       "- **Afternoon:** Visit the Museum of Tomorrow.  \n",
       "- **Dinner:** Casual dinner at a nearby bistro.  \n",
       "\n",
       "**Day 2: July 10 (Monday)**  \n",
       "- **Breakfast:** Hotel breakfast or a local café.  \n",
       "- **Morning Activity:** Visit Christ the Redeemer and enjoy panoramic views.  \n",
       "- **Lunch:** Fogo de Chão - Enjoy the Picanha.  \n",
       "- **Afternoon Activity:** Relax at Copacabana Beach.  \n",
       "- **Dinner:** Explore a local beachside restaurant.  \n",
       "\n",
       "**Day 3: July 11 (Tuesday)**  \n",
       "- **Breakfast:** Hotel breakfast or a local café.  \n",
       "- **Morning Activity:** Hike in Tijuca National Park.  \n",
       "- **Lunch:** Picnic in the park.  \n",
       "- **Afternoon Activity:** Visit the Rio Botanical Garden.  \n",
       "- **Dinner:** Olympe - Try the Moqueca de caju.  \n",
       "\n",
       "**Day 4: July 12 (Wednesday)**  \n",
       "- **Breakfast:** Hotel breakfast or a local café.  \n",
       "- **Morning Activity:** Visit Sugarloaf Mountain for breathtaking views.  \n",
       "- **Lunch:** Enjoy a casual dining spot in the Urca neighborhood.  \n",
       "- **Afternoon Activity:** Explore Ipanema Beach and the surrounding area.  \n",
       "- **Dinner:** Eat local seafood at a beachfront restaurant.  \n",
       "\n",
       "**Day 5: July 13 (Thursday)**  \n",
       "- **Breakfast:** Hotel breakfast or a local café.  \n",
       "- **Morning Activity:** Explore the cultural heritage and museums in Lapa.  \n",
       "- **Lunch:** Feira de São Cristóvão - Sample Acarajé.  \n",
       "- **Afternoon Activity:** Visit the Museum of Modern Art.  \n",
       "- **Dinner:** Casual dining option in the Santa Teresa neighborhood.\n",
       "\n",
       "**Day 6: July 14 (Friday)**  \n",
       "- **Breakfast:** Hotel breakfast or a local café.  \n",
       "- **Morning Activity:** Take a day trip to the nearby town of Petrópolis.  \n",
       "- **Lunch:** Enjoy a traditional lunch in Petrópolis.  \n",
       "- **Afternoon Activity:** Visit the Imperial Museum in Petrópolis.  \n",
       "- **Dinner:** Return to Rio and dine near your accommodation.  \n",
       "\n",
       "**Day 7: July 15 (Saturday)**  \n",
       "- **Breakfast:** Hotel breakfast or a local café.  \n",
       "- **Morning Activity:** Explore the vibrant neighborhood of Santa Teresa.  \n",
       "- **Lunch:** Aprazível - Savor the Galinhada.  \n",
       "- **Afternoon Activity:** Visit the Parque Lage and its charming grounds.  \n",
       "- **Dinner:** Select a special restaurant to enjoy Brazilian steaks.  \n",
       "\n",
       "**Day 8: July 16 (Sunday)**  \n",
       "- **Breakfast:** Hotel breakfast or a local café.  \n",
       "- **Morning Activity:** Free time for shopping or last-minute sightseeing.  \n",
       "- **Lunch:** Light meal nearby.  \n",
       "- **Afternoon:** Depart from Rio de Janeiro.  \n",
       "\n",
       "Activities are flexible to adjust as per weather and personal preferences. Enjoy your trip!"
      ],
      "text/plain": [
       "<IPython.core.display.Markdown object>"
      ]
     },
     "metadata": {},
     "output_type": "display_data"
    },
    {
     "data": {
      "text/markdown": [
       "### Itinerary for Cape Town\n",
       "\n",
       "Here's a suggested itinerary for your Cape Town visit:\n",
       "\n",
       "### Day 1: July 17\n",
       "- **Morning**: Arrive in Cape Town, check into your accommodation.\n",
       "- **10:00 AM - Table Mountain**: Take the cable car for stunning views.\n",
       "    - **Breakfast**: V&A Waterfront food market.\n",
       "- **1:00 PM - Lunch at The Test Kitchen**: Enjoy the Pickled Fish Tacos.\n",
       "- **3:00 PM - Explore V&A Waterfront**: Visit shops and the Two Oceans Aquarium.\n",
       "- **7:00 PM - Dinner at your hotel or local café**.\n",
       "\n",
       "### Day 2: July 18\n",
       "- **8:00 AM - Kirstenbosch Botanical Gardens**: Morning stroll.\n",
       "    - **Breakfast**: Moyo restaurant nearby.\n",
       "- **12:00 PM - Lunch at Gold Restaurant**: Try the Bobotie.\n",
       "- **2:00 PM - Afternoon Wine Tour**: Constantia wine region.\n",
       "- **7:30 PM - Dinner at Local Buzz Orchestra**: Experience live music.\n",
       "\n",
       "### Day 3: July 19\n",
       "- **8:30 AM - Cape of Good Hope and Boulders Beach**: Visit penguins.\n",
       "    - **Breakfast**: The Village Hub in Scarborough.\n",
       "- **1:00 PM - Lunch at Harbour House**: Enjoy the Grilled Kingklip.\n",
       "- **3:00 PM - Explore Kalk Bay**: Galleries, boutiques, and harbor.\n",
       "- **7:00 PM - Dinner at Brass Bell**: Seaside views and local cuisine.\n",
       "\n",
       "### Day 4: July 20\n",
       "- **9:00 AM - Robben Island Tour**: Ferry from V&A Waterfront.\n",
       "    - **Breakfast**: Aquacafe at V&A Waterfront.\n",
       "- **1:30 PM - Lunch at The Pot Luck Club**: Savor the Beef Tataki.\n",
       "- **3:00 PM - Zeitz MOCAA Museum**: Contemporary African art.\n",
       "- **7:00 PM - Dinner at Addis in Cape**: Ethiopian specialties.\n",
       "\n",
       "### Day 5: July 21\n",
       "- **8:00 AM - Stellenbosch**: Explore vineyards and town.\n",
       "    - **Breakfast**: Local café in Stellenbosch.\n",
       "- **12:30 PM - Lunch at Overture Restaurant**: Great food with vineyard views.\n",
       "- **2:00 PM - Explore Franschhoek by Tram**: Wine tastings and landscapes.\n",
       "- **7:00 PM - Dinner at Foliage**: Indigenous cuisine focus.\n",
       "\n",
       "### Day 6: July 22\n",
       "- **9:00 AM - Cape Town Beaches**: Clifton and Camps Bay.\n",
       "    - **Breakfast**: Café Caprice, Camps Bay.\n",
       "- **12:30 PM - Lunch at The Bungalow**: Beach vibes and seafood.\n",
       "- **3:00 PM - Afternoon free**: Relax or visit the Greenmarket Square.\n",
       "- **7:00 PM - Dinner at Codfather**: Fresh seafood by the platter.\n",
       "\n",
       "### Day 7: July 23\n",
       "- **9:00 AM - Bo-Kaap**: Explore historic district and vibrant houses.\n",
       "    - **Breakfast**: Haas Collective coffee shop.\n",
       "- **12:00 PM - Lunch at The Shortmarket Club**: Contemporary dining.\n",
       "- **2:00 PM - District Six Museum**: Learn about apartheid history.\n",
       "- **7:00 PM - Dinner at Mama Africa**: Traditional African dishes and live music.\n",
       "\n",
       "### Day 8: July 24\n",
       "- **8:00 AM - Last-minute Souvenir Shopping**: Long Street and markets.\n",
       "    - **Breakfast**: Long Street Café.\n",
       "- **12:00 PM - Departure Preparations**.\n",
       "- **Lunch and transfer to airport**: As per your schedule.\n",
       "\n",
       "Enjoy your time in Cape Town!"
      ],
      "text/plain": [
       "<IPython.core.display.Markdown object>"
      ]
     },
     "metadata": {},
     "output_type": "display_data"
    },
    {
     "data": {
      "text/markdown": [
       "### Itinerary for Istanbul\n",
       "\n",
       "**Day 1: Arrival in Istanbul (July 25)**\n",
       "- **Morning:**\n",
       "  - Arrive in Istanbul, check into your hotel, and refresh.\n",
       "- **Afternoon:**\n",
       "  - Visit the Hagia Sophia Museum.\n",
       "- **Dinner (7:00 PM):**\n",
       "  - Restaurant: Çiya Sofrası\n",
       "  - Specialty: Try the Kuzu Tandir.\n",
       "\n",
       "**Day 2: Exploring Sultanahmet (July 26)**\n",
       "- **Breakfast (8:00 AM):**\n",
       "  - Enjoy a traditional Turkish breakfast at a local café.\n",
       "- **Morning:**\n",
       "  - Explore the Blue Mosque and Basilica Cistern.\n",
       "- **Lunch (12:30 PM):**\n",
       "  - Enjoy a meal at a café near Sultanahmet Square.\n",
       "- **Afternoon:**\n",
       "  - Visit the Topkapi Palace.\n",
       "- **Dinner (7:00 PM):**\n",
       "  - Restaurant: Karaköy Lokantası\n",
       "  - Specialty: Try the Midye Dolma.\n",
       "\n",
       "**Day 3: Bosphorus and Taksim (July 27)**\n",
       "- **Breakfast (8:30 AM):**\n",
       "  - Stop at a local bakery for pastries.\n",
       "- **Morning:**\n",
       "  - Cruise on the Bosphorus.\n",
       "- **Lunch (1:00 PM):**\n",
       "  - Explore the Grand Bazaar and have lunch there.\n",
       "- **Afternoon:**\n",
       "  - Walk through Taksim Square and Istiklal Street.\n",
       "- **Dinner (6:00 PM):**\n",
       "  - Snack on Simit while exploring Istiklal Street.\n",
       "\n",
       "**Day 4: Historical Insight (July 28)**\n",
       "- **Breakfast (8:00 AM):**\n",
       "  - Have a simple Turkish breakfast.\n",
       "- **Morning:**\n",
       "  - Visit the Istanbul Archaeology Museums.\n",
       "- **Lunch (12:30 PM):**\n",
       "  - Dine at a nearby restaurant.\n",
       "- **Afternoon:**\n",
       "  - See the Suleymaniye Mosque.\n",
       "- **Dinner (7:00 PM):**\n",
       "  - Restaurant: Asitane\n",
       "  - Specialty: Try the Mutancana.\n",
       "\n",
       "**Day 5: Asian Side (July 29)**\n",
       "- **Breakfast (8:30 AM):**\n",
       "  - Breakfast at the hotel.\n",
       "- **Morning:**\n",
       "  - Explore the Kadıköy neighborhood.\n",
       "- **Lunch (1:00 PM):**\n",
       "  - Discover local eateries in Kadıköy.\n",
       "- **Afternoon:**\n",
       "  - Visit Moda for a leisurely walk and coffee.\n",
       "- **Dinner (7:00 PM):**\n",
       "  - Enjoy dinner at a local venue by the Bosphorus.\n",
       "\n",
       "**Day 6: Contemporary Istanbul (July 30)**\n",
       "- **Breakfast (8:00 AM):**\n",
       "  - Begin with breakfast at a café in small neighborhoods.\n",
       "- **Morning:**\n",
       "  - Spend time at Istanbul Modern Art Museum.\n",
       "- **Lunch (1:00 PM):**\n",
       "  - Have lunch at the museum café.\n",
       "- **Afternoon:**\n",
       "  - Explore Dolmabahçe Palace.\n",
       "- **Dinner (7:00 PM):**\n",
       "  - Restaurant: Mikla\n",
       "  - Specialty: Try the Lamb Rump.\n",
       "\n",
       "**Day 7: Relaxation and Departure (July 31)**\n",
       "- **Breakfast (8:30 AM):**\n",
       "  - Light breakfast at your hotel or nearby café.\n",
       "- **Morning:**\n",
       "  - Relax at a Turkish Bath.\n",
       "- **Lunch (12:30 PM):**\n",
       "  - Have a leisurely lunch near your hotel.\n",
       "- **Afternoon:**\n",
       "  - Last-minute shopping or explore a local park.\n",
       "- **Dinner (7:00 PM):**\n",
       "  - Final dinner at a rooftop restaurant with views of Istanbul.\n",
       "\n",
       "**Day 8: Departure (August 1)**\n",
       "- **Morning:**\n",
       "  - Breakfast and check-out.\n",
       "- **Flight:**\n",
       "  - Head to the airport for departure.\n",
       "\n",
       "Enjoy your trip to Istanbul!"
      ],
      "text/plain": [
       "<IPython.core.display.Markdown object>"
      ]
     },
     "metadata": {},
     "output_type": "display_data"
    },
    {
     "data": {
      "text/markdown": [
       "### Itinerary for Paris\n",
       "\n",
       "Here is your itinerary for Paris from August 2 to August 9:\n",
       "\n",
       "**Day 1: August 2**\n",
       "- **Morning**: Arrive and check into your hotel.\n",
       "- **Lunch**: Le Comptoir du Relais. Specialty: Coq au Vin.\n",
       "- **Afternoon**: Stroll through the Luxembourg Gardens.\n",
       "- **Dinner**: Explore local bistros.\n",
       "\n",
       "**Day 2: August 3**\n",
       "- **Morning**: Visit the Louvre Museum.\n",
       "- **Lunch**: Le Jules Verne in the Eiffel Tower. Specialty: Filet de Boeuf.\n",
       "- **Afternoon**: Visit the Eiffel Tower and Trocadéro Gardens.\n",
       "- **Dinner**: Enjoy a Seine River dinner cruise.\n",
       "\n",
       "**Day 3: August 4**\n",
       "- **Morning**: Discover Montmartre and visit Sacré-Cœur.\n",
       "- **Lunch**: L’As du Fallafel. Specialty: Falafel sandwiches.\n",
       "- **Afternoon**: Explore the Montmartre district and art shops.\n",
       "- **Dinner**: Dine in a small Montmartre café.\n",
       "\n",
       "**Day 4: August 5**\n",
       "- **Morning**: Palace of Versailles excursion.\n",
       "- **Lunch**: Picnic in the Versailles gardens.\n",
       "- **Afternoon**: Return to Paris, relax or explore the Marais district.\n",
       "- **Dinner**: Reserve a spot at a brasserie in Le Marais.\n",
       "\n",
       "**Day 5: August 6**\n",
       "- **Morning**: Notre-Dame Cathedral and Île de la Cité.\n",
       "- **Lunch**: Visit a café in Saint-Germain-des-Prés.\n",
       "- **Afternoon**: Musée d'Orsay.\n",
       "- **Dinner**: Pierre Hermé for dessert. Specialty: Ispahan. Buy takeaway and enjoy a casual dinner.\n",
       "\n",
       "**Day 6: August 7**\n",
       "- **Morning**: Explore the Latin Quarter and Panthéon.\n",
       "- **Lunch**: Try a local crêperie.\n",
       "- **Afternoon**: Jardin des Plantes and Natural History Museum.\n",
       "- **Dinner**: L'Ambroisie. Specialty: Turbot with Artichokes and Truffle.\n",
       "\n",
       "**Day 7: August 8**\n",
       "- **Morning**: Visit the Catacombs of Paris.\n",
       "- **Lunch**: Sample casual dining at a nearby café.\n",
       "- **Afternoon**: Shopping along Champs-Élysées.\n",
       "- **Dinner**: Choose a rooftop bar for dinner with views.\n",
       "\n",
       "**Day 8: August 9**\n",
       "- **Morning**: Leisurely breakfast at a local pâtisserie.\n",
       "- **Late Morning**: Visit Père Lachaise Cemetery.\n",
       "- **Lunch**: Brunch style at a local bakery.\n",
       "- **Afternoon**: Last-minute sightseeing or shopping.\n",
       "- **Evening**: Depart for home or next destination."
      ],
      "text/plain": [
       "<IPython.core.display.Markdown object>"
      ]
     },
     "metadata": {},
     "output_type": "display_data"
    },
    {
     "data": {
      "text/markdown": [
       "### Itinerary for Tokyo\n",
       "\n",
       "Here is a suggested itinerary for your Tokyo trip from August 10 to August 17:\n",
       "\n",
       "**Day 1: August 10 (Thursday)**\n",
       "- **Morning:**\n",
       "  - Arrive in Tokyo and check into your hotel.\n",
       "  - Visit Asakusa and Senso-ji Temple.\n",
       "- **Lunch:**\n",
       "  - **Ichiran Ramen** - Try the Tonkotsu ramen.\n",
       "- **Afternoon:**\n",
       "  - Explore Ueno Park and Tokyo National Museum.\n",
       "- **Dinner:**\n",
       "  - **Sukiyabashi Jiro** - Enjoy omakase sushi.\n",
       "\n",
       "**Day 2: August 11 (Friday)**\n",
       "- **Morning:**\n",
       "  - Visit Tsukiji Outer Market for fresh sashimi and street food brunch.\n",
       "- **Afternoon:**\n",
       "  - Discover Ginza. Visit art galleries and shop.\n",
       "- **Dinner:**\n",
       "  - **Narisawa** - Savor the innovative tasting menu.\n",
       "\n",
       "**Day 3: August 12 (Saturday)**\n",
       "- **Morning:**\n",
       "  - Stroll through the Meiji Shrine and Yoyogi Park.\n",
       "- **Lunch:**\n",
       "  - **Afuri** - Taste the yuzu shio ramen.\n",
       "- **Afternoon:**\n",
       "  - Explore Harajuku and Omotesando.\n",
       "- **Dinner:**\n",
       "  - **Ginza Kojyu** - Enjoy a kaiseki meal.\n",
       "\n",
       "**Day 4: August 13 (Sunday)**\n",
       "- **Morning:**\n",
       "  - Explore Shinjuku Gyoen National Garden.\n",
       "- **Lunch:**\n",
       "  - **Tempura Kondo** - Try the seasonal vegetable and seafood tempura.\n",
       "- **Afternoon:**\n",
       "  - Visit the Samurai Museum and enjoy shopping in Shinjuku.\n",
       "- **Dinner:**\n",
       "  - **Kyubey** - Relish a sushi dinner.\n",
       "\n",
       "**Day 5: August 14 (Monday)**\n",
       "- **Morning:**\n",
       "  - Day trip to Hakone for views of Mount Fuji and hot springs.\n",
       "- **Dinner:**\n",
       "  - Return to Tokyo and dine at **Den** for creative Japanese cuisine.\n",
       "\n",
       "**Day 6: August 15 (Tuesday)**\n",
       "- **Morning:**\n",
       "  - Visit Tokyo Tower and Zojoji Temple.\n",
       "- **Lunch:**\n",
       "  - Akihabara for tech and anime experiences (grab a quick lunch at a local cafe).\n",
       "- **Dinner:**\n",
       "  - **Akasaka Kikunoi** - Experience another kaiseki meal.\n",
       "\n",
       "**Day 7: August 16 (Wednesday)**\n",
       "- **Morning:**\n",
       "  - Explore Odaiba and teamLab Borderless.\n",
       "- **Lunch:**\n",
       "  - Casual lunch at DiverCity Tokyo Plaza.\n",
       "- **Afternoon:**\n",
       "  - Visit the Miraikan (National Museum of Emerging Science and Innovation).\n",
       "- **Dinner:**\n",
       "  - Free time to choose a dining experience based on your interests (consider trying local izakayas or department store depachikas).\n",
       "\n",
       "**Day 8: August 17 (Thursday)**\n",
       "- **Morning:**\n",
       "  - Last-minute shopping in Shibuya.\n",
       "- **Lunch:**\n",
       "  - Light lunch at a nearby café.\n",
       "- **Afternoon:**\n",
       "  - Leisurely explore any missed attractions or repeat favorites.\n",
       "- **Evening:**\n",
       "  - Depart Tokyo. \n",
       "\n",
       "Feel free to adjust this itinerary to match your pace and interests. Enjoy your trip!"
      ],
      "text/plain": [
       "<IPython.core.display.Markdown object>"
      ]
     },
     "metadata": {},
     "output_type": "display_data"
    },
    {
     "data": {
      "text/markdown": [
       "### Itinerary for Sydney\n",
       "\n",
       "Certainly! Here's a detailed itinerary for your visit to Sydney:\n",
       "\n",
       "**Day 1: August 18 (Friday)**  \n",
       "- **Breakfast (8:00 AM)**: Grab a quick coffee and pastry at a local café.\n",
       "- **Morning (9:30 AM)**: Visit the Sydney Opera House and take a guided tour.\n",
       "- **Lunch (12:30 PM)**: **Bennelong** - Try the Sydney Rock Oysters.\n",
       "- **Afternoon (2:30 PM)**: Explore the Royal Botanic Garden and Mrs. Macquarie's Chair.\n",
       "- **Dinner (7:00 PM)**: **Saint Peter** - Savor the Murray Cod.\n",
       "\n",
       "**Day 2: August 19 (Saturday)**  \n",
       "- **Breakfast (8:00 AM)**: Start your day with a light breakfast at another local café.\n",
       "- **Morning (9:30 AM)**: Visit Taronga Zoo for a close encounter with Australian wildlife.\n",
       "- **Lunch (12:30 PM)**: **Carriageworks Farmers Market** - Try the Kangaroo Pie.\n",
       "- **Afternoon (2:00 PM)**: Explore the surrounding area and local boutiques.\n",
       "- **Dinner (7:00 PM)**: **The Lord Nelson Brewery Hotel** - Enjoy the Roast Lamb.\n",
       "\n",
       "**Day 3: August 20 (Sunday)**  \n",
       "- **Breakfast (8:00 AM)**: Breakfast at a café in The Rocks area.\n",
       "- **Morning (9:30 AM)**: Walk across the Sydney Harbour Bridge.\n",
       "- **Lunch (12:30 PM)**: **Vic's Meat Market** - Relish the BBQ Beef Brisket.\n",
       "- **Afternoon (2:30 PM)**: Discover Barangaroo Reserve and enjoy the waterfront views.\n",
       "- **Dinner (7:00 PM)**: **Billy Kwong** - Delight in Crispy Skin Duck with Davidson’s Plum Sauce.\n",
       "\n",
       "**Day 4: August 21 (Monday)**  \n",
       "- **Breakfast (8:00 AM)**: Visit a cozy café in Surry Hills for a hearty breakfast.\n",
       "- **Morning (10:00 AM)**: Explore the Art Gallery of New South Wales.\n",
       "- **Lunch (1:00 PM)**: Have a casual lunch at a small restaurant in Darlinghurst.\n",
       "- **Afternoon (3:00 PM)**: Visit the Australian Museum or shopping in the city center.\n",
       "- **Dinner (7:00 PM)**: Try dinner at a local seafood restaurant with harbor views.\n",
       "\n",
       "**Day 5: August 22 (Tuesday)**  \n",
       "- **Breakfast (8:00 AM)**: Breakfast at a beachside café in Bondi.\n",
       "- **Morning (9:30 AM)**: Enjoy the Bondi to Coogee Coastal Walk.\n",
       "- **Lunch (1:00 PM)**: Fish and chips at a café along the walk.\n",
       "- **Afternoon (2:30 PM)**: Relax on Bondi Beach or swim if weather permits.\n",
       "- **Dinner (7:00 PM)**: Try a trendy restaurant in Bondi Junction.\n",
       "\n",
       "**Day 6: August 23 (Wednesday)**  \n",
       "- **Breakfast (8:00 AM)**: Breakfast at a café in Paddington.\n",
       "- **Morning (10:00 AM)**: Explore Paddington Markets (open on Saturdays) or shops.\n",
       "- **Lunch (12:30 PM)**: Enjoy a meal at a local Italian or Asian-fusion restaurant.\n",
       "- **Afternoon (2:30 PM)**: Visit Sydney's vibrant Newtown area for street art and culture.\n",
       "- **Dinner (7:00 PM)**: Dine at a casual local eatery with live music.\n",
       "\n",
       "**Day 7: August 24 (Thursday)**  \n",
       "- **Breakfast (8:00 AM)**: Breakfast at a café in Manly after a ferry ride.\n",
       "- **Morning (10:00 AM)**: Explore Manly Beach and take a walk to Shelley Beach.\n",
       "- **Lunch (1:00 PM)**: Seafood lunch at a beachside restaurant in Manly.\n",
       "- **Afternoon (3:00 PM)**: Return to Circular Quay and visit the Museum of Contemporary Art.\n",
       "- **Dinner (7:00 PM)**: Wind down with dinner at a rooftop bar or restaurant.\n",
       "\n",
       "**Day 8: August 25 (Friday)**  \n",
       "- **Breakfast (8:00 AM)**: Start the day with breakfast at your accommodation or nearby.\n",
       "- **Morning (9:30 AM)**: Last-minute shopping at Queen Victoria Building or Pitt Street Mall.\n",
       "- **Lunch (12:30 PM)**: Light lunch at a café in the CBD.\n",
       "- **Afternoon (3:00 PM)**: Free time to revisit any favorite spots or relax before departure.\n",
       "- **Dinner (6:00 PM)**: Early dinner near the airport if your flight is late evening.\n",
       "\n",
       "Enjoy your trip!"
      ],
      "text/plain": [
       "<IPython.core.display.Markdown object>"
      ]
     },
     "metadata": {},
     "output_type": "display_data"
    }
   ],
   "source": [
    "# Print all itineraries in Markdown format\n",
    "for city, itinerary in detailed_itinerary.items():\n",
    "    display(Markdown(f\"### Itinerary for {city}\\n\\n{itinerary}\"))"
   ]
  }
 ],
 "metadata": {
  "kernelspec": {
   "display_name": "Python 3",
   "language": "python",
   "name": "python3"
  },
  "language_info": {
   "codemirror_mode": {
    "name": "ipython",
    "version": 3
   },
   "file_extension": ".py",
   "mimetype": "text/x-python",
   "name": "python",
   "nbconvert_exporter": "python",
   "pygments_lexer": "ipython3",
   "version": "3.12.6"
  }
 },
 "nbformat": 4,
 "nbformat_minor": 2
}
