{
 "cells": [
  {
   "cell_type": "code",
   "execution_count": 1,
   "metadata": {},
   "outputs": [],
   "source": [
    "from helper_functions import *\n",
    "from IPython.display import display, Markdown, HTML\n",
    "from dotenv import load_dotenv\n",
    "import os\n",
    "import csv"
   ]
  },
  {
   "cell_type": "code",
   "execution_count": 2,
   "metadata": {},
   "outputs": [],
   "source": [
    "# Load environment variables from .env file\n",
    "load_dotenv()\n",
    "\n",
    "# Get the base path from environment variables\n",
    "base_path = os.getenv('BASE_PATH')"
   ]
  },
  {
   "cell_type": "code",
   "execution_count": 3,
   "metadata": {},
   "outputs": [
    {
     "name": "stdout",
     "output_type": "stream",
     "text": [
      "**Chicken and Broccoli Stir-Fry with Rice**\n",
      "\n",
      "**Ingredients:**\n",
      "- Chicken breast, sliced\n",
      "- Broccoli florets\n",
      "- Cooked rice\n",
      "- Soy sauce\n",
      "- Olive oil\n",
      "- Garlic, minced\n",
      "- Salt and pepper\n",
      "\n",
      "**Instructions:**\n",
      "1. Heat olive oil in a pan over medium heat.\n",
      "2. Add garlic and sauté until fragrant.\n",
      "3. Add chicken slices and cook until browned.\n",
      "4. Toss in broccoli and stir-fry until tender.\n",
      "5. Pour in soy sauce, season with salt and pepper, and mix well.\n",
      "6. Serve over a bed of cooked rice.\n"
     ]
    }
   ],
   "source": [
    "# Write a list of ingredients\n",
    "ingredients = ['chicken', 'broccoli', 'rice']\n",
    "\n",
    "# Write the prompt\n",
    "prompt = f\"\"\"\n",
    "    Create a short recipe that uses the following ingredients:\n",
    "    {ingredients}\n",
    "\"\"\"\n",
    "\n",
    "# Get the response from the LLM\n",
    "response = get_llm_response(prompt)\n",
    "\n",
    "# Print the LLM response\n",
    "print(response)"
   ]
  },
  {
   "cell_type": "code",
   "execution_count": 4,
   "metadata": {},
   "outputs": [],
   "source": [
    "# Construct the full path to the file\n",
    "file_path = os.path.join(base_path, 'data/cape_town.txt')\n",
    "\n",
    "with open(file_path, 'r') as f:\n",
    "    cape = f.read()"
   ]
  },
  {
   "cell_type": "code",
   "execution_count": 5,
   "metadata": {},
   "outputs": [
    {
     "name": "stdout",
     "output_type": "stream",
     "text": [
      "Embarking on a gastronomic journey through Cape Town revealed a city brimming with culinary treasures. Each stop was a testament to the rich flavors and unique dishes that define this vibrant city's food scene.\n",
      "\n",
      "My first destination was The Test Kitchen, a restaurant that has earned its place among the world's best. Situated in the trendy Woodstock area, this dining spot is celebrated for its innovative dishes. I was particularly taken by their signature dish, the \"Pickled Fish Tacos.\" The tangy, flavorful fish wrapped in a soft taco, paired with a zesty salsa, was a delightful start to my culinary adventure. The industrial-chic ambiance added a modern edge to the dining experience.\n",
      "\n",
      "Next, I made my way to La Colombe, perched on the slopes of Constantia. Known for its refined and artistic approach to cuisine, La Colombe's \"Tuna La Colombe\" is a must-try. This dish features perfectly seared tuna, complemented by a delicate ponzu dressing and bursts of citrus. The presentation was as exquisite as the flavors, making it a memorable highlight of the day.\n",
      "\n",
      "For a taste of traditional South African fare, I headed to Gold Restaurant. Located in Green Point, this vibrant eatery offers a culinary tour of the continent. The \"Bobotie,\" a classic Cape Malay dish, stood out with its spiced minced meat topped with a savory custard. The rich, aromatic flavors, combined with the lively African drumming and dance performances, created an immersive cultural experience.\n",
      "\n",
      "At the bustling V&A Waterfront, I visited Harbour House for some of the freshest seafood in town. The \"Grilled Kingklip\" was a revelation. The succulent, flaky fish, grilled to perfection and served with a side of roasted vegetables, highlighted the ocean's bounty. The stunning views of the harbor added to the meal's appeal.\n",
      "\n",
      "Finally, my journey concluded at The Pot Luck Club, another gem in Woodstock. This trendy spot is known for its small plates, perfect for sharing. The standout dish was the \"Beef Tataki.\" Thinly sliced, seared beef with a tangy soy dressing and a hint of wasabi provided a burst of umami and heat. The eclectic, artistic vibe of the restaurant made for a fitting end to my culinary tour.\n"
     ]
    }
   ],
   "source": [
    "print(cape)"
   ]
  },
  {
   "cell_type": "code",
   "execution_count": 6,
   "metadata": {},
   "outputs": [
    {
     "name": "stdout",
     "output_type": "stream",
     "text": [
      "Extract bullet points from the following journal.  \n",
      "\n",
      "Journal:\n",
      "Embarking on a gastronomic journey through Cape Town revealed a city brimming with culinary treasures. Each stop was a testament to the rich flavors and unique dishes that define this vibrant city's food scene.\n",
      "\n",
      "My first destination was The Test Kitchen, a restaurant that has earned its place among the world's best. Situated in the trendy Woodstock area, this dining spot is celebrated for its innovative dishes. I was particularly taken by their signature dish, the \"Pickled Fish Tacos.\" The tangy, flavorful fish wrapped in a soft taco, paired with a zesty salsa, was a delightful start to my culinary adventure. The industrial-chic ambiance added a modern edge to the dining experience.\n",
      "\n",
      "Next, I made my way to La Colombe, perched on the slopes of Constantia. Known for its refined and artistic approach to cuisine, La Colombe's \"Tuna La Colombe\" is a must-try. This dish features perfectly seared tuna, complemented by a delicate ponzu dressing and bursts of citrus. The presentation was as exquisite as the flavors, making it a memorable highlight of the day.\n",
      "\n",
      "For a taste of traditional South African fare, I headed to Gold Restaurant. Located in Green Point, this vibrant eatery offers a culinary tour of the continent. The \"Bobotie,\" a classic Cape Malay dish, stood out with its spiced minced meat topped with a savory custard. The rich, aromatic flavors, combined with the lively African drumming and dance performances, created an immersive cultural experience.\n",
      "\n",
      "At the bustling V&A Waterfront, I visited Harbour House for some of the freshest seafood in town. The \"Grilled Kingklip\" was a revelation. The succulent, flaky fish, grilled to perfection and served with a side of roasted vegetables, highlighted the ocean's bounty. The stunning views of the harbor added to the meal's appeal.\n",
      "\n",
      "Finally, my journey concluded at The Pot Luck Club, another gem in Woodstock. This trendy spot is known for its small plates, perfect for sharing. The standout dish was the \"Beef Tataki.\" Thinly sliced, seared beef with a tangy soy dressing and a hint of wasabi provided a burst of umami and heat. The eclectic, artistic vibe of the restaurant made for a fitting end to my culinary tour.\n"
     ]
    }
   ],
   "source": [
    "prompt = f\"\"\"Extract bullet points from the following journal.  \n",
    "\n",
    "Journal:\n",
    "{cape}\"\"\"\n",
    "\n",
    "print(prompt)"
   ]
  },
  {
   "cell_type": "code",
   "execution_count": 7,
   "metadata": {},
   "outputs": [
    {
     "name": "stdout",
     "output_type": "stream",
     "text": [
      "- Embarked on a gastronomic journey through Cape Town, known for rich flavors and unique dishes.\n",
      "- Visited The Test Kitchen in Woodstock for its innovative dishes.\n",
      "  - Signature dish: \"Pickled Fish Tacos\" with tangy fish, soft taco, zesty salsa.\n",
      "  - Notable ambiance: industrial-chic.\n",
      "- Explored La Colombe in Constantia for refined, artistic cuisine.\n",
      "  - Must-try dish: \"Tuna La Colombe\" with seared tuna, ponzu dressing, citrus.\n",
      "  - Presentation: exquisite.\n",
      "- Experienced traditional South African fare at Gold Restaurant in Green Point.\n",
      "  - Highlight dish: \"Bobotie\" with spiced minced meat, savory custard.\n",
      "  - Added experience: African drumming and dance performances.\n",
      "- Visited Harbour House at V&A Waterfront for fresh seafood.\n",
      "  - Highlight dish: \"Grilled Kingklip\" with flaky fish, roasted vegetables.\n",
      "  - Views: stunning harbor.\n",
      "- Concluded at The Pot Luck Club in Woodstock for small plates.\n",
      "  - Standout: \"Beef Tataki\" with seared beef, tangy soy dressing, wasabi.\n",
      "  - Vibe: eclectic, artistic.\n"
     ]
    }
   ],
   "source": [
    "bullet_points = get_llm_response(prompt)\n",
    "print(bullet_points)"
   ]
  },
  {
   "cell_type": "code",
   "execution_count": 8,
   "metadata": {},
   "outputs": [
    {
     "data": {
      "text/markdown": [
       "- Embarked on a gastronomic journey through Cape Town, known for rich flavors and unique dishes.\n",
       "- Visited The Test Kitchen in Woodstock for its innovative dishes.\n",
       "  - Signature dish: \"Pickled Fish Tacos\" with tangy fish, soft taco, zesty salsa.\n",
       "  - Notable ambiance: industrial-chic.\n",
       "- Explored La Colombe in Constantia for refined, artistic cuisine.\n",
       "  - Must-try dish: \"Tuna La Colombe\" with seared tuna, ponzu dressing, citrus.\n",
       "  - Presentation: exquisite.\n",
       "- Experienced traditional South African fare at Gold Restaurant in Green Point.\n",
       "  - Highlight dish: \"Bobotie\" with spiced minced meat, savory custard.\n",
       "  - Added experience: African drumming and dance performances.\n",
       "- Visited Harbour House at V&A Waterfront for fresh seafood.\n",
       "  - Highlight dish: \"Grilled Kingklip\" with flaky fish, roasted vegetables.\n",
       "  - Views: stunning harbor.\n",
       "- Concluded at The Pot Luck Club in Woodstock for small plates.\n",
       "  - Standout: \"Beef Tataki\" with seared beef, tangy soy dressing, wasabi.\n",
       "  - Vibe: eclectic, artistic."
      ],
      "text/plain": [
       "<IPython.core.display.Markdown object>"
      ]
     },
     "metadata": {},
     "output_type": "display_data"
    }
   ],
   "source": [
    "# Print in Markdown format\n",
    "display(Markdown(bullet_points))"
   ]
  },
  {
   "cell_type": "code",
   "execution_count": 9,
   "metadata": {},
   "outputs": [
    {
     "name": "stdout",
     "output_type": "stream",
     "text": [
      "The restaurants mentioned in the journal are:\n",
      "\n",
      "1. The Test Kitchen\n",
      "2. La Colombe\n",
      "3. Gold Restaurant\n",
      "4. Harbour House\n",
      "5. The Pot Luck Club\n"
     ]
    }
   ],
   "source": [
    "# Complete the code below to identify all of the restaurants mentioned \n",
    "# in the journal\n",
    "prompt = f\"\"\"find all the restaurantes mentioned in the journal\n",
    "\n",
    "Email:\n",
    "{cape}\n",
    "\"\"\"\n",
    "\n",
    "restaurants = get_llm_response(prompt)\n",
    "print(restaurants)"
   ]
  },
  {
   "cell_type": "code",
   "execution_count": 10,
   "metadata": {},
   "outputs": [
    {
     "name": "stdout",
     "output_type": "stream",
     "text": [
      "- Dining at The Test Kitchen\n",
      "- Eating Pickled Fish Tacos\n",
      "- Visiting La Colombe\n",
      "- Trying Tuna La Colombe\n",
      "- Experiencing Gold Restaurant's African drumming and dance performances\n",
      "- Eating Bobotie\n",
      "- Going to Harbour House at V&A Waterfront\n",
      "- Enjoying Grilled Kingklip\n",
      "- Dining at The Pot Luck Club\n",
      "- Sharing small plates\n",
      "- Tasting Beef Tataki\n"
     ]
    }
   ],
   "source": [
    "# Write code below to list all of the activities that are mentioned in the journal \n",
    "# You'll need to create a prompt and use either get_llm_response or print_llm_response\n",
    "# START YOUR CODE HERE\n",
    "\n",
    "prompt = f\"list all the activities mentioned Journal: {cape}\"\n",
    "print(get_llm_response(prompt))"
   ]
  },
  {
   "cell_type": "code",
   "execution_count": 11,
   "metadata": {},
   "outputs": [
    {
     "data": {
      "text/plain": [
       "['.git', 'code', 'data', 'readme.md', 'requirements.txt', '__pycache__']"
      ]
     },
     "execution_count": 11,
     "metadata": {},
     "output_type": "execute_result"
    }
   ],
   "source": [
    "list_files_in_directory(base_path)"
   ]
  },
  {
   "cell_type": "code",
   "execution_count": 12,
   "metadata": {},
   "outputs": [
    {
     "name": "stdout",
     "output_type": "stream",
     "text": [
      "Embarking on a gastronomic journey through Cape Town revealed a city brimming with culinary treasures. Each stop was a testament to the rich flavors and unique dishes that define this vibrant city's food scene.\n",
      "\n",
      "My first destination was The Test Kitchen, a restaurant that has earned its place among the world's best. Situated in the trendy Woodstock area, this dining spot is celebrated for its innovative dishes. I was particularly taken by their signature dish, the \"Pickled Fish Tacos.\" The tangy, flavorful fish wrapped in a soft taco, paired with a zesty salsa, was a delightful start to my culinary adventure. The industrial-chic ambiance added a modern edge to the dining experience.\n",
      "\n",
      "Next, I made my way to La Colombe, perched on the slopes of Constantia. Known for its refined and artistic approach to cuisine, La Colombe's \"Tuna La Colombe\" is a must-try. This dish features perfectly seared tuna, complemented by a delicate ponzu dressing and bursts of citrus. The presentation was as exquisite as the flavors, making it a memorable highlight of the day.\n",
      "\n",
      "For a taste of traditional South African fare, I headed to Gold Restaurant. Located in Green Point, this vibrant eatery offers a culinary tour of the continent. The \"Bobotie,\" a classic Cape Malay dish, stood out with its spiced minced meat topped with a savory custard. The rich, aromatic flavors, combined with the lively African drumming and dance performances, created an immersive cultural experience.\n",
      "\n",
      "At the bustling V&A Waterfront, I visited Harbour House for some of the freshest seafood in town. The \"Grilled Kingklip\" was a revelation. The succulent, flaky fish, grilled to perfection and served with a side of roasted vegetables, highlighted the ocean's bounty. The stunning views of the harbor added to the meal's appeal.\n",
      "\n",
      "Finally, my journey concluded at The Pot Luck Club, another gem in Woodstock. This trendy spot is known for its small plates, perfect for sharing. The standout dish was the \"Beef Tataki.\" Thinly sliced, seared beef with a tangy soy dressing and a hint of wasabi provided a burst of umami and heat. The eclectic, artistic vibe of the restaurant made for a fitting end to my culinary tour.\n"
     ]
    }
   ],
   "source": [
    "# Define the file path\n",
    "cape_path = os.path.join(base_path, 'data/cape_town.txt')\n",
    "\n",
    "# Upload the text file and get its content\n",
    "cape = upload_txt_file(cape_path)\n",
    "\n",
    "# Print the content of the file\n",
    "print(cape)"
   ]
  },
  {
   "cell_type": "code",
   "execution_count": 13,
   "metadata": {},
   "outputs": [],
   "source": [
    "prompt = f\"\"\"Summarize the content from the following text\n",
    "in at most two sentences. \n",
    "\n",
    "Text:\n",
    "{cape}\"\"\""
   ]
  },
  {
   "cell_type": "code",
   "execution_count": 14,
   "metadata": {},
   "outputs": [
    {
     "name": "stdout",
     "output_type": "stream",
     "text": [
      "Summarize the content from the following text\n",
      "in at most two sentences. \n",
      "\n",
      "Text:\n",
      "Embarking on a gastronomic journey through Cape Town revealed a city brimming with culinary treasures. Each stop was a testament to the rich flavors and unique dishes that define this vibrant city's food scene.\n",
      "\n",
      "My first destination was The Test Kitchen, a restaurant that has earned its place among the world's best. Situated in the trendy Woodstock area, this dining spot is celebrated for its innovative dishes. I was particularly taken by their signature dish, the \"Pickled Fish Tacos.\" The tangy, flavorful fish wrapped in a soft taco, paired with a zesty salsa, was a delightful start to my culinary adventure. The industrial-chic ambiance added a modern edge to the dining experience.\n",
      "\n",
      "Next, I made my way to La Colombe, perched on the slopes of Constantia. Known for its refined and artistic approach to cuisine, La Colombe's \"Tuna La Colombe\" is a must-try. This dish features perfectly seared tuna, complemented by a delicate ponzu dressing and bursts of citrus. The presentation was as exquisite as the flavors, making it a memorable highlight of the day.\n",
      "\n",
      "For a taste of traditional South African fare, I headed to Gold Restaurant. Located in Green Point, this vibrant eatery offers a culinary tour of the continent. The \"Bobotie,\" a classic Cape Malay dish, stood out with its spiced minced meat topped with a savory custard. The rich, aromatic flavors, combined with the lively African drumming and dance performances, created an immersive cultural experience.\n",
      "\n",
      "At the bustling V&A Waterfront, I visited Harbour House for some of the freshest seafood in town. The \"Grilled Kingklip\" was a revelation. The succulent, flaky fish, grilled to perfection and served with a side of roasted vegetables, highlighted the ocean's bounty. The stunning views of the harbor added to the meal's appeal.\n",
      "\n",
      "Finally, my journey concluded at The Pot Luck Club, another gem in Woodstock. This trendy spot is known for its small plates, perfect for sharing. The standout dish was the \"Beef Tataki.\" Thinly sliced, seared beef with a tangy soy dressing and a hint of wasabi provided a burst of umami and heat. The eclectic, artistic vibe of the restaurant made for a fitting end to my culinary tour.\n"
     ]
    }
   ],
   "source": [
    "print(prompt)"
   ]
  },
  {
   "cell_type": "code",
   "execution_count": 15,
   "metadata": {},
   "outputs": [
    {
     "name": "stdout",
     "output_type": "stream",
     "text": [
      "****************************************************************************************************\n",
      "The gastronomic journey through Cape Town highlighted the city's diverse culinary scene, featuring innovative dishes at The Test Kitchen and La Colombe, traditional South African fare at Gold Restaurant, fresh seafood at Harbour House, and eclectic small plates at The Pot Luck Club. Each venue offered unique flavors and experiences, from the tangy \"Pickled Fish Tacos\" to the savory \"Bobotie\" and the umami-rich \"Beef Tataki.\"\n",
      "****************************************************************************************************\n",
      "\n",
      "\n"
     ]
    }
   ],
   "source": [
    "print_llm_response(prompt)"
   ]
  },
  {
   "cell_type": "code",
   "execution_count": 16,
   "metadata": {},
   "outputs": [
    {
     "name": "stdout",
     "output_type": "stream",
     "text": [
      "****************************************************************************************************\n",
      "The text contains 384 words.\n",
      "****************************************************************************************************\n",
      "\n",
      "\n"
     ]
    }
   ],
   "source": [
    "# Modify the prompt below to ask the LLM a different question about \n",
    "# your data\n",
    "prompt = f\"\"\"How many words are in the text?. \n",
    "\n",
    "Text:\n",
    "{cape}\"\"\"\n",
    "\n",
    "print_llm_response(prompt)"
   ]
  },
  {
   "cell_type": "code",
   "execution_count": 17,
   "metadata": {},
   "outputs": [
    {
     "name": "stdout",
     "output_type": "stream",
     "text": [
      "Tokyo's culinary landscape is nothing short of extraordinary. Each spot offers a unique taste of the city's diverse food culture. Here's a quick guide to some must-try places and dishes.\n",
      "\n",
      "    Sukiyabashi Jiro\n",
      "        Location: Ginza\n",
      "        Dish: Omakase sushi\n",
      "        Highlight: Impeccably crafted sushi made by the legendary Jiro Ono. Each piece is a masterclass in balance and flavor.\n",
      "\n",
      "    Ichiran Ramen\n",
      "        Location: Shibuya\n",
      "        Dish: Tonkotsu ramen\n",
      "        Highlight: A personal ramen booth for focused, uninterrupted enjoyment. Rich, creamy broth with perfectly cooked noodles.\n",
      "\n",
      "    Tsukiji Outer Market\n",
      "        Location: Tsukiji\n",
      "        Dish: Fresh sashimi and street food\n",
      "        Highlight: Vibrant market atmosphere. Indulge in ultra-fresh sashimi, grilled seafood, and other Japanese street food delights.\n",
      "\n",
      "    Narisawa\n",
      "        Location: Minato\n",
      "        Dish: Innovative tasting menu\n",
      "        Highlight: A fusion of French and Japanese techniques. Creative dishes with an emphasis on sustainability and local ingredients.\n",
      "\n",
      "    Ginza Kojyu\n",
      "        Location: Ginza\n",
      "        Dish: Kaiseki (traditional multi-course meal)\n",
      "        Highlight: Exquisite presentation and meticulous preparation. A journey through seasonal Japanese flavors.\n",
      "\n",
      "    Akasaka Kikunoi\n",
      "        Location: Akasaka\n",
      "        Dish: Kaiseki\n",
      "        Highlight: Elegant and serene setting. Seasonal ingredients transformed into artful, delicious courses.\n"
     ]
    }
   ],
   "source": [
    "# Define the file path\n",
    "tokyo_path = os.path.join(base_path, 'data/journal_tokyo.txt')\n",
    "\n",
    "# Upload the text file and get its content\n",
    "tokyo = upload_txt_file(tokyo_path)\n",
    "\n",
    "# Print the content of the file\n",
    "print(tokyo)"
   ]
  },
  {
   "cell_type": "code",
   "execution_count": 18,
   "metadata": {},
   "outputs": [],
   "source": [
    "prompt = f\"\"\"Respond with \"Relevant\" or \"Not relevant\": \n",
    "the journal describes restaurants and their specialties. \n",
    "\n",
    "Journal:\n",
    "{tokyo}\"\"\""
   ]
  },
  {
   "cell_type": "code",
   "execution_count": 19,
   "metadata": {},
   "outputs": [
    {
     "name": "stdout",
     "output_type": "stream",
     "text": [
      "****************************************************************************************************\n",
      "Relevant\n",
      "****************************************************************************************************\n",
      "\n",
      "\n"
     ]
    }
   ],
   "source": [
    "print_llm_response(prompt)"
   ]
  },
  {
   "cell_type": "code",
   "execution_count": 20,
   "metadata": {},
   "outputs": [],
   "source": [
    "# List of the journal files\n",
    "files = [tokyo, cape]"
   ]
  },
  {
   "cell_type": "code",
   "execution_count": 21,
   "metadata": {},
   "outputs": [
    {
     "name": "stdout",
     "output_type": "stream",
     "text": [
      "Relevant\n",
      "Relevant\n"
     ]
    }
   ],
   "source": [
    "for file in files:\n",
    "   \n",
    "    # Create prompt\n",
    "    prompt = f\"\"\"Respond with \"Relevant\" or \"Not relevant\": \n",
    "    the journal describes restaurants and their specialties. \n",
    "\n",
    "    Journal:\n",
    "    {file}\"\"\"\n",
    "\n",
    "    # Use LLM to determine if the journal entry is useful\n",
    "    print(f\"{get_llm_response(prompt)}\")"
   ]
  },
  {
   "cell_type": "code",
   "execution_count": 22,
   "metadata": {},
   "outputs": [
    {
     "name": "stdout",
     "output_type": "stream",
     "text": [
      "Yes\n",
      "Yes\n"
     ]
    }
   ],
   "source": [
    "for file in files:\n",
    "    # TRY CHANGING THIS PROMPT TO ASK DIFFERENT QUESTIONS\n",
    "    prompt = f\"\"\"Respond with \"Yes\" or \"No\": \n",
    "    the journal describes restaurants and food dishes. \n",
    "\n",
    "    Journal:\n",
    "    {file}\"\"\"\n",
    "\n",
    "    # Use LLM to determine if the journal entry is useful\n",
    "    print(f\"{get_llm_response(prompt)}\")"
   ]
  },
  {
   "cell_type": "code",
   "execution_count": 23,
   "metadata": {},
   "outputs": [
    {
     "name": "stdout",
     "output_type": "stream",
     "text": [
      "No.\n",
      "No\n"
     ]
    }
   ],
   "source": [
    "for file in files:\n",
    "    # TRY CHANGING THIS PROMPT TO ASK DIFFERENT QUESTIONS\n",
    "    prompt = f\"\"\"Respond with \"Yes\" or \"No\": \n",
    "    the journal mentions a vegetarian dish. \n",
    "\n",
    "    Journal:\n",
    "    {file}\"\"\"\n",
    "\n",
    "    # Use LLM to determine if the journal entry is useful\n",
    "    print(f\"{get_llm_response(prompt)}\")"
   ]
  },
  {
   "cell_type": "code",
   "execution_count": 24,
   "metadata": {},
   "outputs": [],
   "source": [
    "# Define the file path\n",
    "rio_path = os.path.join(base_path, 'data/journal_rio.txt')"
   ]
  },
  {
   "cell_type": "code",
   "execution_count": 25,
   "metadata": {},
   "outputs": [],
   "source": [
    "rio = read_journal(rio_path)"
   ]
  },
  {
   "cell_type": "code",
   "execution_count": 26,
   "metadata": {},
   "outputs": [
    {
     "name": "stdout",
     "output_type": "stream",
     "text": [
      "First up was Confeitaria Colombo, a legendary and picturesque cafÃ© in central Rio. Known for its pastel de nata (custard tart), Colombo serves a delightful treat that is hard to beat. The crispy, flaky pastry filled with creamy, sweet custard was an excellent start to the day. The cafÃ©'s historic Belle Ã‰poque ambiance added an extra layer of charm.\n",
      "\n",
      "Next, I visited Fogo de ChÃ£o, a quintessential Brazilian steakhouse in Botafogo. Famous for its picanha (top sirloin), this churrascaria impressed with its perfectly grilled meat. The picanha was juicy, tender, and bursting with flavor, showcasing the high quality of Brazilian beef. The endless array of grilled meats served tableside made for a hearty and satisfying meal.\n",
      "\n",
      "For a more modern dining experience, I headed to Olympe in Lagoa. This Michelin-starred restaurant specializes in contemporary Brazilian cuisine. The highlight was their moqueca de caju (cashew nut stew). This rich and creamy stew, made from cashew nuts and complemented by fresh seafood and vegetables, was an exquisite dish in an elegant and refined setting.\n",
      "\n",
      "Finally, I concluded my culinary tour at AprazÃ­vel, renowned for its breathtaking views and farm-to-table approach. Their signature dish, galinhada (Brazilian chicken and rice), was outstanding. The tender and flavorful chicken, cooked with a mix of rice, vegetables, and spices, and served with farofa (toasted cassava flour), perfectly highlighted the fresh, locally sourced ingredients. The lush, garden-like setting of the restaurant provided a serene end to the culinary adventure.\n"
     ]
    }
   ],
   "source": [
    "print(rio)"
   ]
  },
  {
   "cell_type": "code",
   "execution_count": 27,
   "metadata": {},
   "outputs": [
    {
     "name": "stdout",
     "output_type": "stream",
     "text": [
      "\n",
      "Given the following journal entry from a food critic, identify the restaurants and their best dishes.\n",
      "Highlight and bold each restaurant (in orange) and best dish (in blue) within the original text. \n",
      "\n",
      "Provide the output as HTML suitable for display in a Jupyter notebook. \n",
      "\n",
      "Journal entry:\n",
      "First up was Confeitaria Colombo, a legendary and picturesque cafÃ© in central Rio. Known for its pastel de nata (custard tart), Colombo serves a delightful treat that is hard to beat. The crispy, flaky pastry filled with creamy, sweet custard was an excellent start to the day. The cafÃ©'s historic Belle Ã‰poque ambiance added an extra layer of charm.\n",
      "\n",
      "Next, I visited Fogo de ChÃ£o, a quintessential Brazilian steakhouse in Botafogo. Famous for its picanha (top sirloin), this churrascaria impressed with its perfectly grilled meat. The picanha was juicy, tender, and bursting with flavor, showcasing the high quality of Brazilian beef. The endless array of grilled meats served tableside made for a hearty and satisfying meal.\n",
      "\n",
      "For a more modern dining experience, I headed to Olympe in Lagoa. This Michelin-starred restaurant specializes in contemporary Brazilian cuisine. The highlight was their moqueca de caju (cashew nut stew). This rich and creamy stew, made from cashew nuts and complemented by fresh seafood and vegetables, was an exquisite dish in an elegant and refined setting.\n",
      "\n",
      "Finally, I concluded my culinary tour at AprazÃ­vel, renowned for its breathtaking views and farm-to-table approach. Their signature dish, galinhada (Brazilian chicken and rice), was outstanding. The tender and flavorful chicken, cooked with a mix of rice, vegetables, and spices, and served with farofa (toasted cassava flour), perfectly highlighted the fresh, locally sourced ingredients. The lush, garden-like setting of the restaurant provided a serene end to the culinary adventure.\n",
      "\n"
     ]
    }
   ],
   "source": [
    "prompt = f\"\"\"\n",
    "Given the following journal entry from a food critic, identify the restaurants and their best dishes.\n",
    "Highlight and bold each restaurant (in orange) and best dish (in blue) within the original text. \n",
    "\n",
    "Provide the output as HTML suitable for display in a Jupyter notebook. \n",
    "\n",
    "Journal entry:\n",
    "{rio}\n",
    "\"\"\"\n",
    "\n",
    "print(prompt)"
   ]
  },
  {
   "cell_type": "code",
   "execution_count": 28,
   "metadata": {},
   "outputs": [
    {
     "name": "stdout",
     "output_type": "stream",
     "text": [
      "```html\n",
      "<p>First up was <span style=\"color: orange;\"><strong>Confeitaria Colombo</strong></span>, a legendary and picturesque café in central Rio. Known for its <span style=\"color: blue;\"><strong>pastel de nata</strong></span> (custard tart), Colombo serves a delightful treat that is hard to beat. The crispy, flaky pastry filled with creamy, sweet custard was an excellent start to the day. The café's historic Belle Époque ambiance added an extra layer of charm.</p>\n",
      "\n",
      "<p>Next, I visited <span style=\"color: orange;\"><strong>Fogo de Chão</strong></span>, a quintessential Brazilian steakhouse in Botafogo. Famous for its <span style=\"color: blue;\"><strong>picanha</strong></span> (top sirloin), this churrascaria impressed with its perfectly grilled meat. The picanha was juicy, tender, and bursting with flavor, showcasing the high quality of Brazilian beef. The endless array of grilled meats served tableside made for a hearty and satisfying meal.</p>\n",
      "\n",
      "<p>For a more modern dining experience, I headed to <span style=\"color: orange;\"><strong>Olympe</strong></span> in Lagoa. This Michelin-starred restaurant specializes in contemporary Brazilian cuisine. The highlight was their <span style=\"color: blue;\"><strong>moqueca de caju</strong></span> (cashew nut stew). This rich and creamy stew, made from cashew nuts and complemented by fresh seafood and vegetables, was an exquisite dish in an elegant and refined setting.</p>\n",
      "\n",
      "<p>Finally, I concluded my culinary tour at <span style=\"color: orange;\"><strong>Aprazível</strong></span>, renowned for its breathtaking views and farm-to-table approach. Their signature dish, <span style=\"color: blue;\"><strong>galinhada</strong></span> (Brazilian chicken and rice), was outstanding. The tender and flavorful chicken, cooked with a mix of rice, vegetables, and spices, and served with farofa (toasted cassava flour), perfectly highlighted the fresh, locally sourced ingredients. The lush, garden-like setting of the restaurant provided a serene end to the culinary adventure.</p>\n",
      "```\n"
     ]
    }
   ],
   "source": [
    "html_response = get_llm_response(prompt)\n",
    "print(html_response)"
   ]
  },
  {
   "cell_type": "code",
   "execution_count": 29,
   "metadata": {},
   "outputs": [
    {
     "data": {
      "text/html": [
       "```html\n",
       "<p>First up was <span style=\"color: orange;\"><strong>Confeitaria Colombo</strong></span>, a legendary and picturesque café in central Rio. Known for its <span style=\"color: blue;\"><strong>pastel de nata</strong></span> (custard tart), Colombo serves a delightful treat that is hard to beat. The crispy, flaky pastry filled with creamy, sweet custard was an excellent start to the day. The café's historic Belle Époque ambiance added an extra layer of charm.</p>\n",
       "\n",
       "<p>Next, I visited <span style=\"color: orange;\"><strong>Fogo de Chão</strong></span>, a quintessential Brazilian steakhouse in Botafogo. Famous for its <span style=\"color: blue;\"><strong>picanha</strong></span> (top sirloin), this churrascaria impressed with its perfectly grilled meat. The picanha was juicy, tender, and bursting with flavor, showcasing the high quality of Brazilian beef. The endless array of grilled meats served tableside made for a hearty and satisfying meal.</p>\n",
       "\n",
       "<p>For a more modern dining experience, I headed to <span style=\"color: orange;\"><strong>Olympe</strong></span> in Lagoa. This Michelin-starred restaurant specializes in contemporary Brazilian cuisine. The highlight was their <span style=\"color: blue;\"><strong>moqueca de caju</strong></span> (cashew nut stew). This rich and creamy stew, made from cashew nuts and complemented by fresh seafood and vegetables, was an exquisite dish in an elegant and refined setting.</p>\n",
       "\n",
       "<p>Finally, I concluded my culinary tour at <span style=\"color: orange;\"><strong>Aprazível</strong></span>, renowned for its breathtaking views and farm-to-table approach. Their signature dish, <span style=\"color: blue;\"><strong>galinhada</strong></span> (Brazilian chicken and rice), was outstanding. The tender and flavorful chicken, cooked with a mix of rice, vegetables, and spices, and served with farofa (toasted cassava flour), perfectly highlighted the fresh, locally sourced ingredients. The lush, garden-like setting of the restaurant provided a serene end to the culinary adventure.</p>\n",
       "```"
      ],
      "text/plain": [
       "<IPython.core.display.HTML object>"
      ]
     },
     "metadata": {},
     "output_type": "display_data"
    }
   ],
   "source": [
    "display(HTML(html_response))"
   ]
  },
  {
   "cell_type": "code",
   "execution_count": 30,
   "metadata": {},
   "outputs": [
    {
     "data": {
      "text/html": [
       "```html\n",
       "<p>Tokyo's culinary landscape is nothing short of extraordinary. Each spot offers a unique taste of the city's diverse food culture. Here's a quick guide to some must-try places and dishes.</p>\n",
       "\n",
       "<ul>\n",
       "    <li><span style=\"color: orange; font-weight: bold;\">Sukiyabashi Jiro</span>\n",
       "        <ul>\n",
       "            <li><span style=\"color: blue; font-weight: bold;\">Omakase sushi</span></li>\n",
       "            <li>Highlight: Impeccably crafted sushi made by the legendary Jiro Ono. Each piece is a masterclass in balance and flavor.</li>\n",
       "        </ul>\n",
       "    </li>\n",
       "    <li><span style=\"color: orange; font-weight: bold;\">Ichiran Ramen</span>\n",
       "        <ul>\n",
       "            <li><span style=\"color: blue; font-weight: bold;\">Tonkotsu ramen</span></li>\n",
       "            <li>Highlight: A personal ramen booth for focused, uninterrupted enjoyment. Rich, creamy broth with perfectly cooked noodles.</li>\n",
       "        </ul>\n",
       "    </li>\n",
       "    <li><span style=\"color: orange; font-weight: bold;\">Tsukiji Outer Market</span>\n",
       "        <ul>\n",
       "            <li><span style=\"color: blue; font-weight: bold;\">Fresh sashimi and street food</span></li>\n",
       "            <li>Highlight: Vibrant market atmosphere. Indulge in ultra-fresh sashimi, grilled seafood, and other Japanese street food delights.</li>\n",
       "        </ul>\n",
       "    </li>\n",
       "    <li><span style=\"color: orange; font-weight: bold;\">Narisawa</span>\n",
       "        <ul>\n",
       "            <li><span style=\"color: blue; font-weight: bold;\">Innovative tasting menu</span></li>\n",
       "            <li>Highlight: A fusion of French and Japanese techniques. Creative dishes with an emphasis on sustainability and local ingredients.</li>\n",
       "        </ul>\n",
       "    </li>\n",
       "    <li><span style=\"color: orange; font-weight: bold;\">Ginza Kojyu</span>\n",
       "        <ul>\n",
       "            <li><span style=\"color: blue; font-weight: bold;\">Kaiseki (traditional multi-course meal)</span></li>\n",
       "            <li>Highlight: Exquisite presentation and meticulous preparation. A journey through seasonal Japanese flavors.</li>\n",
       "        </ul>\n",
       "    </li>\n",
       "    <li><span style=\"color: orange; font-weight: bold;\">Akasaka Kikunoi</span>\n",
       "        <ul>\n",
       "            <li><span style=\"color: blue; font-weight: bold;\">Kaiseki</span></li>\n",
       "            <li>Highlight: Elegant and serene setting. Seasonal ingredients transformed into artful, delicious courses.</li>\n",
       "        </ul>\n",
       "    </li>\n",
       "</ul>\n",
       "```"
      ],
      "text/plain": [
       "<IPython.core.display.HTML object>"
      ]
     },
     "metadata": {},
     "output_type": "display_data"
    }
   ],
   "source": [
    "prompt = f\"\"\"\n",
    "Given the following journal entry from a food critic, identify the restaurants and their best dishes.\n",
    "Highlight and bold each restaurant (in orange) and best dish (in blue) within the original text. \n",
    "\n",
    "Provide the output as HTML suitable for display in a Jupyter notebook. \n",
    "\n",
    "Journal entry:\n",
    "{tokyo}\n",
    "\"\"\"\n",
    "\n",
    "html_response = get_llm_response(prompt)\n",
    "display(HTML(html_response))"
   ]
  },
  {
   "cell_type": "code",
   "execution_count": 31,
   "metadata": {},
   "outputs": [],
   "source": [
    "files = [tokyo, cape, rio]"
   ]
  },
  {
   "cell_type": "code",
   "execution_count": 32,
   "metadata": {},
   "outputs": [
    {
     "data": {
      "text/markdown": [
       "# Tokyo\n",
       "\n",
       "- **Sukiyabashi Jiro**\n",
       "  - Location: Ginza\n",
       "  - Dish: Omakase sushi 🍣\n",
       "  - Highlight: Impeccably crafted sushi made by the legendary Jiro Ono. Each piece is a masterclass in balance and flavor.\n",
       "\n",
       "- **Ichiran Ramen**\n",
       "  - Location: Shibuya\n",
       "  - Dish: Tonkotsu ramen 🍜\n",
       "  - Highlight: A personal ramen booth for focused, uninterrupted enjoyment. Rich, creamy broth with perfectly cooked noodles.\n",
       "\n",
       "- **Tsukiji Outer Market**\n",
       "  - Location: Tsukiji\n",
       "  - Dish: Fresh sashimi 🍣 and street food 🍢\n",
       "  - Highlight: Vibrant market atmosphere. Indulge in ultra-fresh sashimi, grilled seafood, and other Japanese street food delights.\n",
       "\n",
       "- **Narisawa**\n",
       "  - Location: Minato\n",
       "  - Dish: Innovative tasting menu\n",
       "  - Highlight: A fusion of French and Japanese techniques. Creative dishes with an emphasis on sustainability and local ingredients.\n",
       "\n",
       "- **Ginza Kojyu**\n",
       "  - Location: Ginza\n",
       "  - Dish: Kaiseki 🍱 (traditional multi-course meal)\n",
       "  - Highlight: Exquisite presentation and meticulous preparation. A journey through seasonal Japanese flavors.\n",
       "\n",
       "- **Akasaka Kikunoi**\n",
       "  - Location: Akasaka\n",
       "  - Dish: Kaiseki 🍱\n",
       "  - Highlight: Elegant and serene setting. Seasonal ingredients transformed into artful, delicious courses."
      ],
      "text/plain": [
       "<IPython.core.display.Markdown object>"
      ]
     },
     "metadata": {},
     "output_type": "display_data"
    },
    {
     "data": {
      "text/markdown": [
       "# Cape Town\n",
       "\n",
       "Embarking on a gastronomic journey through Cape Town revealed a city brimming with culinary treasures. Each stop was a testament to the rich flavors and unique dishes that define this vibrant city's food scene.\n",
       "\n",
       "My first destination was The Test Kitchen, a restaurant that has earned its place among the world's best. Situated in the trendy Woodstock area, this dining spot is celebrated for its innovative dishes. I was particularly taken by their signature dish, the \"Pickled Fish Tacos.\" The tangy, flavorful **fish** 🐟 wrapped in a soft **taco** 🌮, paired with a zesty **salsa** 🌶️, was a delightful start to my culinary adventure. The industrial-chic ambiance added a modern edge to the dining experience.\n",
       "\n",
       "Next, I made my way to La Colombe, perched on the slopes of Constantia. Known for its refined and artistic approach to cuisine, La Colombe's \"Tuna La Colombe\" is a must-try. This dish features perfectly seared **tuna** 🐟, complemented by a delicate ponzu **dressing** and bursts of **citrus** 🍋. The presentation was as exquisite as the flavors, making it a memorable highlight of the day.\n",
       "\n",
       "For a taste of traditional South African fare, I headed to Gold Restaurant. Located in Green Point, this vibrant eatery offers a culinary tour of the continent. The \"Bobotie,\" a classic Cape Malay dish, stood out with its spiced **minced meat** 🥩 topped with a savory **custard** 🍮. The rich, aromatic flavors, combined with the lively African drumming and dance performances, created an immersive cultural experience.\n",
       "\n",
       "At the bustling V&A Waterfront, I visited Harbour House for some of the freshest seafood in town. The \"Grilled Kingklip\" was a revelation. The succulent, flaky **fish** 🐟, grilled to perfection and served with a side of roasted **vegetables** 🥕, highlighted the ocean's bounty. The stunning views of the harbor added to the meal's appeal.\n",
       "\n",
       "Finally, my journey concluded at The Pot Luck Club, another gem in Woodstock. This trendy spot is known for its small plates, perfect for sharing. The standout dish was the \"Beef Tataki.\" Thinly sliced, seared **beef** 🥩 with a tangy soy **dressing** and a hint of **wasabi** 🌶️ provided a burst of umami and heat. The eclectic, artistic vibe of the restaurant made for a fitting end to my culinary tour."
      ],
      "text/plain": [
       "<IPython.core.display.Markdown object>"
      ]
     },
     "metadata": {},
     "output_type": "display_data"
    },
    {
     "data": {
      "text/markdown": [
       "# Rio\n",
       "\n",
       "First up was Confeitaria Colombo, a legendary and picturesque café in central Rio. Known for its **<span style=\"color: green;\">pastel de nata (custard tart)</span>**, Colombo serves a delightful treat that is hard to beat. The crispy, flaky 🍞 pastry filled with creamy, sweet 🍬 custard was an excellent start to the day. The café's historic Belle Époque ambiance added an extra layer of charm.\n",
       "\n",
       "Next, I visited Fogo de Chão, a quintessential Brazilian steakhouse in Botafogo. Famous for its **picanha (top sirloin)**, this churrascaria impressed with its perfectly grilled meat. The picanha was juicy 🥩, tender, and bursting with flavor, showcasing the high quality of Brazilian beef 🐄. The endless array of grilled meats served tableside made for a hearty and satisfying meal.\n",
       "\n",
       "For a more modern dining experience, I headed to Olympe in Lagoa. This Michelin-starred restaurant specializes in contemporary Brazilian cuisine. The highlight was their **moqueca de caju (cashew nut stew)**. This rich and creamy stew, made from cashew nuts 🌰 and complemented by fresh seafood 🦐 and vegetables 🥦, was an exquisite dish in an elegant and refined setting.\n",
       "\n",
       "Finally, I concluded my culinary tour at Aprazível, renowned for its breathtaking views and farm-to-table approach. Their signature dish, **galinhada (Brazilian chicken and rice)**, was outstanding. The tender and flavorful chicken 🍗, cooked with a mix of rice 🍚, vegetables 🥕, and spices 🌶️, and served with **farofa (toasted cassava flour)**, perfectly highlighted the fresh, locally sourced ingredients. The lush, garden-like setting of the restaurant provided a serene end to the culinary adventure."
      ],
      "text/plain": [
       "<IPython.core.display.Markdown object>"
      ]
     },
     "metadata": {},
     "output_type": "display_data"
    }
   ],
   "source": [
    "for file in files:\n",
    "# Modify the prompt to highlight desserts in green and add emojis beside ingredients\n",
    "    prompt = f\"\"\"\n",
    "    Highlight any desserts in green and add a relevant emoji beside any ingredients in the following journal entry.\n",
    "    Include a big title in Markdown format with the name of the city for each different journal entry.\n",
    "\n",
    "    Journal entry:\n",
    "    {file}\n",
    "    \"\"\"\n",
    "\n",
    "    # Get the response from the LLM\n",
    "    response = get_llm_response(prompt)\n",
    "\n",
    "    # Display the response\n",
    "    display(Markdown(response))"
   ]
  },
  {
   "cell_type": "code",
   "execution_count": 33,
   "metadata": {},
   "outputs": [
    {
     "name": "stdout",
     "output_type": "stream",
     "text": [
      "Restaurant,Dish\n",
      "Confeitaria Colombo,pastel de nata\n",
      "Fogo de Chão,picanha\n",
      "Olympe,moqueca de caju\n",
      "Aprazível,galinhada\n"
     ]
    }
   ],
   "source": [
    "prompt = f\"\"\"Please extract a comprehensive list of the restaurants \n",
    "and their respective best dishes mentioned in the following journal entry. \n",
    "Ensure that each restaurant name is accurately identified and listed. \n",
    "\n",
    "Provide your answer in CSV format, ready to save. \n",
    "Exclude the \"```csv\" declaration, don't add spaces after the comma, include column headers.\n",
    "\n",
    "Format:\n",
    "Restaurant, Dish\n",
    "Res_1, Dsh_1\n",
    "...\n",
    "\n",
    "Journal entry:\n",
    "{rio}\n",
    "\"\"\"\n",
    "\n",
    "restaurants_csv_ready_string = get_llm_response(prompt)\n",
    "\n",
    "print(restaurants_csv_ready_string)"
   ]
  },
  {
   "cell_type": "code",
   "execution_count": 34,
   "metadata": {},
   "outputs": [
    {
     "name": "stdout",
     "output_type": "stream",
     "text": [
      "****************************************************************************************************\n",
      "Restaurant,Dish\n",
      "Sukiyabashi Jiro,Omakase sushi\n",
      "Ichiran Ramen,Tonkotsu ramen\n",
      "Tsukiji Outer Market,Fresh sashimi and street food\n",
      "Narisawa,Innovative tasting menu\n",
      "Ginza Kojyu,Kaiseki (traditional multi-course meal)\n",
      "Akasaka Kikunoi,Kaiseki\n",
      "****************************************************************************************************\n",
      "\n",
      "\n",
      "\n",
      "****************************************************************************************************\n",
      "Restaurant,Dish\n",
      "The Test Kitchen,Pickled Fish Tacos\n",
      "La Colombe,Tuna La Colombe\n",
      "Gold Restaurant,Bobotie\n",
      "Harbour House,Grilled Kingklip\n",
      "The Pot Luck Club,Beef Tataki\n",
      "****************************************************************************************************\n",
      "\n",
      "\n",
      "\n",
      "****************************************************************************************************\n",
      "Restaurant,Dish\n",
      "Confeitaria Colombo,pastel de nata\n",
      "Fogo de Chão,picanha\n",
      "Olympe,moqueca de caju\n",
      "Aprazível,galinhada\n",
      "****************************************************************************************************\n",
      "\n",
      "\n",
      "\n"
     ]
    }
   ],
   "source": [
    "for file in files:\n",
    "\n",
    "    #Extract restaurants and display csv\n",
    "    prompt =  f\"\"\"Please extract a comprehensive list of the restaurants \n",
    "    and their respective best dishes mentioned in the following journal entry. \n",
    "    \n",
    "    Ensure that each restaurant name is accurately identified and listed. \n",
    "    Provide your answer in CSV format, ready to save.\n",
    "\n",
    "    Exclude the \"```csv\" declaration, don't add spaces after the \n",
    "    comma, include column headers.\n",
    "\n",
    "    Format:\n",
    "    Restaurant, Dish\n",
    "    Res_1, Dsh_1\n",
    "    ...\n",
    "\n",
    "    Journal entry:\n",
    "    {file}\n",
    "    \"\"\"\n",
    "    \n",
    "    print_llm_response(prompt)\n",
    "    print(\"\") # Prints a blank line!"
   ]
  },
  {
   "cell_type": "code",
   "execution_count": 35,
   "metadata": {},
   "outputs": [
    {
     "name": "stdout",
     "output_type": "stream",
     "text": [
      "****************************************************************************************************\n",
      "Restaurant,Neighborhood,Dish,Main Ingredient\n",
      "Sukiyabashi Jiro,Ginza,Omakase sushi,Sushi\n",
      "Ichiran Ramen,Shibuya,Tonkotsu ramen,Broth\n",
      "Tsukiji Outer Market,Tsukiji,Fresh sashimi and street food,Sashimi\n",
      "Narisawa,Minato,Innovative tasting menu,Local ingredients\n",
      "Ginza Kojyu,Ginza,Kaiseki,Seasonal flavors\n",
      "Akasaka Kikunoi,Akasaka,Kaiseki,Seasonal ingredients\n",
      "****************************************************************************************************\n",
      "\n",
      "\n",
      "\n",
      "****************************************************************************************************\n",
      "Restaurant,Neighborhood,Dish,Main Ingredient\n",
      "The Test Kitchen,Woodstock,Pickled Fish Tacos,Fish\n",
      "La Colombe,Constantia,Tuna La Colombe,Tuna\n",
      "Gold Restaurant,Green Point,Bobotie,Minced Meat\n",
      "Harbour House,V&A Waterfront,Grilled Kingklip,Kingklip\n",
      "The Pot Luck Club,Woodstock,Beef Tataki,Beef\n",
      "****************************************************************************************************\n",
      "\n",
      "\n",
      "\n",
      "****************************************************************************************************\n",
      "Restaurant,Neighborhood,Dish,Main Ingredient\n",
      "Confeitaria Colombo,Central Rio,pastel de nata,custard\n",
      "Fogo de Chão,Botafogo,picanha,top sirloin\n",
      "Olympe,Lagoa,moqueca de caju,cashew nut\n",
      "Aprazível,,galinhada,chicken\n",
      "****************************************************************************************************\n",
      "\n",
      "\n",
      "\n"
     ]
    }
   ],
   "source": [
    "for file in files:\n",
    "\n",
    "    #Extract restaurants and display csv\n",
    "    prompt =  f\"\"\"Please extract the restaurant name and the neighborhood it is located in\n",
    "    and extract each dish and it's main ingredient mentioned in the following journal entry. \n",
    "    \n",
    "    Ensure that each restaurant name is accurately identified and listed. \n",
    "    Provide your answer in CSV format, ready to save.\n",
    "\n",
    "    Exclude the \"```csv\" declaration, don't add spaces after the \n",
    "    comma, include column headers.\n",
    "\n",
    "    Format:\n",
    "    Restaurant, Dish\n",
    "    Res_1, Dsh_1\n",
    "    ...\n",
    "\n",
    "    Journal entry:\n",
    "    {file}\n",
    "    \"\"\"\n",
    "    \n",
    "    print_llm_response(prompt)\n",
    "    print(\"\") # Prints a blank line!"
   ]
  },
  {
   "cell_type": "code",
   "execution_count": 36,
   "metadata": {},
   "outputs": [
    {
     "data": {
      "text/html": [
       "```html\n",
       "<p>Tokyo's culinary landscape is nothing short of extraordinary. Each spot offers a unique taste of the city's diverse food culture. Here's a quick guide to some must-try places and dishes.</p>\n",
       "\n",
       "<ul>\n",
       "    <li><span style=\"color: orange; font-weight: bold;\">Sukiyabashi Jiro</span>\n",
       "        <ul>\n",
       "            <li><span style=\"color: blue; font-weight: bold;\">Omakase sushi</span></li>\n",
       "            <li>Highlight: Impeccably crafted sushi made by the legendary Jiro Ono. Each piece is a masterclass in balance and flavor.</li>\n",
       "        </ul>\n",
       "    </li>\n",
       "    <li><span style=\"color: orange; font-weight: bold;\">Ichiran Ramen</span>\n",
       "        <ul>\n",
       "            <li><span style=\"color: blue; font-weight: bold;\">Tonkotsu ramen</span></li>\n",
       "            <li>Highlight: A personal ramen booth for focused, uninterrupted enjoyment. Rich, creamy broth with perfectly cooked noodles.</li>\n",
       "        </ul>\n",
       "    </li>\n",
       "    <li><span style=\"color: orange; font-weight: bold;\">Tsukiji Outer Market</span>\n",
       "        <ul>\n",
       "            <li><span style=\"color: blue; font-weight: bold;\">Fresh sashimi and street food</span></li>\n",
       "            <li>Highlight: Vibrant market atmosphere. Indulge in ultra-fresh sashimi, grilled seafood, and other Japanese street food delights.</li>\n",
       "        </ul>\n",
       "    </li>\n",
       "    <li><span style=\"color: orange; font-weight: bold;\">Narisawa</span>\n",
       "        <ul>\n",
       "            <li><span style=\"color: blue; font-weight: bold;\">Innovative tasting menu</span></li>\n",
       "            <li>Highlight: A fusion of French and Japanese techniques. Creative dishes with an emphasis on sustainability and local ingredients.</li>\n",
       "        </ul>\n",
       "    </li>\n",
       "    <li><span style=\"color: orange; font-weight: bold;\">Ginza Kojyu</span>\n",
       "        <ul>\n",
       "            <li><span style=\"color: blue; font-weight: bold;\">Kaiseki (traditional multi-course meal)</span></li>\n",
       "            <li>Highlight: Exquisite presentation and meticulous preparation. A journey through seasonal Japanese flavors.</li>\n",
       "        </ul>\n",
       "    </li>\n",
       "    <li><span style=\"color: orange; font-weight: bold;\">Akasaka Kikunoi</span>\n",
       "        <ul>\n",
       "            <li><span style=\"color: blue; font-weight: bold;\">Kaiseki</span></li>\n",
       "            <li>Highlight: Elegant and serene setting. Seasonal ingredients transformed into artful, delicious courses.</li>\n",
       "        </ul>\n",
       "    </li>\n",
       "</ul>\n",
       "```"
      ],
      "text/plain": [
       "<IPython.core.display.HTML object>"
      ]
     },
     "metadata": {},
     "output_type": "display_data"
    }
   ],
   "source": [
    "display(HTML(html_response))"
   ]
  },
  {
   "cell_type": "code",
   "execution_count": 37,
   "metadata": {},
   "outputs": [],
   "source": [
    "# Define the file path\n",
    "highlighted_texted_path = os.path.join(base_path, 'data/highlighted_text.html')"
   ]
  },
  {
   "cell_type": "code",
   "execution_count": 38,
   "metadata": {},
   "outputs": [],
   "source": [
    "# Write the HTML response to a file using the with statement\n",
    "with open(highlighted_texted_path, 'w') as f:\n",
    "    f.write(html_response)"
   ]
  },
  {
   "cell_type": "code",
   "execution_count": 39,
   "metadata": {},
   "outputs": [
    {
     "data": {
      "text/html": [
       "\n",
       "    <html>\n",
       "    <body>\n",
       "    <a href=\"C:/Users/usuar/Documents/Data analyst IronHack/Test projects/AIPythonDeepLearningAI\\data/highlighted_text.html\" download=\"C:/Users/usuar/Documents/Data analyst IronHack/Test projects/AIPythonDeepLearningAI\\data/highlighted_text.html\">\n",
       "        <button>Click here to download your file</button>\n",
       "    </a>\n",
       "    </body>\n",
       "    </html>\n",
       "    "
      ],
      "text/plain": [
       "<IPython.core.display.HTML object>"
      ]
     },
     "metadata": {},
     "output_type": "display_data"
    }
   ],
   "source": [
    "# Generate a download link for the file\n",
    "download_file(highlighted_texted_path)"
   ]
  },
  {
   "cell_type": "code",
   "execution_count": 40,
   "metadata": {},
   "outputs": [
    {
     "data": {
      "text/html": [
       "```html\n",
       "<p>My culinary adventure began at <span style=\"color: orange; font-weight: bold;\">Saint Peter</span>, a renowned seafood restaurant in Paddington. This place is a temple to Australian seafood, and the \"<span style=\"color: blue; font-weight: bold;\">Murray Cod</span>\" was a revelation. The fish, sourced from the Murray River, was perfectly cooked, with a crispy skin and tender, flaky flesh. It was served with a simple yet flavorful accompaniment of seasonal vegetables, allowing the quality of the fish to shine. The restaurant's dedication to sustainability and nose-to-tail seafood cooking added an educational aspect to the delicious meal.</p>\n",
       "\n",
       "<p>Next, I visited <span style=\"color: orange; font-weight: bold;\">Billy Kwong</span> in Potts Point, where celebrated chef Kylie Kwong puts a unique spin on modern Australian cuisine using native ingredients. The standout dish here was the \"<span style=\"color: blue; font-weight: bold;\">Crispy Skin Duck with Davidsonâ€™s Plum Sauce</span>.\" The duck was cooked to perfection, with a rich, flavorful meat and delightfully crispy skin, complemented by the tart and slightly sweet Davidsonâ€™s plum sauce. This dish was a perfect example of how traditional recipes can be elevated with local, indigenous ingredients, creating something both familiar and new.</p>\n",
       "\n",
       "<p>In search of a true Australian pub experience, I headed to <span style=\"color: orange; font-weight: bold;\">The Lord Nelson Brewery Hotel</span> in The Rocks. This historic pub serves up hearty, classic Australian fare, and the \"<span style=\"color: blue; font-weight: bold;\">Roast Lamb</span>\" was exactly what I was craving. The lamb, roasted to tender perfection, was served with a medley of root vegetables and a rich gravy, making for a comforting and satisfying meal. Paired with one of their house-brewed ales, it was a quintessential Aussie pub experience that I would highly recommend.</p>\n",
       "\n",
       "<p>I couldn't miss out on trying some of the famous Australian barbecue, so I headed to <span style=\"color: orange; font-weight: bold;\">Vic's Meat Market</span> at the Sydney Fish Market. The \"<span style=\"color: blue; font-weight: bold;\">BBQ Beef Brisket</span>\" was a highlight, slow-cooked to achieve a melt-in-the-mouth texture, and served with a tangy barbecue sauce. The smoky, rich flavor of the brisket was enhanced by the vibrant, outdoor setting of the market, where the aroma of grilling meat filled the air.</p>\n",
       "\n",
       "<p>To round off my exploration of local cuisine, I visited <span style=\"color: orange; font-weight: bold;\">Bennelong</span>, located within the iconic Sydney Opera House. This fine dining restaurant celebrates Australian produce in every dish. The \"<span style=\"color: blue; font-weight: bold;\">Sydney Rock Oysters</span>\" were an exquisite start to the meal, served with a delicate vinaigrette that highlighted their briny freshness. The oysters, sourced from local waters, were plump and succulent, offering a pure taste of the sea.</p>\n",
       "```"
      ],
      "text/plain": [
       "<IPython.core.display.HTML object>"
      ]
     },
     "metadata": {},
     "output_type": "display_data"
    }
   ],
   "source": [
    "# Define the file path\n",
    "sidney_path = os.path.join(base_path, 'data/journal_sidney.txt')\n",
    "\n",
    "sidney = read_journal(sidney_path)\n",
    "\n",
    "# Modify the prompt below\n",
    "prompt = f\"\"\"\n",
    "Given the following journal entry from a food critic, identify the \n",
    "restaurants and their best dishes. Highlight and bold each restaurant \n",
    "(in orange) and best dish (in blue) within the original text. \n",
    "\n",
    "Provide the output as HTML suitable for display in a Jupyter notebook. \n",
    "\n",
    "Journal entry:\n",
    "{sidney}\n",
    "\"\"\"\n",
    "\n",
    "html_sydney = get_llm_response(prompt)\n",
    "display(HTML(html_sydney))"
   ]
  },
  {
   "cell_type": "code",
   "execution_count": 41,
   "metadata": {},
   "outputs": [
    {
     "data": {
      "text/html": [
       "\n",
       "    <html>\n",
       "    <body>\n",
       "    <a href=\"C:/Users/usuar/Documents/Data analyst IronHack/Test projects/AIPythonDeepLearningAI\\data/highlighted_sidney.html\" download=\"C:/Users/usuar/Documents/Data analyst IronHack/Test projects/AIPythonDeepLearningAI\\data/highlighted_sidney.html\">\n",
       "        <button>Click here to download your file</button>\n",
       "    </a>\n",
       "    </body>\n",
       "    </html>\n",
       "    "
      ],
      "text/plain": [
       "<IPython.core.display.HTML object>"
      ]
     },
     "metadata": {},
     "output_type": "display_data"
    }
   ],
   "source": [
    "# Define the file path\n",
    "highlighted_sidney_path = os.path.join(base_path, 'data/highlighted_sidney.html')\n",
    "\n",
    "# Write the HTML response to a file using the with statement\n",
    "with open(highlighted_sidney_path, 'w') as f:\n",
    "    f.write(html_sydney)\n",
    "\n",
    "# Generate a download link for the file\n",
    "download_file(highlighted_sidney_path)"
   ]
  },
  {
   "cell_type": "code",
   "execution_count": 42,
   "metadata": {},
   "outputs": [],
   "source": [
    "# Define the file path\n",
    "itinerary_path = os.path.join(base_path, 'data/itinerary.csv')"
   ]
  },
  {
   "cell_type": "code",
   "execution_count": 43,
   "metadata": {},
   "outputs": [
    {
     "name": "stdout",
     "output_type": "stream",
     "text": [
      "{'Arrival': 'July-01', 'Departure': 'July-08', 'City': 'New York', 'Country': 'USA'}\n",
      "{'Arrival': 'July-09', 'Departure': 'July-16', 'City': 'Rio de Janeiro', 'Country': 'Brazil'}\n",
      "{'Arrival': 'July-17', 'Departure': 'July-24', 'City': 'Cape Town', 'Country': 'South Africa'}\n",
      "{'Arrival': 'July-25', 'Departure': 'August-01', 'City': 'Istanbul', 'Country': 'Turkey'}\n",
      "{'Arrival': 'August-02', 'Departure': 'August-09', 'City': 'Paris', 'Country': 'France'}\n",
      "{'Arrival': 'August-10', 'Departure': 'August-17', 'City': 'Tokyo', 'Country': 'Japan'}\n",
      "{'Arrival': 'August-18', 'Departure': 'August-25', 'City': 'Sydney', 'Country': 'Australia'}\n"
     ]
    }
   ],
   "source": [
    "# Open and read the CSV file using the with statement\n",
    "with open(itinerary_path, 'r') as f:\n",
    "    csv_reader = csv.DictReader(f)\n",
    "    itinerary = []\n",
    "    for row in csv_reader:\n",
    "        print(row)\n",
    "        itinerary.append(row)"
   ]
  },
  {
   "cell_type": "code",
   "execution_count": 44,
   "metadata": {},
   "outputs": [
    {
     "name": "stdout",
     "output_type": "stream",
     "text": [
      "[{'Arrival': 'July-01', 'Departure': 'July-08', 'City': 'New York', 'Country': 'USA'}, {'Arrival': 'July-09', 'Departure': 'July-16', 'City': 'Rio de Janeiro', 'Country': 'Brazil'}, {'Arrival': 'July-17', 'Departure': 'July-24', 'City': 'Cape Town', 'Country': 'South Africa'}, {'Arrival': 'July-25', 'Departure': 'August-01', 'City': 'Istanbul', 'Country': 'Turkey'}, {'Arrival': 'August-02', 'Departure': 'August-09', 'City': 'Paris', 'Country': 'France'}, {'Arrival': 'August-10', 'Departure': 'August-17', 'City': 'Tokyo', 'Country': 'Japan'}, {'Arrival': 'August-18', 'Departure': 'August-25', 'City': 'Sydney', 'Country': 'Australia'}]\n"
     ]
    }
   ],
   "source": [
    "print(itinerary)"
   ]
  },
  {
   "cell_type": "code",
   "execution_count": 45,
   "metadata": {},
   "outputs": [
    {
     "data": {
      "text/plain": [
       "list"
      ]
     },
     "execution_count": 45,
     "metadata": {},
     "output_type": "execute_result"
    }
   ],
   "source": [
    "type(itinerary)"
   ]
  },
  {
   "cell_type": "code",
   "execution_count": 46,
   "metadata": {},
   "outputs": [
    {
     "name": "stdout",
     "output_type": "stream",
     "text": [
      "{'Arrival': 'July-01', 'Departure': 'July-08', 'City': 'New York', 'Country': 'USA'}\n"
     ]
    }
   ],
   "source": [
    "# Print item 0 \n",
    "print(itinerary[0])"
   ]
  },
  {
   "cell_type": "code",
   "execution_count": 47,
   "metadata": {},
   "outputs": [
    {
     "name": "stdout",
     "output_type": "stream",
     "text": [
      "USA\n"
     ]
    }
   ],
   "source": [
    "print(itinerary[0][\"Country\"])"
   ]
  },
  {
   "cell_type": "code",
   "execution_count": 48,
   "metadata": {},
   "outputs": [
    {
     "name": "stdout",
     "output_type": "stream",
     "text": [
      "{'Arrival': 'July-09', 'Departure': 'July-16', 'City': 'Rio de Janeiro', 'Country': 'Brazil'}\n",
      "Brazil\n"
     ]
    }
   ],
   "source": [
    "print(itinerary[1])\n",
    "print(itinerary[1][\"Country\"])"
   ]
  },
  {
   "cell_type": "code",
   "execution_count": 49,
   "metadata": {},
   "outputs": [
    {
     "data": {
      "text/html": [
       "<table border='1'><tr><th>Arrival</th><th>Departure</th><th>City</th><th>Country</th></tr><tr><td>July-01</td><td>July-08</td><td>New York</td><td>USA</td></tr><tr><td>July-09</td><td>July-16</td><td>Rio de Janeiro</td><td>Brazil</td></tr><tr><td>July-17</td><td>July-24</td><td>Cape Town</td><td>South Africa</td></tr><tr><td>July-25</td><td>August-01</td><td>Istanbul</td><td>Turkey</td></tr><tr><td>August-02</td><td>August-09</td><td>Paris</td><td>France</td></tr><tr><td>August-10</td><td>August-17</td><td>Tokyo</td><td>Japan</td></tr><tr><td>August-18</td><td>August-25</td><td>Sydney</td><td>Australia</td></tr></table>"
      ],
      "text/plain": [
       "<IPython.core.display.HTML object>"
      ]
     },
     "metadata": {},
     "output_type": "display_data"
    }
   ],
   "source": [
    "display_table(itinerary)"
   ]
  },
  {
   "cell_type": "code",
   "execution_count": 50,
   "metadata": {},
   "outputs": [],
   "source": [
    "# Create an empty list to store the filtered data\n",
    "filtered_data = []\n",
    "\n",
    "# Filter by country\n",
    "for trip_stop in itinerary:\n",
    "    # For example: get the destinations located in \"Japan\"\n",
    "    if trip_stop[\"Country\"] == \"Japan\":\n",
    "        filtered_data.append(trip_stop)"
   ]
  },
  {
   "cell_type": "code",
   "execution_count": 51,
   "metadata": {},
   "outputs": [
    {
     "data": {
      "text/html": [
       "<table border='1'><tr><th>Arrival</th><th>Departure</th><th>City</th><th>Country</th></tr><tr><td>August-10</td><td>August-17</td><td>Tokyo</td><td>Japan</td></tr></table>"
      ],
      "text/plain": [
       "<IPython.core.display.HTML object>"
      ]
     },
     "metadata": {},
     "output_type": "display_data"
    }
   ],
   "source": [
    "display_table(filtered_data)"
   ]
  },
  {
   "cell_type": "code",
   "execution_count": 52,
   "metadata": {},
   "outputs": [
    {
     "name": "stdout",
     "output_type": "stream",
     "text": [
      "{'Arrival': 'July-01', 'Departure': 'July-08', 'City': 'New York', 'Country': 'USA'}\n"
     ]
    }
   ],
   "source": [
    "# Select the first destination from the itinerary list (Hint: index=0)\n",
    "trip_stop = itinerary[0]\n",
    "print(trip_stop)"
   ]
  },
  {
   "cell_type": "code",
   "execution_count": 53,
   "metadata": {},
   "outputs": [],
   "source": [
    "city = trip_stop[\"City\"]\n",
    "country = trip_stop[\"Country\"]\n",
    "arrival = trip_stop[\"Arrival\"]\n",
    "departure = trip_stop[\"Departure\"]"
   ]
  },
  {
   "cell_type": "code",
   "execution_count": 54,
   "metadata": {},
   "outputs": [
    {
     "name": "stdout",
     "output_type": "stream",
     "text": [
      "I will visit New York, USA, from July-01 to July-08. \n",
      "Please create a detailed daily itinerary.\n"
     ]
    }
   ],
   "source": [
    "prompt = f\"\"\"I will visit {city}, {country}, from {arrival} to {departure}. \n",
    "Please create a detailed daily itinerary.\"\"\"\n",
    "\n",
    "print(prompt)"
   ]
  },
  {
   "cell_type": "code",
   "execution_count": 55,
   "metadata": {},
   "outputs": [
    {
     "data": {
      "text/markdown": [
       "Here's a suggested itinerary for your visit to New York City:\n",
       "\n",
       "**Day 1: Arrival and Times Square**\n",
       "- Arrive in New York City and check into your hotel.\n",
       "- Afternoon: Explore Times Square; see the bustling streets and lights.\n",
       "- Evening: Have dinner at a nearby restaurant (e.g., Carmine's or Junior's).\n",
       "\n",
       "**Day 2: Statue of Liberty and Ellis Island**\n",
       "- Morning: Take a ferry from Battery Park to the Statue of Liberty. Visit the museum and climb to the pedestal.\n",
       "- Afternoon: Continue to Ellis Island. Explore the Immigration Museum.\n",
       "- Evening: Dinner in Lower Manhattan.\n",
       "\n",
       "**Day 3: Central Park and Museums**\n",
       "- Morning: Wander through Central Park. See landmarks like Bethesda Terrace and Bow Bridge.\n",
       "- Afternoon: Visit the Metropolitan Museum of Art or the American Museum of Natural History.\n",
       "- Evening: Catch a Broadway show. Book tickets in advance.\n",
       "\n",
       "**Day 4: Financial District and Brooklyn**\n",
       "- Morning: Visit Wall Street and the New York Stock Exchange. Explore the 9/11 Memorial & Museum.\n",
       "- Afternoon: Walk across the Brooklyn Bridge. Explore DUMBO and Brooklyn Heights.\n",
       "- Evening: Dinner with a view at The River Café.\n",
       "\n",
       "**Day 5: Cultural Exploration**\n",
       "- Morning: Visit the Museum of Modern Art (MoMA).\n",
       "- Afternoon: Explore Fifth Avenue, including Saint Patrick's Cathedral and Rockefeller Center.\n",
       "- Evening: Ice skate at Rockefeller Plaza (seasonal) or Top of the Rock observation deck.\n",
       "\n",
       "**Day 6: High Line and Hudson Yards**\n",
       "- Morning: Walk the High Line — a park built on a historic freight rail line.\n",
       "- Afternoon: Explore Hudson Yards and see The Vessel.\n",
       "- Evening: Visit Chelsea Market for dinner and then live music or comedy in the area.\n",
       "\n",
       "**Day 7: Day Trip**\n",
       "- Option 1: Day trip to the Hamptons for beaches and quaint towns.\n",
       "- Option 2: Day trip to Cold Spring or Beacon for hiking and art galleries.\n",
       "- Evening: Return to NYC and relax.\n",
       "\n",
       "**Day 8: Departure**\n",
       "- Last-minute shopping or a neighborhood walk (e.g., Greenwich Village or SoHo).\n",
       "- Head to the airport for departure.\n",
       "\n",
       "Customize based on your interests. Enjoy your trip!"
      ],
      "text/plain": [
       "<IPython.core.display.Markdown object>"
      ]
     },
     "metadata": {},
     "output_type": "display_data"
    }
   ],
   "source": [
    "# Store the LLM response\n",
    "response = get_llm_response(prompt)\n",
    "\n",
    "# Print in Markdown format\n",
    "display(Markdown(response))"
   ]
  },
  {
   "cell_type": "code",
   "execution_count": 56,
   "metadata": {},
   "outputs": [
    {
     "name": "stdout",
     "output_type": "stream",
     "text": [
      " The city is: Rio de Janeiro\n",
      " The country is: Brazil\n",
      " The arrival date is: {arrival}\n",
      " The departure date is: {departure}\n"
     ]
    }
   ],
   "source": [
    "trip_stop = itinerary[1]\n",
    "\n",
    "city = trip_stop[\"City\"]\n",
    "country = trip_stop[\"Country\"]\n",
    "arrival = trip_stop[\"Arrival\"]\n",
    "departure = trip_stop[\"Departure\"]\n",
    "\n",
    "print(f\" The city is: {city}\")\n",
    "print(f\" The country is: {country}\")\n",
    "print(\" The arrival date is: {arrival}\")\n",
    "print(\" The departure date is: {departure}\")"
   ]
  },
  {
   "cell_type": "code",
   "execution_count": 57,
   "metadata": {},
   "outputs": [
    {
     "name": "stdout",
     "output_type": "stream",
     "text": [
      "****************************************************************************************************\n",
      "Here's a suggested itinerary for your trip to Rio de Janeiro:\n",
      "\n",
      "**Day 1: Arrival and Copacabana**\n",
      "- **Morning:** Arrive in Rio and check into your hotel.\n",
      "- **Afternoon:** Stroll along Copacabana Beach, relax, and enjoy the views.\n",
      "- **Evening:** Dinner at a local restaurant like Marius Degustare.\n",
      "\n",
      "**Day 2: Christ the Redeemer and Santa Teresa**\n",
      "- **Morning:** Visit Christ the Redeemer. Take the train from Corcovado.\n",
      "- **Afternoon:** Explore the Santa Teresa neighborhood, visit Parque das Ruínas.\n",
      "- **Evening:** Dinner in Santa Teresa, try Aprazível for a scenic view.\n",
      "\n",
      "**Day 3: Sugarloaf Mountain and Botafogo**\n",
      "- **Morning:** Take the cable car to Sugarloaf Mountain for panoramic views.\n",
      "- **Afternoon:** Explore Botafogo, visit the Museum of the Republic.\n",
      "- **Evening:** Dinner at Fogo de Chão for a Brazilian steakhouse experience.\n",
      "\n",
      "**Day 4: Ipanema and Leblon**\n",
      "- **Morning:** Relax at Ipanema Beach, visit the Hippie Fair if it's Sunday.\n",
      "- **Afternoon:** Walk to Leblon, enjoy the shops and cafes.\n",
      "- **Evening:** Sunset at Arpoador Rock, dinner at Zazá Bistrô Tropical.\n",
      "\n",
      "**Day 5: Tijuca National Park**\n",
      "- **Morning:** Hike in Tijuca National Park, visit the Cascatinha Waterfall.\n",
      "- **Afternoon:** Continue exploring the park, see the Vista Chinesa.\n",
      "- **Evening:** Return to the city, dinner at a local churrascaria.\n",
      "\n",
      "**Day 6: Lapa and Downtown Rio**\n",
      "- **Morning:** Visit the Selarón Steps and Lapa Arches.\n",
      "- **Afternoon:** Explore downtown, see the Metropolitan Cathedral and Theatro Municipal.\n",
      "- **Evening:** Experience Rio's nightlife in Lapa, try Rio Scenarium.\n",
      "\n",
      "**Day 7: Niterói and Contemporary Art**\n",
      "- **Morning:** Take a ferry to Niterói, visit the Museum of Contemporary Art.\n",
      "- **Afternoon:** Explore Niterói beaches or return to Rio for more sightseeing.\n",
      "- **Evening:** Dinner at a seafood restaurant like Satyricon.\n",
      "\n",
      "**Day 8: Departure**\n",
      "- **Morning:** Last-minute shopping or beach time.\n",
      "- **Afternoon:** Check out and head to the airport for departure.\n",
      "\n",
      "Enjoy your trip!\n",
      "****************************************************************************************************\n",
      "\n",
      "\n"
     ]
    }
   ],
   "source": [
    "prompt = f\"\"\"I will visit {city}, {country}, from {arrival} to {departure}. \n",
    "Please create a detailed daily itinerary.\"\"\"\n",
    "\n",
    "print_llm_response(prompt)"
   ]
  },
  {
   "cell_type": "code",
   "execution_count": 58,
   "metadata": {},
   "outputs": [
    {
     "name": "stdout",
     "output_type": "stream",
     "text": [
      "****************************************************************************************************\n",
      "Here's a suggested itinerary for your trip to New York City:\n",
      "\n",
      "**Day 1: Arrival and Times Square**\n",
      "- **Morning:** Arrive in NYC and check into your hotel.\n",
      "- **Afternoon:** Explore Times Square. Visit the M&M's World and Disney Store.\n",
      "- **Evening:** Dinner at a nearby restaurant. Consider seeing a Broadway show.\n",
      "\n",
      "**Day 2: Statue of Liberty and Ellis Island**\n",
      "- **Morning:** Take the ferry from Battery Park to the Statue of Liberty and Ellis Island.\n",
      "- **Afternoon:** Lunch in the Financial District. Visit the 9/11 Memorial and Museum.\n",
      "- **Evening:** Walk across the Brooklyn Bridge. Dinner in Brooklyn Heights.\n",
      "\n",
      "**Day 3: Central Park and Museums**\n",
      "- **Morning:** Stroll through Central Park. Visit Bethesda Terrace and Bow Bridge.\n",
      "- **Afternoon:** Explore the American Museum of Natural History or the Metropolitan Museum of Art.\n",
      "- **Evening:** Dinner on the Upper West Side. Consider a concert at Lincoln Center.\n",
      "\n",
      "**Day 4: Midtown and Observation Decks**\n",
      "- **Morning:** Visit Rockefeller Center and Top of the Rock Observation Deck.\n",
      "- **Afternoon:** Explore Fifth Avenue. Visit St. Patrick's Cathedral and the New York Public Library.\n",
      "- **Evening:** Dinner in Koreatown. Visit the Empire State Building Observation Deck.\n",
      "\n",
      "**Day 5: Lower Manhattan and SoHo**\n",
      "- **Morning:** Explore Wall Street and the Charging Bull. Visit Trinity Church.\n",
      "- **Afternoon:** Lunch in SoHo. Shop and explore art galleries.\n",
      "- **Evening:** Dinner in Little Italy or Chinatown.\n",
      "\n",
      "**Day 6: The High Line and Chelsea**\n",
      "- **Morning:** Walk the High Line. Visit Chelsea Market for lunch.\n",
      "- **Afternoon:** Explore the Whitney Museum of American Art.\n",
      "- **Evening:** Dinner in the Meatpacking District. Consider a rooftop bar.\n",
      "\n",
      "**Day 7: Harlem and Upper Manhattan**\n",
      "- **Morning:** Visit the Apollo Theater and explore Harlem.\n",
      "- **Afternoon:** Lunch at a soul food restaurant. Visit the Cathedral of St. John the Divine.\n",
      "- **Evening:** Dinner in the Upper East Side. Explore the Museum Mile if time permits.\n",
      "\n",
      "**Day 8: Departure**\n",
      "- **Morning:** Last-minute shopping or visit a local café.\n",
      "- **Afternoon:** Check out of your hotel and head to the airport.\n",
      "\n",
      "Adjust based on your interests and pace. Enjoy your trip!\n",
      "****************************************************************************************************\n",
      "\n",
      "\n",
      "****************************************************************************************************\n",
      "Here's a suggested itinerary for your trip to Rio de Janeiro:\n",
      "\n",
      "**Day 1: Arrival and Copacabana**\n",
      "- **Morning:** Arrive in Rio and check into your hotel.\n",
      "- **Afternoon:** Explore Copacabana Beach. Relax, swim, or enjoy a beachside café.\n",
      "- **Evening:** Dinner at a local restaurant like Marius Degustare.\n",
      "\n",
      "**Day 2: Christ the Redeemer and Santa Teresa**\n",
      "- **Morning:** Visit Christ the Redeemer. Take the train from Corcovado.\n",
      "- **Afternoon:** Explore the Santa Teresa neighborhood. Visit Parque das Ruínas and Selarón Steps.\n",
      "- **Evening:** Dinner in Santa Teresa at Aprazível.\n",
      "\n",
      "**Day 3: Sugarloaf Mountain and Botafogo**\n",
      "- **Morning:** Take the cable car to Sugarloaf Mountain for panoramic views.\n",
      "- **Afternoon:** Explore Botafogo Beach and visit the Museum of Tomorrow.\n",
      "- **Evening:** Dinner at Fogo de Chão Botafogo.\n",
      "\n",
      "**Day 4: Tijuca National Park**\n",
      "- **Morning:** Hike in Tijuca National Park. Visit the Cascatinha Waterfall.\n",
      "- **Afternoon:** Continue exploring the park or relax at a nearby café.\n",
      "- **Evening:** Return to the city for dinner at a local churrascaria.\n",
      "\n",
      "**Day 5: Ipanema and Leblon**\n",
      "- **Morning:** Relax at Ipanema Beach. Visit the Hippie Fair if it's Sunday.\n",
      "- **Afternoon:** Walk to Leblon Beach. Enjoy shopping at Rio Design Leblon.\n",
      "- **Evening:** Sunset at Arpoador Rock. Dinner at Zazá Bistrô Tropical.\n",
      "\n",
      "**Day 6: Lapa and Downtown Rio**\n",
      "- **Morning:** Visit the Metropolitan Cathedral and explore downtown.\n",
      "- **Afternoon:** Explore Lapa. Visit the Selarón Steps and the Lapa Arches.\n",
      "- **Evening:** Experience Rio's nightlife in Lapa. Try Rio Scenarium.\n",
      "\n",
      "**Day 7: Niterói and Contemporary Art**\n",
      "- **Morning:** Take a ferry to Niterói. Visit the Niterói Contemporary Art Museum.\n",
      "- **Afternoon:** Explore the beaches of Niterói, like Itacoatiara.\n",
      "- **Evening:** Return to Rio for dinner at a seafood restaurant.\n",
      "\n",
      "**Day 8: Departure**\n",
      "- **Morning:** Last-minute shopping or beach time.\n",
      "- **Afternoon:** Check out and head to the airport for departure.\n",
      "\n",
      "Enjoy your trip!\n",
      "****************************************************************************************************\n",
      "\n",
      "\n",
      "****************************************************************************************************\n",
      "Here's a suggested itinerary for your trip to Cape Town:\n",
      "\n",
      "**Day 1: July 17 (Arrival and Exploration)**\n",
      "- **Morning:** Arrive in Cape Town. Check into your accommodation.\n",
      "- **Afternoon:** Explore the V&A Waterfront. Visit the Two Oceans Aquarium.\n",
      "- **Evening:** Dinner at a waterfront restaurant. Consider Baia or Karibu.\n",
      "\n",
      "**Day 2: July 18 (Table Mountain and City Tour)**\n",
      "- **Morning:** Take the cable car up Table Mountain. Enjoy panoramic views.\n",
      "- **Afternoon:** Explore the Company's Garden, South African Museum, and Iziko Slave Lodge.\n",
      "- **Evening:** Dinner on Long Street. Try Mama Africa for local cuisine.\n",
      "\n",
      "**Day 3: July 19 (Cape Peninsula Tour)**\n",
      "- **Full Day:** Drive along the Cape Peninsula. Visit Hout Bay, Chapman's Peak, Cape Point, and Boulders Beach to see the penguins.\n",
      "- **Evening:** Return to Cape Town. Dinner at a local seafood restaurant.\n",
      "\n",
      "**Day 4: July 20 (Robben Island and Bo-Kaap)**\n",
      "- **Morning:** Ferry to Robben Island. Tour the historic site.\n",
      "- **Afternoon:** Explore Bo-Kaap. Visit the Bo-Kaap Museum and enjoy the colorful houses.\n",
      "- **Evening:** Dinner at Gold Restaurant for an African dining experience.\n",
      "\n",
      "**Day 5: July 21 (Winelands Tour)**\n",
      "- **Full Day:** Visit Stellenbosch, Franschhoek, and Paarl. Enjoy wine tastings and vineyard tours.\n",
      "- **Evening:** Return to Cape Town. Relax with a casual dinner.\n",
      "\n",
      "**Day 6: July 22 (Kirstenbosch and Constantia)**\n",
      "- **Morning:** Visit Kirstenbosch National Botanical Garden.\n",
      "- **Afternoon:** Explore the Constantia Wine Route. Visit Groot Constantia.\n",
      "- **Evening:** Dinner at a vineyard restaurant.\n",
      "\n",
      "**Day 7: July 23 (Beach and Relaxation)**\n",
      "- **Morning:** Visit Camps Bay or Clifton Beach. Relax and enjoy the scenery.\n",
      "- **Afternoon:** Explore Sea Point Promenade. Visit the Green Point Urban Park.\n",
      "- **Evening:** Sunset dinner at a beachside restaurant.\n",
      "\n",
      "**Day 8: July 24 (Departure)**\n",
      "- **Morning:** Last-minute shopping or visit a local market.\n",
      "- **Afternoon:** Check out and head to the airport for departure.\n",
      "\n",
      "Adjust activities based on your interests and weather conditions. Enjoy your trip!\n",
      "****************************************************************************************************\n",
      "\n",
      "\n",
      "****************************************************************************************************\n",
      "Here's a suggested itinerary for your trip to Istanbul:\n",
      "\n",
      "**Day 1: July 25 (Arrival and Sultanahmet)**\n",
      "- **Morning:** Arrive in Istanbul and check into your hotel.\n",
      "- **Afternoon:** Visit the Hagia Sophia and the Blue Mosque.\n",
      "- **Evening:** Explore the Basilica Cistern and have dinner at a local restaurant in Sultanahmet.\n",
      "\n",
      "**Day 2: July 26 (Topkapi Palace and Grand Bazaar)**\n",
      "- **Morning:** Tour Topkapi Palace and its museum.\n",
      "- **Afternoon:** Visit the Grand Bazaar for shopping and lunch.\n",
      "- **Evening:** Stroll through the Spice Bazaar and enjoy dinner nearby.\n",
      "\n",
      "**Day 3: July 27 (Bosphorus Cruise and Taksim Square)**\n",
      "- **Morning:** Take a Bosphorus cruise to see the city from the water.\n",
      "- **Afternoon:** Explore Dolmabahçe Palace.\n",
      "- **Evening:** Head to Taksim Square and Istiklal Street for shopping and dinner.\n",
      "\n",
      "**Day 4: July 28 (Asian Side and Kadikoy)**\n",
      "- **Morning:** Cross to the Asian side and visit Üsküdar.\n",
      "- **Afternoon:** Explore Kadikoy, including the local markets.\n",
      "- **Evening:** Dine at a restaurant with views of the Bosphorus.\n",
      "\n",
      "**Day 5: July 29 (Chora Church and Balat)**\n",
      "- **Morning:** Visit the Chora Church (Kariye Museum).\n",
      "- **Afternoon:** Explore the colorful streets of Balat and Fener.\n",
      "- **Evening:** Enjoy a traditional Turkish dinner in the area.\n",
      "\n",
      "**Day 6: July 30 (Princes' Islands)**\n",
      "- **All Day:** Take a ferry to Büyükada, the largest of the Princes' Islands. Rent a bike or take a horse-drawn carriage to explore.\n",
      "- **Evening:** Return to Istanbul and have dinner at a seafood restaurant.\n",
      "\n",
      "**Day 7: July 31 (Modern Istanbul and Galata)**\n",
      "- **Morning:** Visit Istanbul Modern or the Pera Museum.\n",
      "- **Afternoon:** Explore the Galata Tower and surrounding area.\n",
      "- **Evening:** Enjoy a farewell dinner with a view of the city skyline.\n",
      "\n",
      "**Day 8: August 1 (Departure)**\n",
      "- **Morning:** Last-minute shopping or a leisurely breakfast.\n",
      "- **Afternoon:** Check out and head to the airport for departure.\n",
      "\n",
      "Adjust the itinerary based on your interests and pace. Enjoy your trip!\n",
      "****************************************************************************************************\n",
      "\n",
      "\n",
      "****************************************************************************************************\n",
      "Here's a suggested itinerary for your trip to Paris:\n",
      "\n",
      "**Day 1: Arrival and Exploration**\n",
      "- **Morning:** Arrive in Paris, check into your hotel.\n",
      "- **Afternoon:** Stroll along the Seine River, visit Notre-Dame Cathedral.\n",
      "- **Evening:** Dinner in the Latin Quarter.\n",
      "\n",
      "**Day 2: Iconic Landmarks**\n",
      "- **Morning:** Visit the Eiffel Tower, book tickets in advance.\n",
      "- **Afternoon:** Explore Trocadéro Gardens and Champ de Mars.\n",
      "- **Evening:** Seine River cruise.\n",
      "\n",
      "**Day 3: Art and Culture**\n",
      "- **Morning:** Visit the Louvre Museum, focus on key exhibits.\n",
      "- **Afternoon:** Walk through the Tuileries Garden.\n",
      "- **Evening:** Dinner in Le Marais, explore its vibrant nightlife.\n",
      "\n",
      "**Day 4: Montmartre and Sacré-Cœur**\n",
      "- **Morning:** Explore Montmartre, visit Sacré-Cœur Basilica.\n",
      "- **Afternoon:** Discover local artists at Place du Tertre.\n",
      "- **Evening:** Enjoy a cabaret show at Moulin Rouge (book in advance).\n",
      "\n",
      "**Day 5: Versailles Day Trip**\n",
      "- **All Day:** Take a day trip to the Palace of Versailles, explore the gardens and estate.\n",
      "- **Evening:** Return to Paris, relax at a local café.\n",
      "\n",
      "**Day 6: Modern Paris**\n",
      "- **Morning:** Visit the Pompidou Center.\n",
      "- **Afternoon:** Explore the trendy Le Marais district.\n",
      "- **Evening:** Dinner at a rooftop restaurant with city views.\n",
      "\n",
      "**Day 7: Shopping and Leisure**\n",
      "- **Morning:** Shop along the Champs-Élysées.\n",
      "- **Afternoon:** Visit the Arc de Triomphe.\n",
      "- **Evening:** Relax at a wine bar in Saint-Germain-des-Prés.\n",
      "\n",
      "**Day 8: Departure**\n",
      "- **Morning:** Visit a local market for souvenirs.\n",
      "- **Afternoon:** Check out of your hotel, head to the airport.\n",
      "\n",
      "Adjust based on your interests and pace. Enjoy your trip!\n",
      "****************************************************************************************************\n",
      "\n",
      "\n",
      "****************************************************************************************************\n",
      "Here's a suggested itinerary for your trip to Tokyo:\n",
      "\n",
      "**Day 1: Arrival and Shinjuku**\n",
      "- **Morning:** Arrive in Tokyo, check into your hotel.\n",
      "- **Afternoon:** Explore Shinjuku Gyoen National Garden.\n",
      "- **Evening:** Visit the observation deck at Tokyo Metropolitan Government Building.\n",
      "- **Night:** Dinner and explore nightlife in Kabukicho.\n",
      "\n",
      "**Day 2: Shibuya and Harajuku**\n",
      "- **Morning:** Visit Meiji Shrine.\n",
      "- **Afternoon:** Explore Takeshita Street in Harajuku.\n",
      "- **Evening:** Cross the famous Shibuya Crossing and visit Hachiko Statue.\n",
      "- **Night:** Dinner in Shibuya, explore local shops.\n",
      "\n",
      "**Day 3: Asakusa and Akihabara**\n",
      "- **Morning:** Visit Senso-ji Temple in Asakusa.\n",
      "- **Afternoon:** Stroll through Nakamise Shopping Street.\n",
      "- **Evening:** Head to Akihabara for electronics and anime culture.\n",
      "- **Night:** Dinner at a themed café in Akihabara.\n",
      "\n",
      "**Day 4: Ueno and Yanaka**\n",
      "- **Morning:** Explore Ueno Park and Tokyo National Museum.\n",
      "- **Afternoon:** Walk through Ameyoko Market.\n",
      "- **Evening:** Visit Yanaka Ginza for a traditional shopping street experience.\n",
      "- **Night:** Dinner in Yanaka.\n",
      "\n",
      "**Day 5: Odaiba**\n",
      "- **Morning:** Head to Odaiba, visit teamLab Borderless.\n",
      "- **Afternoon:** Explore DiverCity Tokyo Plaza and see the Gundam statue.\n",
      "- **Evening:** Relax at Oedo Onsen Monogatari.\n",
      "- **Night:** Dinner with a view of Rainbow Bridge.\n",
      "\n",
      "**Day 6: Tokyo Disneyland or DisneySea**\n",
      "- **All Day:** Spend the day at Tokyo Disneyland or DisneySea.\n",
      "- **Night:** Return to Tokyo, dinner near your accommodation.\n",
      "\n",
      "**Day 7: Imperial Palace and Ginza**\n",
      "- **Morning:** Visit the Imperial Palace East Gardens.\n",
      "- **Afternoon:** Explore the upscale shopping district of Ginza.\n",
      "- **Evening:** Visit the Sony Building or Ginza Six.\n",
      "- **Night:** Dinner at a high-end restaurant in Ginza.\n",
      "\n",
      "**Day 8: Departure**\n",
      "- **Morning:** Last-minute shopping or sightseeing.\n",
      "- **Afternoon:** Check out and head to the airport for departure.\n",
      "\n",
      "Adjust based on your interests and pace. Enjoy your trip!\n",
      "****************************************************************************************************\n",
      "\n",
      "\n",
      "****************************************************************************************************\n",
      "Here's a suggested itinerary for your trip to Sydney:\n",
      "\n",
      "**Day 1: Arrival and Circular Quay**\n",
      "- **Morning:** Arrive in Sydney. Check into your hotel.\n",
      "- **Afternoon:** Explore Circular Quay. Visit the Sydney Opera House and take a guided tour.\n",
      "- **Evening:** Dinner at a waterfront restaurant with views of the Sydney Harbour Bridge.\n",
      "\n",
      "**Day 2: The Rocks and Sydney Harbour Bridge**\n",
      "- **Morning:** Explore The Rocks, Sydney’s historic district. Visit the Museum of Contemporary Art.\n",
      "- **Afternoon:** Climb the Sydney Harbour Bridge with BridgeClimb for panoramic views.\n",
      "- **Evening:** Relax at a local pub in The Rocks.\n",
      "\n",
      "**Day 3: Taronga Zoo and Manly Beach**\n",
      "- **Morning:** Take a ferry to Taronga Zoo. Spend the morning exploring.\n",
      "- **Afternoon:** Ferry to Manly Beach. Enjoy the beach and local shops.\n",
      "- **Evening:** Dinner at a seaside restaurant in Manly.\n",
      "\n",
      "**Day 4: Bondi Beach and Coastal Walk**\n",
      "- **Morning:** Head to Bondi Beach. Relax or take a surfing lesson.\n",
      "- **Afternoon:** Walk the Bondi to Coogee coastal trail.\n",
      "- **Evening:** Return to Bondi for dinner at a beachside café.\n",
      "\n",
      "**Day 5: Blue Mountains Day Trip**\n",
      "- **All Day:** Take a day trip to the Blue Mountains. Visit Scenic World, see the Three Sisters, and explore the town of Katoomba.\n",
      "- **Evening:** Return to Sydney. Dinner at a local restaurant.\n",
      "\n",
      "**Day 6: Darling Harbour and Museums**\n",
      "- **Morning:** Visit the Australian National Maritime Museum and SEA LIFE Sydney Aquarium.\n",
      "- **Afternoon:** Explore Darling Harbour. Visit the Powerhouse Museum.\n",
      "- **Evening:** Enjoy dinner at Darling Harbour with views of the city lights.\n",
      "\n",
      "**Day 7: Royal Botanic Garden and Art Gallery**\n",
      "- **Morning:** Stroll through the Royal Botanic Garden. Visit Mrs Macquarie's Chair.\n",
      "- **Afternoon:** Explore the Art Gallery of New South Wales.\n",
      "- **Evening:** Farewell dinner at a fine dining restaurant in the city.\n",
      "\n",
      "**Day 8: Departure**\n",
      "- **Morning:** Last-minute shopping or a leisurely breakfast.\n",
      "- **Afternoon:** Check out and head to the airport for departure.\n",
      "\n",
      "Adjust the itinerary based on your interests and preferences. Enjoy your trip!\n",
      "****************************************************************************************************\n",
      "\n",
      "\n"
     ]
    }
   ],
   "source": [
    "# Plan the itinerary for all the destinations:\n",
    "for trip_stop in itinerary:\n",
    "\n",
    "    city = trip_stop[\"City\"]\n",
    "    country = trip_stop[\"Country\"]\n",
    "    arrival = trip_stop[\"Arrival\"]\n",
    "    departure = trip_stop[\"Departure\"]\n",
    "\n",
    "    prompt = f\"\"\"I will visit {city}, {country}, from {arrival} to {departure}. \n",
    "Please create a detailed daily itinerary.\"\"\"\n",
    "\n",
    "    print_llm_response(prompt)\n",
    "    "
   ]
  }
 ],
 "metadata": {
  "kernelspec": {
   "display_name": "Python 3",
   "language": "python",
   "name": "python3"
  },
  "language_info": {
   "codemirror_mode": {
    "name": "ipython",
    "version": 3
   },
   "file_extension": ".py",
   "mimetype": "text/x-python",
   "name": "python",
   "nbconvert_exporter": "python",
   "pygments_lexer": "ipython3",
   "version": "3.12.6"
  }
 },
 "nbformat": 4,
 "nbformat_minor": 2
}
