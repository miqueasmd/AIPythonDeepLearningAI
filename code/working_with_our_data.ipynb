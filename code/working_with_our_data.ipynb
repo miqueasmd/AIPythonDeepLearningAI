{
 "cells": [
  {
   "cell_type": "code",
   "execution_count": 1,
   "metadata": {},
   "outputs": [],
   "source": [
    "from helper_functions import *\n",
    "from IPython.display import display, Markdown, HTML\n",
    "from dotenv import load_dotenv\n",
    "import os"
   ]
  },
  {
   "cell_type": "code",
   "execution_count": 2,
   "metadata": {},
   "outputs": [],
   "source": [
    "# Load environment variables from .env file\n",
    "load_dotenv()\n",
    "\n",
    "# Get the base path from environment variables\n",
    "base_path = os.getenv('BASE_PATH')"
   ]
  },
  {
   "cell_type": "code",
   "execution_count": 3,
   "metadata": {},
   "outputs": [
    {
     "name": "stdout",
     "output_type": "stream",
     "text": [
      "**Chicken and Broccoli Stir-Fry with Rice**\n",
      "\n",
      "**Ingredients:**\n",
      "- 1 lb chicken breast, diced\n",
      "- 2 cups broccoli florets\n",
      "- 1 cup uncooked rice\n",
      "- 2 tablespoons soy sauce\n",
      "- 1 tablespoon olive oil\n",
      "- 2 cloves garlic, minced\n",
      "- Salt and pepper to taste\n",
      "\n",
      "**Instructions:**\n",
      "1. Cook rice according to package instructions.\n",
      "2. Heat olive oil in a large skillet over medium heat. Add garlic and sauté until fragrant.\n",
      "3. Add diced chicken to the skillet, season with salt and pepper, and cook until browned and cooked through.\n",
      "4. Add broccoli florets, soy sauce, and a splash of water. Cover and steam for 3-4 minutes until broccoli is tender.\n",
      "5. Serve chicken and broccoli over cooked rice. Enjoy!\n"
     ]
    }
   ],
   "source": [
    "# Write a list of ingredients\n",
    "ingredients = ['chicken', 'broccoli', 'rice']\n",
    "\n",
    "# Write the prompt\n",
    "prompt = f\"\"\"\n",
    "    Create a short recipe that uses the following ingredients:\n",
    "    {ingredients}\n",
    "\"\"\"\n",
    "\n",
    "# Get the response from the LLM\n",
    "response = get_llm_response(prompt)\n",
    "\n",
    "# Print the LLM response\n",
    "print(response)"
   ]
  },
  {
   "cell_type": "code",
   "execution_count": 4,
   "metadata": {},
   "outputs": [],
   "source": [
    "# Construct the full path to the file\n",
    "file_path = os.path.join(base_path, 'data/cape_town.txt')\n",
    "\n",
    "with open(file_path, 'r') as f:\n",
    "    cape = f.read()"
   ]
  },
  {
   "cell_type": "code",
   "execution_count": 5,
   "metadata": {},
   "outputs": [
    {
     "name": "stdout",
     "output_type": "stream",
     "text": [
      "Embarking on a gastronomic journey through Cape Town revealed a city brimming with culinary treasures. Each stop was a testament to the rich flavors and unique dishes that define this vibrant city's food scene.\n",
      "\n",
      "My first destination was The Test Kitchen, a restaurant that has earned its place among the world's best. Situated in the trendy Woodstock area, this dining spot is celebrated for its innovative dishes. I was particularly taken by their signature dish, the \"Pickled Fish Tacos.\" The tangy, flavorful fish wrapped in a soft taco, paired with a zesty salsa, was a delightful start to my culinary adventure. The industrial-chic ambiance added a modern edge to the dining experience.\n",
      "\n",
      "Next, I made my way to La Colombe, perched on the slopes of Constantia. Known for its refined and artistic approach to cuisine, La Colombe's \"Tuna La Colombe\" is a must-try. This dish features perfectly seared tuna, complemented by a delicate ponzu dressing and bursts of citrus. The presentation was as exquisite as the flavors, making it a memorable highlight of the day.\n",
      "\n",
      "For a taste of traditional South African fare, I headed to Gold Restaurant. Located in Green Point, this vibrant eatery offers a culinary tour of the continent. The \"Bobotie,\" a classic Cape Malay dish, stood out with its spiced minced meat topped with a savory custard. The rich, aromatic flavors, combined with the lively African drumming and dance performances, created an immersive cultural experience.\n",
      "\n",
      "At the bustling V&A Waterfront, I visited Harbour House for some of the freshest seafood in town. The \"Grilled Kingklip\" was a revelation. The succulent, flaky fish, grilled to perfection and served with a side of roasted vegetables, highlighted the ocean's bounty. The stunning views of the harbor added to the meal's appeal.\n",
      "\n",
      "Finally, my journey concluded at The Pot Luck Club, another gem in Woodstock. This trendy spot is known for its small plates, perfect for sharing. The standout dish was the \"Beef Tataki.\" Thinly sliced, seared beef with a tangy soy dressing and a hint of wasabi provided a burst of umami and heat. The eclectic, artistic vibe of the restaurant made for a fitting end to my culinary tour.\n"
     ]
    }
   ],
   "source": [
    "print(cape)"
   ]
  },
  {
   "cell_type": "code",
   "execution_count": 6,
   "metadata": {},
   "outputs": [
    {
     "name": "stdout",
     "output_type": "stream",
     "text": [
      "Extract bullet points from the following journal.  \n",
      "\n",
      "Journal:\n",
      "Embarking on a gastronomic journey through Cape Town revealed a city brimming with culinary treasures. Each stop was a testament to the rich flavors and unique dishes that define this vibrant city's food scene.\n",
      "\n",
      "My first destination was The Test Kitchen, a restaurant that has earned its place among the world's best. Situated in the trendy Woodstock area, this dining spot is celebrated for its innovative dishes. I was particularly taken by their signature dish, the \"Pickled Fish Tacos.\" The tangy, flavorful fish wrapped in a soft taco, paired with a zesty salsa, was a delightful start to my culinary adventure. The industrial-chic ambiance added a modern edge to the dining experience.\n",
      "\n",
      "Next, I made my way to La Colombe, perched on the slopes of Constantia. Known for its refined and artistic approach to cuisine, La Colombe's \"Tuna La Colombe\" is a must-try. This dish features perfectly seared tuna, complemented by a delicate ponzu dressing and bursts of citrus. The presentation was as exquisite as the flavors, making it a memorable highlight of the day.\n",
      "\n",
      "For a taste of traditional South African fare, I headed to Gold Restaurant. Located in Green Point, this vibrant eatery offers a culinary tour of the continent. The \"Bobotie,\" a classic Cape Malay dish, stood out with its spiced minced meat topped with a savory custard. The rich, aromatic flavors, combined with the lively African drumming and dance performances, created an immersive cultural experience.\n",
      "\n",
      "At the bustling V&A Waterfront, I visited Harbour House for some of the freshest seafood in town. The \"Grilled Kingklip\" was a revelation. The succulent, flaky fish, grilled to perfection and served with a side of roasted vegetables, highlighted the ocean's bounty. The stunning views of the harbor added to the meal's appeal.\n",
      "\n",
      "Finally, my journey concluded at The Pot Luck Club, another gem in Woodstock. This trendy spot is known for its small plates, perfect for sharing. The standout dish was the \"Beef Tataki.\" Thinly sliced, seared beef with a tangy soy dressing and a hint of wasabi provided a burst of umami and heat. The eclectic, artistic vibe of the restaurant made for a fitting end to my culinary tour.\n"
     ]
    }
   ],
   "source": [
    "prompt = f\"\"\"Extract bullet points from the following journal.  \n",
    "\n",
    "Journal:\n",
    "{cape}\"\"\"\n",
    "\n",
    "print(prompt)"
   ]
  },
  {
   "cell_type": "code",
   "execution_count": 7,
   "metadata": {},
   "outputs": [
    {
     "name": "stdout",
     "output_type": "stream",
     "text": [
      "- Gastronomic journey through Cape Town highlighting diverse culinary experiences.\n",
      "- The Test Kitchen in Woodstock known for innovative dishes, especially \"Pickled Fish Tacos.\"\n",
      "- La Colombe in Constantia; notable dish: \"Tuna La Colombe\" with seared tuna and ponzu dressing.\n",
      "- Gold Restaurant in Green Point offers traditional South African cuisine; standout dish: \"Bobotie.\"\n",
      "- Harbour House at V&A Waterfront praised for \"Grilled Kingklip\" and stunning harbor views.\n",
      "- The Pot Luck Club in Woodstock; famed for small plates, particularly \"Beef Tataki.\"\n"
     ]
    }
   ],
   "source": [
    "bullet_points = get_llm_response(prompt)\n",
    "print(bullet_points)"
   ]
  },
  {
   "cell_type": "code",
   "execution_count": 8,
   "metadata": {},
   "outputs": [
    {
     "data": {
      "text/markdown": [
       "- Gastronomic journey through Cape Town highlighting diverse culinary experiences.\n",
       "- The Test Kitchen in Woodstock known for innovative dishes, especially \"Pickled Fish Tacos.\"\n",
       "- La Colombe in Constantia; notable dish: \"Tuna La Colombe\" with seared tuna and ponzu dressing.\n",
       "- Gold Restaurant in Green Point offers traditional South African cuisine; standout dish: \"Bobotie.\"\n",
       "- Harbour House at V&A Waterfront praised for \"Grilled Kingklip\" and stunning harbor views.\n",
       "- The Pot Luck Club in Woodstock; famed for small plates, particularly \"Beef Tataki.\""
      ],
      "text/plain": [
       "<IPython.core.display.Markdown object>"
      ]
     },
     "metadata": {},
     "output_type": "display_data"
    }
   ],
   "source": [
    "# Print in Markdown format\n",
    "display(Markdown(bullet_points))"
   ]
  },
  {
   "cell_type": "code",
   "execution_count": 9,
   "metadata": {},
   "outputs": [
    {
     "name": "stdout",
     "output_type": "stream",
     "text": [
      "The restaurants mentioned in the journal are:\n",
      "\n",
      "1. The Test Kitchen\n",
      "2. La Colombe\n",
      "3. Gold Restaurant\n",
      "4. Harbour House\n",
      "5. The Pot Luck Club\n"
     ]
    }
   ],
   "source": [
    "# Complete the code below to identify all of the restaurants mentioned \n",
    "# in the journal\n",
    "prompt = f\"\"\"find all the restaurantes mentioned in the journal\n",
    "\n",
    "Email:\n",
    "{cape}\n",
    "\"\"\"\n",
    "\n",
    "restaurants = get_llm_response(prompt)\n",
    "print(restaurants)"
   ]
  },
  {
   "cell_type": "code",
   "execution_count": 10,
   "metadata": {},
   "outputs": [
    {
     "name": "stdout",
     "output_type": "stream",
     "text": [
      "The activities mentioned in the journal include:\n",
      "\n",
      "1. Dining at The Test Kitchen and enjoying \"Pickled Fish Tacos.\"\n",
      "2. Dining at La Colombe and trying \"Tuna La Colombe.\"\n",
      "3. Visiting Gold Restaurant for a taste of traditional South African \"Bobotie.\"\n",
      "4. Dining at Harbour House and savoring \"Grilled Kingklip.\"\n",
      "5. Concluding the journey at The Pot Luck Club with \"Beef Tataki.\"\n"
     ]
    }
   ],
   "source": [
    "# Write code below to list all of the activities that are mentioned in the journal \n",
    "# You'll need to create a prompt and use either get_llm_response or print_llm_response\n",
    "# START YOUR CODE HERE\n",
    "\n",
    "prompt = f\"list all the activities mentioned Journal: {cape}\"\n",
    "print(get_llm_response(prompt))"
   ]
  },
  {
   "cell_type": "code",
   "execution_count": 11,
   "metadata": {},
   "outputs": [
    {
     "data": {
      "text/plain": [
       "['.git', 'code', 'data', 'readme.md', 'requirements.txt', '__pycache__']"
      ]
     },
     "execution_count": 11,
     "metadata": {},
     "output_type": "execute_result"
    }
   ],
   "source": [
    "list_files_in_directory(base_path)"
   ]
  },
  {
   "cell_type": "code",
   "execution_count": 12,
   "metadata": {},
   "outputs": [
    {
     "name": "stdout",
     "output_type": "stream",
     "text": [
      "Embarking on a gastronomic journey through Cape Town revealed a city brimming with culinary treasures. Each stop was a testament to the rich flavors and unique dishes that define this vibrant city's food scene.\n",
      "\n",
      "My first destination was The Test Kitchen, a restaurant that has earned its place among the world's best. Situated in the trendy Woodstock area, this dining spot is celebrated for its innovative dishes. I was particularly taken by their signature dish, the \"Pickled Fish Tacos.\" The tangy, flavorful fish wrapped in a soft taco, paired with a zesty salsa, was a delightful start to my culinary adventure. The industrial-chic ambiance added a modern edge to the dining experience.\n",
      "\n",
      "Next, I made my way to La Colombe, perched on the slopes of Constantia. Known for its refined and artistic approach to cuisine, La Colombe's \"Tuna La Colombe\" is a must-try. This dish features perfectly seared tuna, complemented by a delicate ponzu dressing and bursts of citrus. The presentation was as exquisite as the flavors, making it a memorable highlight of the day.\n",
      "\n",
      "For a taste of traditional South African fare, I headed to Gold Restaurant. Located in Green Point, this vibrant eatery offers a culinary tour of the continent. The \"Bobotie,\" a classic Cape Malay dish, stood out with its spiced minced meat topped with a savory custard. The rich, aromatic flavors, combined with the lively African drumming and dance performances, created an immersive cultural experience.\n",
      "\n",
      "At the bustling V&A Waterfront, I visited Harbour House for some of the freshest seafood in town. The \"Grilled Kingklip\" was a revelation. The succulent, flaky fish, grilled to perfection and served with a side of roasted vegetables, highlighted the ocean's bounty. The stunning views of the harbor added to the meal's appeal.\n",
      "\n",
      "Finally, my journey concluded at The Pot Luck Club, another gem in Woodstock. This trendy spot is known for its small plates, perfect for sharing. The standout dish was the \"Beef Tataki.\" Thinly sliced, seared beef with a tangy soy dressing and a hint of wasabi provided a burst of umami and heat. The eclectic, artistic vibe of the restaurant made for a fitting end to my culinary tour.\n"
     ]
    }
   ],
   "source": [
    "# Define the file path\n",
    "cape_path = os.path.join(base_path, 'data/cape_town.txt')\n",
    "\n",
    "# Upload the text file and get its content\n",
    "cape = upload_txt_file(cape_path)\n",
    "\n",
    "# Print the content of the file\n",
    "print(cape)"
   ]
  },
  {
   "cell_type": "code",
   "execution_count": 13,
   "metadata": {},
   "outputs": [],
   "source": [
    "prompt = f\"\"\"Summarize the content from the following text\n",
    "in at most two sentences. \n",
    "\n",
    "Text:\n",
    "{cape}\"\"\""
   ]
  },
  {
   "cell_type": "code",
   "execution_count": 14,
   "metadata": {},
   "outputs": [
    {
     "name": "stdout",
     "output_type": "stream",
     "text": [
      "Summarize the content from the following text\n",
      "in at most two sentences. \n",
      "\n",
      "Text:\n",
      "Embarking on a gastronomic journey through Cape Town revealed a city brimming with culinary treasures. Each stop was a testament to the rich flavors and unique dishes that define this vibrant city's food scene.\n",
      "\n",
      "My first destination was The Test Kitchen, a restaurant that has earned its place among the world's best. Situated in the trendy Woodstock area, this dining spot is celebrated for its innovative dishes. I was particularly taken by their signature dish, the \"Pickled Fish Tacos.\" The tangy, flavorful fish wrapped in a soft taco, paired with a zesty salsa, was a delightful start to my culinary adventure. The industrial-chic ambiance added a modern edge to the dining experience.\n",
      "\n",
      "Next, I made my way to La Colombe, perched on the slopes of Constantia. Known for its refined and artistic approach to cuisine, La Colombe's \"Tuna La Colombe\" is a must-try. This dish features perfectly seared tuna, complemented by a delicate ponzu dressing and bursts of citrus. The presentation was as exquisite as the flavors, making it a memorable highlight of the day.\n",
      "\n",
      "For a taste of traditional South African fare, I headed to Gold Restaurant. Located in Green Point, this vibrant eatery offers a culinary tour of the continent. The \"Bobotie,\" a classic Cape Malay dish, stood out with its spiced minced meat topped with a savory custard. The rich, aromatic flavors, combined with the lively African drumming and dance performances, created an immersive cultural experience.\n",
      "\n",
      "At the bustling V&A Waterfront, I visited Harbour House for some of the freshest seafood in town. The \"Grilled Kingklip\" was a revelation. The succulent, flaky fish, grilled to perfection and served with a side of roasted vegetables, highlighted the ocean's bounty. The stunning views of the harbor added to the meal's appeal.\n",
      "\n",
      "Finally, my journey concluded at The Pot Luck Club, another gem in Woodstock. This trendy spot is known for its small plates, perfect for sharing. The standout dish was the \"Beef Tataki.\" Thinly sliced, seared beef with a tangy soy dressing and a hint of wasabi provided a burst of umami and heat. The eclectic, artistic vibe of the restaurant made for a fitting end to my culinary tour.\n"
     ]
    }
   ],
   "source": [
    "print(prompt)"
   ]
  },
  {
   "cell_type": "code",
   "execution_count": 15,
   "metadata": {},
   "outputs": [
    {
     "name": "stdout",
     "output_type": "stream",
     "text": [
      "****************************************************************************************************\n",
      "The gastronomic journey through Cape Town highlighted the city's diverse culinary scene, featuring innovative dishes at The Test Kitchen and La Colombe, traditional South African fare at Gold Restaurant, fresh seafood at Harbour House, and eclectic small plates at The Pot Luck Club. Each venue offered unique flavors and experiences, from the tangy \"Pickled Fish Tacos\" to the savory \"Bobotie\" and the umami-rich \"Beef Tataki.\"\n",
      "****************************************************************************************************\n",
      "\n",
      "\n"
     ]
    }
   ],
   "source": [
    "print_llm_response(prompt)"
   ]
  },
  {
   "cell_type": "code",
   "execution_count": 16,
   "metadata": {},
   "outputs": [
    {
     "name": "stdout",
     "output_type": "stream",
     "text": [
      "****************************************************************************************************\n",
      "The text contains 384 words.\n",
      "****************************************************************************************************\n",
      "\n",
      "\n"
     ]
    }
   ],
   "source": [
    "# Modify the prompt below to ask the LLM a different question about \n",
    "# your data\n",
    "prompt = f\"\"\"How many words are in the text?. \n",
    "\n",
    "Text:\n",
    "{cape}\"\"\"\n",
    "\n",
    "print_llm_response(prompt)"
   ]
  },
  {
   "cell_type": "code",
   "execution_count": 17,
   "metadata": {},
   "outputs": [
    {
     "name": "stdout",
     "output_type": "stream",
     "text": [
      "Tokyo's culinary landscape is nothing short of extraordinary. Each spot offers a unique taste of the city's diverse food culture. Here's a quick guide to some must-try places and dishes.\n",
      "\n",
      "    Sukiyabashi Jiro\n",
      "        Location: Ginza\n",
      "        Dish: Omakase sushi\n",
      "        Highlight: Impeccably crafted sushi made by the legendary Jiro Ono. Each piece is a masterclass in balance and flavor.\n",
      "\n",
      "    Ichiran Ramen\n",
      "        Location: Shibuya\n",
      "        Dish: Tonkotsu ramen\n",
      "        Highlight: A personal ramen booth for focused, uninterrupted enjoyment. Rich, creamy broth with perfectly cooked noodles.\n",
      "\n",
      "    Tsukiji Outer Market\n",
      "        Location: Tsukiji\n",
      "        Dish: Fresh sashimi and street food\n",
      "        Highlight: Vibrant market atmosphere. Indulge in ultra-fresh sashimi, grilled seafood, and other Japanese street food delights.\n",
      "\n",
      "    Narisawa\n",
      "        Location: Minato\n",
      "        Dish: Innovative tasting menu\n",
      "        Highlight: A fusion of French and Japanese techniques. Creative dishes with an emphasis on sustainability and local ingredients.\n",
      "\n",
      "    Ginza Kojyu\n",
      "        Location: Ginza\n",
      "        Dish: Kaiseki (traditional multi-course meal)\n",
      "        Highlight: Exquisite presentation and meticulous preparation. A journey through seasonal Japanese flavors.\n",
      "\n",
      "    Akasaka Kikunoi\n",
      "        Location: Akasaka\n",
      "        Dish: Kaiseki\n",
      "        Highlight: Elegant and serene setting. Seasonal ingredients transformed into artful, delicious courses.\n"
     ]
    }
   ],
   "source": [
    "# Define the file path\n",
    "tokyo_path = os.path.join(base_path, 'data/journal_tokyo.txt')\n",
    "\n",
    "# Upload the text file and get its content\n",
    "tokyo = upload_txt_file(tokyo_path)\n",
    "\n",
    "# Print the content of the file\n",
    "print(tokyo)"
   ]
  },
  {
   "cell_type": "code",
   "execution_count": 18,
   "metadata": {},
   "outputs": [],
   "source": [
    "prompt = f\"\"\"Respond with \"Relevant\" or \"Not relevant\": \n",
    "the journal describes restaurants and their specialties. \n",
    "\n",
    "Journal:\n",
    "{tokyo}\"\"\""
   ]
  },
  {
   "cell_type": "code",
   "execution_count": 19,
   "metadata": {},
   "outputs": [
    {
     "name": "stdout",
     "output_type": "stream",
     "text": [
      "****************************************************************************************************\n",
      "Relevant\n",
      "****************************************************************************************************\n",
      "\n",
      "\n"
     ]
    }
   ],
   "source": [
    "print_llm_response(prompt)"
   ]
  },
  {
   "cell_type": "code",
   "execution_count": 20,
   "metadata": {},
   "outputs": [],
   "source": [
    "# List of the journal files\n",
    "files = [tokyo, cape]"
   ]
  },
  {
   "cell_type": "code",
   "execution_count": 21,
   "metadata": {},
   "outputs": [
    {
     "name": "stdout",
     "output_type": "stream",
     "text": [
      "Relevant\n",
      "Relevant\n"
     ]
    }
   ],
   "source": [
    "for file in files:\n",
    "   \n",
    "    # Create prompt\n",
    "    prompt = f\"\"\"Respond with \"Relevant\" or \"Not relevant\": \n",
    "    the journal describes restaurants and their specialties. \n",
    "\n",
    "    Journal:\n",
    "    {file}\"\"\"\n",
    "\n",
    "    # Use LLM to determine if the journal entry is useful\n",
    "    print(f\"{get_llm_response(prompt)}\")"
   ]
  },
  {
   "cell_type": "code",
   "execution_count": 22,
   "metadata": {},
   "outputs": [
    {
     "name": "stdout",
     "output_type": "stream",
     "text": [
      "Yes.\n",
      "Yes\n"
     ]
    }
   ],
   "source": [
    "for file in files:\n",
    "    # TRY CHANGING THIS PROMPT TO ASK DIFFERENT QUESTIONS\n",
    "    prompt = f\"\"\"Respond with \"Yes\" or \"No\": \n",
    "    the journal describes restaurants and food dishes. \n",
    "\n",
    "    Journal:\n",
    "    {file}\"\"\"\n",
    "\n",
    "    # Use LLM to determine if the journal entry is useful\n",
    "    print(f\"{get_llm_response(prompt)}\")"
   ]
  },
  {
   "cell_type": "code",
   "execution_count": 23,
   "metadata": {},
   "outputs": [
    {
     "name": "stdout",
     "output_type": "stream",
     "text": [
      "No.\n",
      "No.\n"
     ]
    }
   ],
   "source": [
    "for file in files:\n",
    "    # TRY CHANGING THIS PROMPT TO ASK DIFFERENT QUESTIONS\n",
    "    prompt = f\"\"\"Respond with \"Yes\" or \"No\": \n",
    "    the journal mentions a vegetarian dish. \n",
    "\n",
    "    Journal:\n",
    "    {file}\"\"\"\n",
    "\n",
    "    # Use LLM to determine if the journal entry is useful\n",
    "    print(f\"{get_llm_response(prompt)}\")"
   ]
  },
  {
   "cell_type": "code",
   "execution_count": 24,
   "metadata": {},
   "outputs": [],
   "source": [
    "# Define the file path\n",
    "rio_path = os.path.join(base_path, 'data/journal_rio.txt')"
   ]
  },
  {
   "cell_type": "code",
   "execution_count": 25,
   "metadata": {},
   "outputs": [],
   "source": [
    "rio = read_journal(rio_path)"
   ]
  },
  {
   "cell_type": "code",
   "execution_count": 26,
   "metadata": {},
   "outputs": [
    {
     "name": "stdout",
     "output_type": "stream",
     "text": [
      "First up was Confeitaria Colombo, a legendary and picturesque cafÃ© in central Rio. Known for its pastel de nata (custard tart), Colombo serves a delightful treat that is hard to beat. The crispy, flaky pastry filled with creamy, sweet custard was an excellent start to the day. The cafÃ©'s historic Belle Ã‰poque ambiance added an extra layer of charm.\n",
      "\n",
      "Next, I visited Fogo de ChÃ£o, a quintessential Brazilian steakhouse in Botafogo. Famous for its picanha (top sirloin), this churrascaria impressed with its perfectly grilled meat. The picanha was juicy, tender, and bursting with flavor, showcasing the high quality of Brazilian beef. The endless array of grilled meats served tableside made for a hearty and satisfying meal.\n",
      "\n",
      "For a more modern dining experience, I headed to Olympe in Lagoa. This Michelin-starred restaurant specializes in contemporary Brazilian cuisine. The highlight was their moqueca de caju (cashew nut stew). This rich and creamy stew, made from cashew nuts and complemented by fresh seafood and vegetables, was an exquisite dish in an elegant and refined setting.\n",
      "\n",
      "Finally, I concluded my culinary tour at AprazÃ­vel, renowned for its breathtaking views and farm-to-table approach. Their signature dish, galinhada (Brazilian chicken and rice), was outstanding. The tender and flavorful chicken, cooked with a mix of rice, vegetables, and spices, and served with farofa (toasted cassava flour), perfectly highlighted the fresh, locally sourced ingredients. The lush, garden-like setting of the restaurant provided a serene end to the culinary adventure.\n"
     ]
    }
   ],
   "source": [
    "print(rio)"
   ]
  },
  {
   "cell_type": "code",
   "execution_count": 27,
   "metadata": {},
   "outputs": [
    {
     "name": "stdout",
     "output_type": "stream",
     "text": [
      "\n",
      "Given the following journal entry from a food critic, identify the restaurants and their best dishes.\n",
      "Highlight and bold each restaurant (in orange) and best dish (in blue) within the original text. \n",
      "\n",
      "Provide the output as HTML suitable for display in a Jupyter notebook. \n",
      "\n",
      "Journal entry:\n",
      "First up was Confeitaria Colombo, a legendary and picturesque cafÃ© in central Rio. Known for its pastel de nata (custard tart), Colombo serves a delightful treat that is hard to beat. The crispy, flaky pastry filled with creamy, sweet custard was an excellent start to the day. The cafÃ©'s historic Belle Ã‰poque ambiance added an extra layer of charm.\n",
      "\n",
      "Next, I visited Fogo de ChÃ£o, a quintessential Brazilian steakhouse in Botafogo. Famous for its picanha (top sirloin), this churrascaria impressed with its perfectly grilled meat. The picanha was juicy, tender, and bursting with flavor, showcasing the high quality of Brazilian beef. The endless array of grilled meats served tableside made for a hearty and satisfying meal.\n",
      "\n",
      "For a more modern dining experience, I headed to Olympe in Lagoa. This Michelin-starred restaurant specializes in contemporary Brazilian cuisine. The highlight was their moqueca de caju (cashew nut stew). This rich and creamy stew, made from cashew nuts and complemented by fresh seafood and vegetables, was an exquisite dish in an elegant and refined setting.\n",
      "\n",
      "Finally, I concluded my culinary tour at AprazÃ­vel, renowned for its breathtaking views and farm-to-table approach. Their signature dish, galinhada (Brazilian chicken and rice), was outstanding. The tender and flavorful chicken, cooked with a mix of rice, vegetables, and spices, and served with farofa (toasted cassava flour), perfectly highlighted the fresh, locally sourced ingredients. The lush, garden-like setting of the restaurant provided a serene end to the culinary adventure.\n",
      "\n"
     ]
    }
   ],
   "source": [
    "prompt = f\"\"\"\n",
    "Given the following journal entry from a food critic, identify the restaurants and their best dishes.\n",
    "Highlight and bold each restaurant (in orange) and best dish (in blue) within the original text. \n",
    "\n",
    "Provide the output as HTML suitable for display in a Jupyter notebook. \n",
    "\n",
    "Journal entry:\n",
    "{rio}\n",
    "\"\"\"\n",
    "\n",
    "print(prompt)"
   ]
  },
  {
   "cell_type": "code",
   "execution_count": 28,
   "metadata": {},
   "outputs": [
    {
     "name": "stdout",
     "output_type": "stream",
     "text": [
      "```html\n",
      "<p>First up was <span style=\"color: orange; font-weight: bold;\">Confeitaria Colombo</span>, a legendary and picturesque café in central Rio. Known for its <span style=\"color: blue; font-weight: bold;\">pastel de nata</span> (custard tart), Colombo serves a delightful treat that is hard to beat. The crispy, flaky pastry filled with creamy, sweet custard was an excellent start to the day. The café's historic Belle Époque ambiance added an extra layer of charm.</p>\n",
      "\n",
      "<p>Next, I visited <span style=\"color: orange; font-weight: bold;\">Fogo de Chão</span>, a quintessential Brazilian steakhouse in Botafogo. Famous for its <span style=\"color: blue; font-weight: bold;\">picanha</span> (top sirloin), this churrascaria impressed with its perfectly grilled meat. The picanha was juicy, tender, and bursting with flavor, showcasing the high quality of Brazilian beef. The endless array of grilled meats served tableside made for a hearty and satisfying meal.</p>\n",
      "\n",
      "<p>For a more modern dining experience, I headed to <span style=\"color: orange; font-weight: bold;\">Olympe</span> in Lagoa. This Michelin-starred restaurant specializes in contemporary Brazilian cuisine. The highlight was their <span style=\"color: blue; font-weight: bold;\">moqueca de caju</span> (cashew nut stew). This rich and creamy stew, made from cashew nuts and complemented by fresh seafood and vegetables, was an exquisite dish in an elegant and refined setting.</p>\n",
      "\n",
      "<p>Finally, I concluded my culinary tour at <span style=\"color: orange; font-weight: bold;\">Aprazível</span>, renowned for its breathtaking views and farm-to-table approach. Their signature dish, <span style=\"color: blue; font-weight: bold;\">galinhada</span> (Brazilian chicken and rice), was outstanding. The tender and flavorful chicken, cooked with a mix of rice, vegetables, and spices, and served with farofa (toasted cassava flour), perfectly highlighted the fresh, locally sourced ingredients. The lush, garden-like setting of the restaurant provided a serene end to the culinary adventure.</p>\n",
      "```\n"
     ]
    }
   ],
   "source": [
    "html_response = get_llm_response(prompt)\n",
    "print(html_response)"
   ]
  },
  {
   "cell_type": "code",
   "execution_count": 29,
   "metadata": {},
   "outputs": [
    {
     "data": {
      "text/html": [
       "```html\n",
       "<p>First up was <span style=\"color: orange; font-weight: bold;\">Confeitaria Colombo</span>, a legendary and picturesque café in central Rio. Known for its <span style=\"color: blue; font-weight: bold;\">pastel de nata</span> (custard tart), Colombo serves a delightful treat that is hard to beat. The crispy, flaky pastry filled with creamy, sweet custard was an excellent start to the day. The café's historic Belle Époque ambiance added an extra layer of charm.</p>\n",
       "\n",
       "<p>Next, I visited <span style=\"color: orange; font-weight: bold;\">Fogo de Chão</span>, a quintessential Brazilian steakhouse in Botafogo. Famous for its <span style=\"color: blue; font-weight: bold;\">picanha</span> (top sirloin), this churrascaria impressed with its perfectly grilled meat. The picanha was juicy, tender, and bursting with flavor, showcasing the high quality of Brazilian beef. The endless array of grilled meats served tableside made for a hearty and satisfying meal.</p>\n",
       "\n",
       "<p>For a more modern dining experience, I headed to <span style=\"color: orange; font-weight: bold;\">Olympe</span> in Lagoa. This Michelin-starred restaurant specializes in contemporary Brazilian cuisine. The highlight was their <span style=\"color: blue; font-weight: bold;\">moqueca de caju</span> (cashew nut stew). This rich and creamy stew, made from cashew nuts and complemented by fresh seafood and vegetables, was an exquisite dish in an elegant and refined setting.</p>\n",
       "\n",
       "<p>Finally, I concluded my culinary tour at <span style=\"color: orange; font-weight: bold;\">Aprazível</span>, renowned for its breathtaking views and farm-to-table approach. Their signature dish, <span style=\"color: blue; font-weight: bold;\">galinhada</span> (Brazilian chicken and rice), was outstanding. The tender and flavorful chicken, cooked with a mix of rice, vegetables, and spices, and served with farofa (toasted cassava flour), perfectly highlighted the fresh, locally sourced ingredients. The lush, garden-like setting of the restaurant provided a serene end to the culinary adventure.</p>\n",
       "```"
      ],
      "text/plain": [
       "<IPython.core.display.HTML object>"
      ]
     },
     "metadata": {},
     "output_type": "display_data"
    }
   ],
   "source": [
    "display(HTML(html_response))"
   ]
  },
  {
   "cell_type": "code",
   "execution_count": 30,
   "metadata": {},
   "outputs": [
    {
     "data": {
      "text/html": [
       "```html\n",
       "<p><span style=\"color: orange; font-weight: bold;\">Sukiyabashi Jiro</span>\n",
       "    Location: Ginza\n",
       "    Dish: <span style=\"color: blue; font-weight: bold;\">Omakase sushi</span>\n",
       "    Highlight: Impeccably crafted sushi made by the legendary Jiro Ono. Each piece is a masterclass in balance and flavor.</p>\n",
       "\n",
       "<p><span style=\"color: orange; font-weight: bold;\">Ichiran Ramen</span>\n",
       "    Location: Shibuya\n",
       "    Dish: <span style=\"color: blue; font-weight: bold;\">Tonkotsu ramen</span>\n",
       "    Highlight: A personal ramen booth for focused, uninterrupted enjoyment. Rich, creamy broth with perfectly cooked noodles.</p>\n",
       "\n",
       "<p><span style=\"color: orange; font-weight: bold;\">Tsukiji Outer Market</span>\n",
       "    Location: Tsukiji\n",
       "    Dish: <span style=\"color: blue; font-weight: bold;\">Fresh sashimi and street food</span>\n",
       "    Highlight: Vibrant market atmosphere. Indulge in ultra-fresh sashimi, grilled seafood, and other Japanese street food delights.</p>\n",
       "\n",
       "<p><span style=\"color: orange; font-weight: bold;\">Narisawa</span>\n",
       "    Location: Minato\n",
       "    Dish: <span style=\"color: blue; font-weight: bold;\">Innovative tasting menu</span>\n",
       "    Highlight: A fusion of French and Japanese techniques. Creative dishes with an emphasis on sustainability and local ingredients.</p>\n",
       "\n",
       "<p><span style=\"color: orange; font-weight: bold;\">Ginza Kojyu</span>\n",
       "    Location: Ginza\n",
       "    Dish: <span style=\"color: blue; font-weight: bold;\">Kaiseki (traditional multi-course meal)</span>\n",
       "    Highlight: Exquisite presentation and meticulous preparation. A journey through seasonal Japanese flavors.</p>\n",
       "\n",
       "<p><span style=\"color: orange; font-weight: bold;\">Akasaka Kikunoi</span>\n",
       "    Location: Akasaka\n",
       "    Dish: <span style=\"color: blue; font-weight: bold;\">Kaiseki</span>\n",
       "    Highlight: Elegant and serene setting. Seasonal ingredients transformed into artful, delicious courses.</p>\n",
       "```"
      ],
      "text/plain": [
       "<IPython.core.display.HTML object>"
      ]
     },
     "metadata": {},
     "output_type": "display_data"
    }
   ],
   "source": [
    "prompt = f\"\"\"\n",
    "Given the following journal entry from a food critic, identify the restaurants and their best dishes.\n",
    "Highlight and bold each restaurant (in orange) and best dish (in blue) within the original text. \n",
    "\n",
    "Provide the output as HTML suitable for display in a Jupyter notebook. \n",
    "\n",
    "Journal entry:\n",
    "{tokyo}\n",
    "\"\"\"\n",
    "\n",
    "html_response = get_llm_response(prompt)\n",
    "display(HTML(html_response))"
   ]
  },
  {
   "cell_type": "code",
   "execution_count": 31,
   "metadata": {},
   "outputs": [],
   "source": [
    "files = [tokyo, cape, rio]"
   ]
  },
  {
   "cell_type": "code",
   "execution_count": 32,
   "metadata": {},
   "outputs": [
    {
     "data": {
      "text/markdown": [
       "# Tokyo\n",
       "\n",
       "Sukiyabashi Jiro  \n",
       "Location: Ginza  \n",
       "Dish: Omakase sushi  \n",
       "Highlight: Impeccably crafted sushi made by the legendary Jiro Ono. Each piece is a masterclass in balance and flavor.\n",
       "\n",
       "Ichiran Ramen  \n",
       "Location: Shibuya  \n",
       "Dish: Tonkotsu ramen 🍜  \n",
       "Highlight: A personal ramen booth for focused, uninterrupted enjoyment. Rich, creamy broth with perfectly cooked noodles.\n",
       "\n",
       "Tsukiji Outer Market  \n",
       "Location: Tsukiji  \n",
       "Dish: Fresh sashimi 🍣 and street food  \n",
       "Highlight: Vibrant market atmosphere. Indulge in ultra-fresh sashimi, grilled seafood 🍤, and other Japanese street food delights.\n",
       "\n",
       "Narisawa  \n",
       "Location: Minato  \n",
       "Dish: Innovative tasting menu  \n",
       "Highlight: A fusion of French and Japanese techniques. Creative dishes with an emphasis on sustainability and local ingredients.\n",
       "\n",
       "Ginza Kojyu  \n",
       "Location: Ginza  \n",
       "Dish: Kaiseki (traditional multi-course meal)  \n",
       "Highlight: Exquisite presentation and meticulous preparation. A journey through seasonal Japanese flavors.\n",
       "\n",
       "Akasaka Kikunoi  \n",
       "Location: Akasaka  \n",
       "Dish: Kaiseki  \n",
       "Highlight: Elegant and serene setting. Seasonal ingredients transformed into artful, delicious courses."
      ],
      "text/plain": [
       "<IPython.core.display.Markdown object>"
      ]
     },
     "metadata": {},
     "output_type": "display_data"
    },
    {
     "data": {
      "text/markdown": [
       "# Cape Town\n",
       "\n",
       "Embarking on a gastronomic journey through Cape Town revealed a city brimming with culinary treasures. Each stop was a testament to the rich flavors and unique dishes that define this vibrant city's food scene.\n",
       "\n",
       "My first destination was The Test Kitchen, a restaurant that has earned its place among the world's best. Situated in the trendy Woodstock area, this dining spot is celebrated for its innovative dishes. I was particularly taken by their signature dish, the \"Pickled Fish Tacos\" 🌮. The tangy, flavorful fish 🐟 wrapped in a soft taco, paired with a zesty salsa 🌶️, was a delightful start to my culinary adventure. The industrial-chic ambiance added a modern edge to the dining experience.\n",
       "\n",
       "Next, I made my way to La Colombe, perched on the slopes of Constantia. Known for its refined and artistic approach to cuisine, La Colombe's \"Tuna La Colombe\" is a must-try. This dish features perfectly seared tuna 🐟, complemented by a delicate ponzu dressing and bursts of citrus 🍋. The presentation was as exquisite as the flavors, making it a memorable highlight of the day.\n",
       "\n",
       "For a taste of traditional South African fare, I headed to Gold Restaurant. Located in Green Point, this vibrant eatery offers a culinary tour of the continent. The \"Bobotie,\" a classic Cape Malay dish, stood out with its spiced minced meat 🍖 topped with a savory custard 🍮. The rich, aromatic flavors, combined with the lively African drumming and dance performances, created an immersive cultural experience.\n",
       "\n",
       "At the bustling V&A Waterfront, I visited Harbour House for some of the freshest seafood in town. The \"Grilled Kingklip\" was a revelation. The succulent, flaky fish 🐟, grilled to perfection and served with a side of roasted vegetables 🥕, highlighted the ocean's bounty. The stunning views of the harbor added to the meal's appeal.\n",
       "\n",
       "Finally, my journey concluded at The Pot Luck Club, another gem in Woodstock. This trendy spot is known for its small plates, perfect for sharing. The standout dish was the \"Beef Tataki.\" Thinly sliced, seared beef 🥩 with a tangy soy dressing and a hint of wasabi provided a burst of umami and heat. The eclectic, artistic vibe of the restaurant made for a fitting end to my culinary tour."
      ],
      "text/plain": [
       "<IPython.core.display.Markdown object>"
      ]
     },
     "metadata": {},
     "output_type": "display_data"
    },
    {
     "data": {
      "text/markdown": [
       "# Rio de Janeiro\n",
       "\n",
       "First up was Confeitaria Colombo, a legendary and picturesque café in central Rio. Known for its **<span style=\"color:green\">pastel de nata (custard tart)</span>** 🍳, Colombo serves a delightful treat that is hard to beat. The crispy, flaky pastry filled with creamy, sweet custard was an excellent start to the day. The café's historic Belle Époque ambiance added an extra layer of charm.\n",
       "\n",
       "Next, I visited Fogo de Chão, a quintessential Brazilian steakhouse in Botafogo. Famous for its **picanha (top sirloin)** 🥩, this churrascaria impressed with its perfectly grilled meat. The picanha was juicy, tender, and bursting with flavor, showcasing the high quality of Brazilian beef. The endless array of grilled meats served tableside made for a hearty and satisfying meal.\n",
       "\n",
       "For a more modern dining experience, I headed to Olympe in Lagoa. This Michelin-starred restaurant specializes in contemporary Brazilian cuisine. The highlight was their **moqueca de caju (cashew nut stew)** 🌰. This rich and creamy stew, made from **cashew nuts** 🌰 and complemented by fresh **seafood** 🐟 and **vegetables** 🥕, was an exquisite dish in an elegant and refined setting.\n",
       "\n",
       "Finally, I concluded my culinary tour at Aprazível, renowned for its breathtaking views and farm-to-table approach. Their signature dish, **galinhada (Brazilian chicken and rice)** 🍗, was outstanding. The tender and flavorful **chicken** 🍗, cooked with a mix of **rice** 🍚, **vegetables** 🥦, and **spices** 🌶, and served with **farofa (toasted cassava flour)** 🍠, perfectly highlighted the fresh, locally sourced ingredients. The lush, garden-like setting of the restaurant provided a serene end to the culinary adventure."
      ],
      "text/plain": [
       "<IPython.core.display.Markdown object>"
      ]
     },
     "metadata": {},
     "output_type": "display_data"
    }
   ],
   "source": [
    "for file in files:\n",
    "# Modify the prompt to highlight desserts in green and add emojis beside ingredients\n",
    "    prompt = f\"\"\"\n",
    "    Highlight any desserts in green and add a relevant emoji beside any ingredients in the following journal entry.\n",
    "    Include a big title in Markdown format with the name of the city for each different journal entry.\n",
    "\n",
    "    Journal entry:\n",
    "    {file}\n",
    "    \"\"\"\n",
    "\n",
    "    # Get the response from the LLM\n",
    "    response = get_llm_response(prompt)\n",
    "\n",
    "    # Display the response\n",
    "    display(Markdown(response))"
   ]
  },
  {
   "cell_type": "code",
   "execution_count": 33,
   "metadata": {},
   "outputs": [
    {
     "name": "stdout",
     "output_type": "stream",
     "text": [
      "Restaurant,Dish\n",
      "Confeitaria Colombo,pastel de nata\n",
      "Fogo de ChÃ£o,picanha\n",
      "Olympe,moqueca de caju\n",
      "AprazÃ­vel,galinhada\n"
     ]
    }
   ],
   "source": [
    "prompt = f\"\"\"Please extract a comprehensive list of the restaurants \n",
    "and their respective best dishes mentioned in the following journal entry. \n",
    "Ensure that each restaurant name is accurately identified and listed. \n",
    "\n",
    "Provide your answer in CSV format, ready to save. \n",
    "Exclude the \"```csv\" declaration, don't add spaces after the comma, include column headers.\n",
    "\n",
    "Format:\n",
    "Restaurant, Dish\n",
    "Res_1, Dsh_1\n",
    "...\n",
    "\n",
    "Journal entry:\n",
    "{rio}\n",
    "\"\"\"\n",
    "\n",
    "restaurants_csv_ready_string = get_llm_response(prompt)\n",
    "\n",
    "print(restaurants_csv_ready_string)"
   ]
  },
  {
   "cell_type": "code",
   "execution_count": 34,
   "metadata": {},
   "outputs": [
    {
     "name": "stdout",
     "output_type": "stream",
     "text": [
      "****************************************************************************************************\n",
      "Restaurant,Dish\n",
      "Sukiyabashi Jiro,Omakase sushi\n",
      "Ichiran Ramen,Tonkotsu ramen\n",
      "Tsukiji Outer Market,Fresh sashimi and street food\n",
      "Narisawa,Innovative tasting menu\n",
      "Ginza Kojyu,Kaiseki (traditional multi-course meal)\n",
      "Akasaka Kikunoi,Kaiseki\n",
      "****************************************************************************************************\n",
      "\n",
      "\n",
      "\n",
      "****************************************************************************************************\n",
      "Restaurant,Dish\n",
      "The Test Kitchen,Pickled Fish Tacos\n",
      "La Colombe,Tuna La Colombe\n",
      "Gold Restaurant,Bobotie\n",
      "Harbour House,Grilled Kingklip\n",
      "The Pot Luck Club,Beef Tataki\n",
      "****************************************************************************************************\n",
      "\n",
      "\n",
      "\n",
      "****************************************************************************************************\n",
      "Restaurant,Dish\n",
      "Confeitaria Colombo,pastel de nata\n",
      "Fogo de Chão,picanha\n",
      "Olympe,moqueca de caju\n",
      "Aprazível,galinhada\n",
      "****************************************************************************************************\n",
      "\n",
      "\n",
      "\n"
     ]
    }
   ],
   "source": [
    "for file in files:\n",
    "\n",
    "    #Extract restaurants and display csv\n",
    "    prompt =  f\"\"\"Please extract a comprehensive list of the restaurants \n",
    "    and their respective best dishes mentioned in the following journal entry. \n",
    "    \n",
    "    Ensure that each restaurant name is accurately identified and listed. \n",
    "    Provide your answer in CSV format, ready to save.\n",
    "\n",
    "    Exclude the \"```csv\" declaration, don't add spaces after the \n",
    "    comma, include column headers.\n",
    "\n",
    "    Format:\n",
    "    Restaurant, Dish\n",
    "    Res_1, Dsh_1\n",
    "    ...\n",
    "\n",
    "    Journal entry:\n",
    "    {file}\n",
    "    \"\"\"\n",
    "    \n",
    "    print_llm_response(prompt)\n",
    "    print(\"\") # Prints a blank line!"
   ]
  },
  {
   "cell_type": "code",
   "execution_count": 35,
   "metadata": {},
   "outputs": [
    {
     "name": "stdout",
     "output_type": "stream",
     "text": [
      "****************************************************************************************************\n",
      "Restaurant,Neighborhood,Dish,Main Ingredient\n",
      "Sukiyabashi Jiro,Ginza,Omakase sushi,Sushi\n",
      "Ichiran Ramen,Shibuya,Tonkotsu ramen,Broth\n",
      "Tsukiji Outer Market,Tsukiji,Fresh sashimi and street food,Sashimi\n",
      "Narisawa,Minato,Innovative tasting menu,Local ingredients\n",
      "Ginza Kojyu,Ginza,Kaiseki,Seasonal ingredients\n",
      "Akasaka Kikunoi,Akasaka,Kaiseki,Seasonal ingredients\n",
      "****************************************************************************************************\n",
      "\n",
      "\n",
      "\n",
      "****************************************************************************************************\n",
      "Restaurant,Neighborhood,Dish,Main Ingredient\n",
      "The Test Kitchen,Woodstock,Pickled Fish Tacos,Fish\n",
      "La Colombe,Constantia,Tuna La Colombe,Tuna\n",
      "Gold Restaurant,Green Point,Bobotie,Minced Meat\n",
      "Harbour House,V&A Waterfront,Grilled Kingklip,Kingklip\n",
      "The Pot Luck Club,Woodstock,Beef Tataki,Beef\n",
      "****************************************************************************************************\n",
      "\n",
      "\n",
      "\n",
      "****************************************************************************************************\n",
      "Restaurant,Dish,Main Ingredient\n",
      "Confeitaria Colombo,pastel de nata,custard\n",
      "Fogo de Chão,picanha,top sirloin\n",
      "Olympe,moqueca de caju,cashew nut\n",
      "Aprazível,galinhada,chicken\n",
      "****************************************************************************************************\n",
      "\n",
      "\n",
      "\n"
     ]
    }
   ],
   "source": [
    "for file in files:\n",
    "\n",
    "    #Extract restaurants and display csv\n",
    "    prompt =  f\"\"\"Please extract the restaurant name and the neighborhood it is located in\n",
    "    and extract each dish and it's main ingredient mentioned in the following journal entry. \n",
    "    \n",
    "    Ensure that each restaurant name is accurately identified and listed. \n",
    "    Provide your answer in CSV format, ready to save.\n",
    "\n",
    "    Exclude the \"```csv\" declaration, don't add spaces after the \n",
    "    comma, include column headers.\n",
    "\n",
    "    Format:\n",
    "    Restaurant, Dish\n",
    "    Res_1, Dsh_1\n",
    "    ...\n",
    "\n",
    "    Journal entry:\n",
    "    {file}\n",
    "    \"\"\"\n",
    "    \n",
    "    print_llm_response(prompt)\n",
    "    print(\"\") # Prints a blank line!"
   ]
  },
  {
   "cell_type": "code",
   "execution_count": 36,
   "metadata": {},
   "outputs": [
    {
     "data": {
      "text/html": [
       "```html\n",
       "<p><span style=\"color: orange; font-weight: bold;\">Sukiyabashi Jiro</span>\n",
       "    Location: Ginza\n",
       "    Dish: <span style=\"color: blue; font-weight: bold;\">Omakase sushi</span>\n",
       "    Highlight: Impeccably crafted sushi made by the legendary Jiro Ono. Each piece is a masterclass in balance and flavor.</p>\n",
       "\n",
       "<p><span style=\"color: orange; font-weight: bold;\">Ichiran Ramen</span>\n",
       "    Location: Shibuya\n",
       "    Dish: <span style=\"color: blue; font-weight: bold;\">Tonkotsu ramen</span>\n",
       "    Highlight: A personal ramen booth for focused, uninterrupted enjoyment. Rich, creamy broth with perfectly cooked noodles.</p>\n",
       "\n",
       "<p><span style=\"color: orange; font-weight: bold;\">Tsukiji Outer Market</span>\n",
       "    Location: Tsukiji\n",
       "    Dish: <span style=\"color: blue; font-weight: bold;\">Fresh sashimi and street food</span>\n",
       "    Highlight: Vibrant market atmosphere. Indulge in ultra-fresh sashimi, grilled seafood, and other Japanese street food delights.</p>\n",
       "\n",
       "<p><span style=\"color: orange; font-weight: bold;\">Narisawa</span>\n",
       "    Location: Minato\n",
       "    Dish: <span style=\"color: blue; font-weight: bold;\">Innovative tasting menu</span>\n",
       "    Highlight: A fusion of French and Japanese techniques. Creative dishes with an emphasis on sustainability and local ingredients.</p>\n",
       "\n",
       "<p><span style=\"color: orange; font-weight: bold;\">Ginza Kojyu</span>\n",
       "    Location: Ginza\n",
       "    Dish: <span style=\"color: blue; font-weight: bold;\">Kaiseki (traditional multi-course meal)</span>\n",
       "    Highlight: Exquisite presentation and meticulous preparation. A journey through seasonal Japanese flavors.</p>\n",
       "\n",
       "<p><span style=\"color: orange; font-weight: bold;\">Akasaka Kikunoi</span>\n",
       "    Location: Akasaka\n",
       "    Dish: <span style=\"color: blue; font-weight: bold;\">Kaiseki</span>\n",
       "    Highlight: Elegant and serene setting. Seasonal ingredients transformed into artful, delicious courses.</p>\n",
       "```"
      ],
      "text/plain": [
       "<IPython.core.display.HTML object>"
      ]
     },
     "metadata": {},
     "output_type": "display_data"
    }
   ],
   "source": [
    "display(HTML(html_response))"
   ]
  },
  {
   "cell_type": "code",
   "execution_count": 37,
   "metadata": {},
   "outputs": [],
   "source": [
    "# Define the file path\n",
    "highlighted_texted_path = os.path.join(base_path, 'data/highlighted_text.html')"
   ]
  },
  {
   "cell_type": "code",
   "execution_count": 38,
   "metadata": {},
   "outputs": [],
   "source": [
    "# Write the HTML response to a file using the with statement\n",
    "with open(highlighted_texted_path, 'w') as f:\n",
    "    f.write(html_response)"
   ]
  },
  {
   "cell_type": "code",
   "execution_count": 39,
   "metadata": {},
   "outputs": [
    {
     "data": {
      "text/html": [
       "\n",
       "    <html>\n",
       "    <body>\n",
       "    <a href=\"C:/Users/usuar/Documents/Data analyst IronHack/Test projects/AIPythonDeepLearningAI\\data/highlighted_text.html\" download=\"C:/Users/usuar/Documents/Data analyst IronHack/Test projects/AIPythonDeepLearningAI\\data/highlighted_text.html\">\n",
       "        <button>Click here to download your file</button>\n",
       "    </a>\n",
       "    </body>\n",
       "    </html>\n",
       "    "
      ],
      "text/plain": [
       "<IPython.core.display.HTML object>"
      ]
     },
     "metadata": {},
     "output_type": "display_data"
    }
   ],
   "source": [
    "# Generate a download link for the file\n",
    "download_file(highlighted_texted_path)"
   ]
  },
  {
   "cell_type": "code",
   "execution_count": 42,
   "metadata": {},
   "outputs": [
    {
     "data": {
      "text/html": [
       "```html\n",
       "<p>My culinary adventure began at <span style=\"color: orange; font-weight: bold;\">Saint Peter</span>, a renowned seafood restaurant in Paddington. This place is a temple to Australian seafood, and the \"<span style=\"color: blue; font-weight: bold;\">Murray Cod</span>\" was a revelation. The fish, sourced from the Murray River, was perfectly cooked, with a crispy skin and tender, flaky flesh. It was served with a simple yet flavorful accompaniment of seasonal vegetables, allowing the quality of the fish to shine. The restaurant's dedication to sustainability and nose-to-tail seafood cooking added an educational aspect to the delicious meal.</p>\n",
       "\n",
       "<p>Next, I visited <span style=\"color: orange; font-weight: bold;\">Billy Kwong</span> in Potts Point, where celebrated chef Kylie Kwong puts a unique spin on modern Australian cuisine using native ingredients. The standout dish here was the \"<span style=\"color: blue; font-weight: bold;\">Crispy Skin Duck with Davidsonâ€™s Plum Sauce</span>.\" The duck was cooked to perfection, with a rich, flavorful meat and delightfully crispy skin, complemented by the tart and slightly sweet Davidsonâ€™s plum sauce. This dish was a perfect example of how traditional recipes can be elevated with local, indigenous ingredients, creating something both familiar and new.</p>\n",
       "\n",
       "<p>In search of a true Australian pub experience, I headed to <span style=\"color: orange; font-weight: bold;\">The Lord Nelson Brewery Hotel</span> in The Rocks. This historic pub serves up hearty, classic Australian fare, and the \"<span style=\"color: blue; font-weight: bold;\">Roast Lamb</span>\" was exactly what I was craving. The lamb, roasted to tender perfection, was served with a medley of root vegetables and a rich gravy, making for a comforting and satisfying meal. Paired with one of their house-brewed ales, it was a quintessential Aussie pub experience that I would highly recommend.</p>\n",
       "\n",
       "<p>I couldn't miss out on trying some of the famous Australian barbecue, so I headed to <span style=\"color: orange; font-weight: bold;\">Vic's Meat Market</span> at the Sydney Fish Market. The \"<span style=\"color: blue; font-weight: bold;\">BBQ Beef Brisket</span>\" was a highlight, slow-cooked to achieve a melt-in-the-mouth texture, and served with a tangy barbecue sauce. The smoky, rich flavor of the brisket was enhanced by the vibrant, outdoor setting of the market, where the aroma of grilling meat filled the air.</p>\n",
       "\n",
       "<p>To round off my exploration of local cuisine, I visited <span style=\"color: orange; font-weight: bold;\">Bennelong</span>, located within the iconic Sydney Opera House. This fine dining restaurant celebrates Australian produce in every dish. The \"<span style=\"color: blue; font-weight: bold;\">Sydney Rock Oysters</span>\" were an exquisite start to the meal, served with a delicate vinaigrette that highlighted their briny freshness. The oysters, sourced from local waters, were plump and succulent, offering a pure taste of the sea.</p>\n",
       "```"
      ],
      "text/plain": [
       "<IPython.core.display.HTML object>"
      ]
     },
     "metadata": {},
     "output_type": "display_data"
    }
   ],
   "source": [
    "# Define the file path\n",
    "sidney_path = os.path.join(base_path, 'data/journal_sidney.txt')\n",
    "\n",
    "sidney = read_journal(sidney_path)\n",
    "\n",
    "# Modify the prompt below\n",
    "prompt = f\"\"\"\n",
    "Given the following journal entry from a food critic, identify the \n",
    "restaurants and their best dishes. Highlight and bold each restaurant \n",
    "(in orange) and best dish (in blue) within the original text. \n",
    "\n",
    "Provide the output as HTML suitable for display in a Jupyter notebook. \n",
    "\n",
    "Journal entry:\n",
    "{sidney}\n",
    "\"\"\"\n",
    "\n",
    "html_sydney = get_llm_response(prompt)\n",
    "display(HTML(html_sydney))"
   ]
  },
  {
   "cell_type": "code",
   "execution_count": 44,
   "metadata": {},
   "outputs": [
    {
     "data": {
      "text/html": [
       "\n",
       "    <html>\n",
       "    <body>\n",
       "    <a href=\"C:/Users/usuar/Documents/Data analyst IronHack/Test projects/AIPythonDeepLearningAI\\data/highlighted_sidney.html\" download=\"C:/Users/usuar/Documents/Data analyst IronHack/Test projects/AIPythonDeepLearningAI\\data/highlighted_sidney.html\">\n",
       "        <button>Click here to download your file</button>\n",
       "    </a>\n",
       "    </body>\n",
       "    </html>\n",
       "    "
      ],
      "text/plain": [
       "<IPython.core.display.HTML object>"
      ]
     },
     "metadata": {},
     "output_type": "display_data"
    }
   ],
   "source": [
    "# Define the file path\n",
    "highlighted_sidney_path = os.path.join(base_path, 'data/highlighted_sidney.html')\n",
    "\n",
    "# Write the HTML response to a file using the with statement\n",
    "with open(highlighted_sidney_path, 'w') as f:\n",
    "    f.write(html_sydney)\n",
    "\n",
    "# Generate a download link for the file\n",
    "download_file(highlighted_sidney_path)"
   ]
  }
 ],
 "metadata": {
  "kernelspec": {
   "display_name": "Python 3",
   "language": "python",
   "name": "python3"
  },
  "language_info": {
   "codemirror_mode": {
    "name": "ipython",
    "version": 3
   },
   "file_extension": ".py",
   "mimetype": "text/x-python",
   "name": "python",
   "nbconvert_exporter": "python",
   "pygments_lexer": "ipython3",
   "version": "3.12.6"
  }
 },
 "nbformat": 4,
 "nbformat_minor": 2
}
